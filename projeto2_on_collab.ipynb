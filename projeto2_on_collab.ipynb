{
  "nbformat": 4,
  "nbformat_minor": 0,
  "metadata": {
    "accelerator": "GPU",
    "colab": {
      "name": "projeto2_on_collab.ipynb",
      "provenance": [],
      "collapsed_sections": [],
      "include_colab_link": true
    },
    "kernelspec": {
      "display_name": "Julia 1.4",
      "language": "julia",
      "name": "julia-1.4"
    },
    "language_info": {
      "file_extension": ".jl",
      "mimetype": "application/julia",
      "name": "julia",
      "version": "1.4.2"
    }
  },
  "cells": [
    {
      "cell_type": "markdown",
      "metadata": {
        "id": "view-in-github",
        "colab_type": "text"
      },
      "source": [
        "<a href=\"https://colab.research.google.com/github/Huebr/OtimizacaoIrrestrita/blob/main/projeto2_on_collab.ipynb\" target=\"_parent\"><img src=\"https://colab.research.google.com/assets/colab-badge.svg\" alt=\"Open In Colab\"/></a>"
      ]
    },
    {
      "cell_type": "markdown",
      "metadata": {
        "id": "qBRC3qiA8rC7"
      },
      "source": [
        "#Programação Não Linear - Segundo Projeto Computacional\n",
        "**Universidade Federal do Ceará**\n",
        "Professor: RICARDO COELHO\n",
        "Alunos: MARCIO BARROS OLIVEIRA DE SOUZA, \n",
        "        PAULINO CARDIAL RABELO e \n",
        "        PEDRO JORGE DE ABREU FIGUEREDO"
      ]
    },
    {
      "cell_type": "markdown",
      "metadata": {
        "id": "swQwKFem9zT3"
      },
      "source": [
        "#Introdução\n",
        "\n",
        "Este trabalho consiste no desenvolvimento computacional de métodos de otimização não linear irrestrita. Dentre eles apresentamos o Método de Newton, Gradiente Descente, quase-newton Broyden, Fletcher, Goldfarb e Shanno(BFGS) e Método do Gradiente Conjugado Polak e Ribiére (PR). Primeiramente, apresentamos um pouco sobre o ambiente computacional usado. Em seguida, mostramos a implementação dos métodos em conjunto com um breve resumo de cada um deles. Nas seções \"Modo de Usar\" e \"Parâmetros dos Métodos\" mostramos como chamar os métodos e quais os parâmetros implementados. Por fim, fazemos um análise simples encima de um conjunto de dados disponibilizados para o desenvolvimento desta atividade.\n",
        "\n",
        "\n",
        "#Instalação Ambiente\n",
        "\n",
        "No desenvolvimento desta atividade íremos utilizar Julia como linguagem de implementação pelo seu facil uso e vasto conjunto de bibliotecas que oferecem suporte a otimização matemática. Para facilitar a distribuição fornecemos um notebook Jupyter que colocamos pode ser usado no Colab Google. Veja que facilmente podemos exportar o mesmo para o uso local.\n",
        "\n",
        "Para podermos executar corretamente no ambiente Colab temos que executar a seguinte célula e reiniciar a aba do navegador aplicando \"F5\" quando a célula terminar de instalar o kenerl Julia. No caso do uso local basta ter a aplicação Jupyter Notebook (,no Windows Anaconda) e uma distribuição Julia 1.4.2 ou mais recente."
      ]
    },
    {
      "cell_type": "code",
      "metadata": {
        "id": "PMGwZ7aFJL8Y",
        "outputId": "47ba37a1-84ad-4195-d040-70a87a2cce0b",
        "colab": {
          "base_uri": "https://localhost:8080/",
          "height": 89
        }
      },
      "source": [
        "# Installation cell\n",
        "%%shell\n",
        "if ! command -v julia 3>&1 > /dev/null\n",
        "then\n",
        "    wget 'https://julialang-s3.julialang.org/bin/linux/x64/1.4/julia-1.4.2-linux-x86_64.tar.gz' \\\n",
        "        -O /tmp/julia.tar.gz\n",
        "    tar -x -f /tmp/julia.tar.gz -C /usr/local --strip-components 1\n",
        "    rm /tmp/julia.tar.gz\n",
        "fi\n",
        "julia -e 'using Pkg; pkg\"add IJulia; precompile;\"'\n",
        "echo 'Done'"
      ],
      "execution_count": null,
      "outputs": [
        {
          "output_type": "display_data",
          "data": {
            "text/latex": "Unrecognized magic \\texttt{\\%\\%shell}.\n\nJulia does not use the IPython \\texttt{\\%magic} syntax.   To interact with the IJulia kernel, use \\texttt{IJulia.somefunction(...)}, for example.  Julia macros, string macros, and functions can be used to accomplish most of the other functionalities of IPython magics.\n\n",
            "text/markdown": "Unrecognized magic `%%shell`.\n\nJulia does not use the IPython `%magic` syntax.   To interact with the IJulia kernel, use `IJulia.somefunction(...)`, for example.  Julia macros, string macros, and functions can be used to accomplish most of the other functionalities of IPython magics.\n",
            "text/plain": [
              "  Unrecognized magic \u001b[36m%%shell\u001b[39m.\n",
              "\n",
              "  Julia does not use the IPython \u001b[36m%magic\u001b[39m syntax. To interact with the IJulia\n",
              "  kernel, use \u001b[36mIJulia.somefunction(...)\u001b[39m, for example. Julia macros, string\n",
              "  macros, and functions can be used to accomplish most of the other\n",
              "  functionalities of IPython magics."
            ]
          },
          "metadata": {
            "tags": []
          }
        }
      ]
    },
    {
      "cell_type": "markdown",
      "metadata": {
        "id": "SB0btFkyAXdb"
      },
      "source": [
        "#Dependências\n",
        "\n",
        "As depências a seguir devem ser instaladas para permitir importar as bibliotecas que são usadas neste trabalho."
      ]
    },
    {
      "cell_type": "code",
      "metadata": {
        "id": "iIxu4TjlJnBG",
        "outputId": "f663d058-850e-4a20-8ecc-273de80c0851",
        "colab": {
          "base_uri": "https://localhost:8080/",
          "height": 348
        }
      },
      "source": [
        "9#Julia 1.4 Environment\n",
        "using Pkg\n",
        "pkg\"add ForwardDiff; precompile;\"\n",
        "pkg\"add Plots; precompile;\"\n",
        "pkg\"add PyPlot; precompile;\""
      ],
      "execution_count": null,
      "outputs": [
        {
          "output_type": "stream",
          "text": [
            "\u001b[32m\u001b[1m  Resolving\u001b[22m\u001b[39m package versions...\n",
            "\u001b[32m\u001b[1m   Updating\u001b[22m\u001b[39m `~/.julia/environments/v1.4/Project.toml`\n",
            "\u001b[90m [no changes]\u001b[39m\n",
            "\u001b[32m\u001b[1m   Updating\u001b[22m\u001b[39m `~/.julia/environments/v1.4/Manifest.toml`\n",
            "\u001b[90m [no changes]\u001b[39m\n",
            "\u001b[32m\u001b[1mPrecompiling\u001b[22m\u001b[39m project...\n",
            "\u001b[32m\u001b[1m  Resolving\u001b[22m\u001b[39m package versions...\n",
            "\u001b[32m\u001b[1m   Updating\u001b[22m\u001b[39m `~/.julia/environments/v1.4/Project.toml`\n",
            "\u001b[90m [no changes]\u001b[39m\n",
            "\u001b[32m\u001b[1m   Updating\u001b[22m\u001b[39m `~/.julia/environments/v1.4/Manifest.toml`\n",
            "\u001b[90m [no changes]\u001b[39m\n",
            "\u001b[32m\u001b[1mPrecompiling\u001b[22m\u001b[39m project...\n",
            "\u001b[32m\u001b[1m  Resolving\u001b[22m\u001b[39m package versions...\n",
            "\u001b[32m\u001b[1m   Updating\u001b[22m\u001b[39m `~/.julia/environments/v1.4/Project.toml`\n",
            "\u001b[90m [no changes]\u001b[39m\n",
            "\u001b[32m\u001b[1m   Updating\u001b[22m\u001b[39m `~/.julia/environments/v1.4/Manifest.toml`\n",
            "\u001b[90m [no changes]\u001b[39m\n",
            "\u001b[32m\u001b[1mPrecompiling\u001b[22m\u001b[39m project...\n"
          ],
          "name": "stderr"
        }
      ]
    },
    {
      "cell_type": "markdown",
      "metadata": {
        "id": "aecu6riwGAq7"
      },
      "source": [
        "<h1>Funções Auxiliares</h1>\n",
        "\n",
        "Durante a implementação usamos uma biblioteca para calcular derivadas e gradientes através da técnica  de \"Automatic Differentiation\". Essa permite calcular com precisão e agilidade os métodos aqui utilizados. Além disso, usamos o framework Plots em conjunto com a engine PyPlot para gerar gráficos das funções testadas.\n",
        "\n"
      ]
    },
    {
      "cell_type": "code",
      "metadata": {
        "id": "7P2YdS1wGDhs",
        "outputId": "d138282e-fcb3-4ebb-daaa-b4b3734afe7e",
        "colab": {
          "base_uri": "https://localhost:8080/",
          "height": 35
        }
      },
      "source": [
        "import ForwardDiff  # calcula derivadas usando automatic differentiation in forward mode\n",
        "using LinearAlgebra #adiciona operações de algebra linear\n",
        "using Plots\n",
        "\n",
        "pyplot()#usa PyPlot como backend engine\n",
        "∇ = (h,x)->ForwardDiff.gradient(h,x) #gradiente de h(x)\n",
        "Hessian = (h,x)->ForwardDiff.hessian(h,x) # hessian de h(x)\n",
        "Df = (h,x)->ForwardDiff.derivative(h,x);  # primeira derivada de h'(x)\n",
        "D_2f = (h,x)->ForwardDiff.derivative(z->ForwardDiff.derivative(h,z),x) # segunda derivada h\"(x)"
      ],
      "execution_count": null,
      "outputs": [
        {
          "output_type": "execute_result",
          "data": {
            "text/plain": [
              "#72 (generic function with 1 method)"
            ]
          },
          "metadata": {
            "tags": []
          },
          "execution_count": 28
        }
      ]
    },
    {
      "cell_type": "markdown",
      "metadata": {
        "id": "IurzCvGXbZyO"
      },
      "source": [
        "Em seguida mostramos as implementações dos métodos de busca linear que serão usados neste trabalho. Uma analise desses foi feita no [Projeto 1](https://colab.research.google.com/drive/1Nt6ffNGr-3ej0gCgIW2sG5DYSnJ7Pywh?usp=sharing).\n",
        "\n",
        "> Bloco com recuo\n",
        "\n"
      ]
    },
    {
      "cell_type": "code",
      "metadata": {
        "id": "2gRkMFQeGLlR",
        "outputId": "8c3d01ee-fd8f-46e5-d2a5-20ef73bcf278",
        "colab": {
          "base_uri": "https://localhost:8080/",
          "height": 35
        }
      },
      "source": [
        "#função de busca linear\n",
        "function linear_search(f::Function,x::Vector,d::Vector,method::Function)\n",
        "    ϕ = t->f(x+t*d)\n",
        "    α = method(f,x,d)\n",
        "    return (ϕ(α),x+α*d)\n",
        "end\n",
        "\n",
        "function secao_aurea(f::Function,x::Vector,d::Vector;φ::Function = t->f(x+t*d),ρ = 1/2,ϵ = 1e-9)::Float64\n",
        "    θ_1 = (3 - sqrt(5))/2.0\n",
        "    θ_2 = (sqrt(5) - 1)/2.0\n",
        "    #Obtenção intervalo\n",
        "    a=0\n",
        "    b=2*ρ\n",
        "    s = b / 2\n",
        "    while(φ(b)<φ(s))\n",
        "        a = s\n",
        "        s = b\n",
        "        b *= 2\n",
        "    end\n",
        "    #Obtenção de t\n",
        "    u = a + θ_1*(b - a)\n",
        "    v = a + θ_2*(b - a)\n",
        "    while(b - a > ϵ)\n",
        "        if(φ(u)<φ(v))\n",
        "            b = v\n",
        "            v = u\n",
        "            u = a + θ_1*(b - a)\n",
        "        else\n",
        "            a = u\n",
        "            u = v\n",
        "            v = a + θ_2*(b - a)\n",
        "        end\n",
        "    end\n",
        "    return (u+v)/2\n",
        "end\n",
        "\n",
        "function secao_aurea(f::Function,x::Vector,d::Vector,(a,b)::Tuple{Float64,Float64};φ::Function = t->f(x+t*d),ϵ = 1e-9)::Float64\n",
        "    θ_1 = (3 - sqrt(5))/2.0\n",
        "    θ_2 = (sqrt(5) - 1)/2.0\n",
        "    #Obtenção de t\n",
        "    u = a + θ_1*(b - a)\n",
        "    v = a + θ_2*(b - a)\n",
        "    while(b - a > ϵ)\n",
        "        if(φ(u)< φ(v))\n",
        "            b = v\n",
        "            v = u\n",
        "            u = a + θ_1*(b - a)\n",
        "        else\n",
        "            a = u\n",
        "            u = v\n",
        "            v = a + θ_2*(b - a)\n",
        "        end\n",
        "    end\n",
        "    return (u+v)/2\n",
        "end\n",
        "\n",
        "function newton(f::Function,x::Vector,d::Vector;φ::Function = y->f(x+y*d),t::Float64=1.0,ϵ = 1e-9,n_iter=1000)::Float64\n",
        "   iter = 0\n",
        "   while (abs(Df(φ,t)) > ϵ && iter < n_iter)\n",
        "         t = t - (Df(φ,t)/D_2f(φ,t))\n",
        "         iter = iter + 1\n",
        "   end \n",
        "   return t\n",
        "end\n",
        "\n",
        "function armijo(f::Function,x::Vector,d::Vector;φ::Function = y->f(x+y*d),t::Float64= 1.0,η::Float64 = 0.25)\n",
        "    # f(x + td) > f(x) +t(∇f(x)⋅ d)\n",
        "    while (φ(t)>φ(0)+ η*t*(∇(f,x)⋅d))\n",
        "      t *=0.8\n",
        "    end\n",
        "    return t\n",
        "end"
      ],
      "execution_count": null,
      "outputs": [
        {
          "output_type": "execute_result",
          "data": {
            "text/plain": [
              "armijo (generic function with 1 method)"
            ]
          },
          "metadata": {
            "tags": []
          },
          "execution_count": 29
        }
      ]
    },
    {
      "cell_type": "markdown",
      "metadata": {
        "id": "2ITr02eo5yDE"
      },
      "source": [
        "#Métodos de Otimização Irrestrita"
      ]
    },
    {
      "cell_type": "markdown",
      "metadata": {
        "id": "fGbtF8pL590I"
      },
      "source": [
        "##Metodo da Gradiente\n"
      ]
    },
    {
      "cell_type": "markdown",
      "metadata": {
        "id": "cqmXeDiU21t5"
      },
      "source": [
        "O método gradiente é um método de descida de primeira ordem que gera uma sequência {$x_{k}$}, globalmente convergente, a partir de um $x_{0}$ qualquer, que irá convergir para $x^*$ .\n",
        "\n",
        "\\\n",
        "\n",
        "\\begin{equation}\n",
        "x_{k+1}=x_{k}+t_{k}d_{k}=x_{k}-t_{k}\\nabla f(x_{k})\n",
        "\\end{equation}\n",
        "$t_{k}>0$\n",
        "\n",
        "\n",
        "\n",
        "\n",
        "\n",
        "\n"
      ]
    },
    {
      "cell_type": "markdown",
      "metadata": {
        "id": "DWjhqAwJlweS"
      },
      "source": [
        "Na próxima imagem podemos ver um exemplo, onde começando do ponto $A$, e os vetores são os anti-gradiente do ponto, que vamos tomar como a direção para obter o próximo ponto."
      ]
    },
    {
      "cell_type": "markdown",
      "metadata": {
        "id": "T6G13qLqjqlp"
      },
      "source": [
        "<div>\n",
        "<img src=\"data:image/png;base64,iVBORw0KGgoAAAANSUhEUgAABR4AAAJRCAYAAAAj9qtwAAAgAElEQVR4XuzdfZBd5X0n+J8nNFZaSlr2dEdJJZHoXiNKjJmBmUBSvCiY64xnLBix7K5rVqot8NINBXI8gEdkEVWzIVO0PGJ48SRgU+rUwMxK81LBi8YoEzvVXm8kKAdmC89gIyMy3UgTxyFSbJSYtseCeOs2tFp97+2+95577r3n5aMql8vonOf8ns/vuf7jy3PO854f/ehHPwp/CBAgQIAAAQIECBAgQIAAAQIECBAgkKLAewSPKWoaigABAgQIECBAgAABAgQIECBAgACBeQHBo4VAgAABAgQIECBAgAABAgQIECBAgEDqAoLH1EkNSIAAAQIECBAgQIAAAQIECBAgQICA4NEaIECAAAECBAgQIECAAAECBAgQIEAgdQHBY+qkBiRAgAABAgQIECBAgAABAgQIECBAQPBoDRAgQIAAAQIECBAgQIAAAQIECBAgkLqA4DF1UgMSIECAAAECBAgQIECAAAECBAgQICB4tAYIECBAgAABAgQIECBAgAABAgQIEEhdQPCYOqkBCRAgQIAAAQIECBAgQIAAAQIECBAQPFoDBAgQIECAAAECBAgQIECAAAECBAikLiB4TJ3UgAQIECBAgAABAgQIECBAgAABAgQICB6tAQIECBAgQIAAAQIECBAgQIAAAQIEUhcQPKZOakACBAgQIECAAAECBAgQIECAAAECBASP1gABAgQIECBAgAABAgQIECBAgAABAqkLCB5TJzUgAQIECBAgQIAAAQIECBAgQIAAAQKCR2uAAAECBAgQIECAAAECBAgQIECAAIHUBQSPqZMakAABAgQIECBAgAABAgQIECBAgAABwaM1QIAAAQIECBAgQIAAAQIECBAgQIBA6gKCx9RJDUiAAAECBAgQIECAAAECBAgQIECAgODRGiBAgAABAgQIECBAgAABAgQIECBAIHUBwWPqpAYkQIAAAQIECBAgQIAAAQIECBAgQEDwaA0QIECAAAECBAgQIECAAAECBAgQIJC6gOAxdVIDEiBAgAABAgQIECBAgAABAgQIECAgeLQGCBAgQIAAAQIECBAgQIAAAQIECBBIXUDwmDqpAQkQIECAAAECBAgQIECAAAECBAgQEDxaAwQIECBAgAABAgQIECBAgAABAgQIpC4geEyd1IAECBAgQIAAAQIECBAgQIAAAQIECAgerQECBAgQIECAAAECBAgQIECAAAECBFIXEDymTmpAAgQIECBAgAABAgQIECBAgAABAgQEj9YAAQIECBAgQIAAAQIECBAgQIAAAQKpCwgeUyc1IAECBAgQIECAAAECBAgQIECAAAECgkdrgAABAgQIECBAgAABAgQIECBAgACB1AUEj6mTGpAAAQIECBAgQIAAAQIECBAgQIAAAcGjNUCAAAECBAgQIECAAAECBAgQIECAQOoCgsfUSQ1IgAABAgQIECBAgAABAgQIECBAgIDg0RogQIAAAQIECBAgQIAAAQIECBAgQCB1AcFj6qQGJECAAAECBAgQIECAAAECBAgQIEBA8GgNECBAgAABAgQIECBAgAABAgQIECCQuoDgMXVSAxIgQIAAAQIECBAgQIAAAQIECBAgIHi0BggQIECAAAECBAgQIECAAAECBAgQSF1A8Jg6qQEJECBAgAABAgQIECBAgAABAgQIEBA8WgMECBAgQIAAAQIECBAgQIAAAQIECKQuIHhMndSABAgQIECAAAECBAgQIECAAAECBAgIHq0BAgQIECBAgAABAgQIECBAgAABAgRSFxA8pk5qQAIECBAgQIAAAQIECBAgQIAAAQIEBI/WAAECBAgQIECAAAECBAgQIECAAAECqQsIHlMnNSABAgQIECBAgAABAgQIECBAgAABAoJHa4AAAQIECBAgQIAAAQIECBAgQIAAgdQFBI+pkxqQAAECBAgQIECAAAECBAgQIECAAAHBozVAgAABAgQIECBAgAABAgQIECBAgEDqAoLH1EkNSIAAAQIECBAgQIAAAQIECBAgQICA4NEaIECAAAECBAgQIECAAAECBAgQIEAgdQHBY+qkBiRAgAABAgQIECBAgAABAgQIECBAQPBoDRAgQIAAAQIECBAgQIAAAQIECBAgkLqA4DF1UgMSIECAAAECBAgQIECAAAECBAgQICB4tAYIECBAgAABAgQIECBAgAABAgQIEEhdQPCYOqkBCRAgQIAAAQIECBAgQIAAAQIECBAQPFoDBAgQIECAAAECBAgQIECAAAECBAikLiB4TJ3UgAQIECBAgAABAgQIECBAgAABAgQICB6tAQIECBAgQIAAAQIECBAgQIAAAQIEUhcQPKZOakACBAgQIECAAAECBAgQIECAAAECBASP1gABAgQIECBAgAABAgQIECBAgAABAqkLCB5TJzUgAQIECBAgQIAAAQIECBAgQIAAAQKCR2uAAAECBAgQIECAAAECBAgQIECAAIHUBQSPqZMakAABAgQIECBAgAABAgQIECBAgAABwaM1QIAAAQIECBAgQIAAAQIECBAgQIBA6gKCx9RJDUiAAAECBAgQIECAAAECBAgQIECAgODRGiBAgAABAgQIECBAgAABAgQIECBAIHUBwWPqpAYkQIAAAQIECBAgQIAAAQIECBAgQEDwaA0QIECAAAECBAgQIECAAAECBAgQIJC6gOAxdVIDEiBAgAABAgQIECBAgAABAgQIECAgeLQGCBAgQIAAAQIECBAgQIAAAQIECBBIXUDwmDqpAQkQIECAAAECBAgQIECAAAECBAgQEDxaAwQIECBAgAABAgQIECBAgAABAgQIpC4geEyd1IAECBAgQIAAAQIECBAgQIAAAQIECAgerQECBAgQIECAAAECBAgQIECAAAECBFIXEDymTmpAAgQIECBAgAABAgQIECBAgAABAgQEj9YAAQIECBAgQIAAAQIECBAgQIAAAQKpCwgeUyc1IAECBAgQIECAAAECBAgQIECAAAECgkdrgAABAgQIECBAgAABAgQIECBAgACB1AUEj6mTGpAAAQIECBAgQIAAAQIECBAgQIAAAcGjNUCAAAECBAgQIECAAAECBAgQIECAQOoCgsfUSQ1IgAABAgQIECBAgAABAgQIECBAgIDg0RogQIAAAQIECBAgQIAAAQIECBAgQCB1AcFj6qQGJECAAAECBIos8KEPfSi+8pWvnJni1n/0f8Q/+Ee/VuQpm1vGBC5536q4ZO2qjFWlHAIECBAgQIBAvYDg0aogQIAAAQIECi/wpz94K373299LZZ4PbLsuvvnVw4LHVDQNQmBlgf99dC0iAgQIECBAIMcCgsccN0/pBAgQIECAQGsCx+dOx75jp1q7uMFV61adc+af/ofP/LM48JlPCx4Ta7qRQPkEav9/oyrw2zPf7TqE4LbrxB5AgAABAk0EBI+WCAECBAgQIFB4gU6Dx7OBph99IKYf3XPmH41ddkWMP/F0IQzPDlgLMSGTIJARgX4FjxmZfuplCFRTJzUgAQIEuiYgeOwarYEJECBAgACBLAnsPnIylXKKHDymAlTSQYS2JW18i9P2iYYWobp02U8O/LX4n3/uJ7s0umEJECBAYCUBwaP1QYAAAQIECJRCIK3gcfaF52LvjVvPmBVpx2MpFoJJdiwgZG2f8Oax9y25yaFUSw1f/8Fb7aO2ccdVI4Nx5fBgG3e4lAABAgTSEhA8piVpHAIECBAgQCDTAt0KHquTnnz5RKbnrjgCBPorsOvCkSUFTDx5IEYvvby/RZXo6YLHEjXbVAkQyJyA4DFzLVEQAQIECBAg0A0BwWM3VI1JgEAzgdrPM/iXFc3E0v97wWP6pkYkQIBAqwKCx1alXEeAAAECBAjkWmD/8VNx7M3TqcyhdveSHY+psBqEQCEFdn10c8RrR5bMzf9nLG317KtHY+/DDy79h0PDMbn7/lTWhOAxFUaDECBAIJGA4DERm5sIECBAgACBvAl0M3iMq2+IyccezxuJegkQ6IHArssvjHhj8XMMvgtbj14XPJ4zEGMXXRLjEzen0qHtG4Zi/eBAKmMZhAABAgTaExA8tuflagIECBAgQCCnAoLHnDZO2QRyLlC7Q7qy4+6o7NiZ81mlW363g8d7Ng2nW7DRCBAgQKBlAcFjy1QuJECAAAECBPIscPjkXBw6MZfKFGqDBDseU2E1CIHCCUwffCamd358ybwEj/Vtnnc6+IXFvzhnICpbb4hK5ZpU1oTgMRVGgxAgQCCRgOAxEZubCBAgQIAAgbwJdDV4vHhzTO5/Km8k6iVAoMsC0/ueiOn7l+5u9H3HFoLHVYNR2XKd4LHL69PwBAgQ6IWA4LEXyp5BgAABAgQI9F3g+Nzp2HfsVCp11O14FDwu67rr9lvP/N3Yxgti/I67UumBQQjkQWDqjomY+dLTS0oVPAoe87B21UiAAIG0BASPaUkahwABAgQIEMi0QJrB49RN18fM888uzvfizTFx3+4YPX9jpg16XdzUZz8XMy+9uDR0cQhPr9vgeX0UqD3R2sEyjZtR96q1HY99XLUeTYAAgXQFBI/pehqNAAECBAgQyLDA7iMnU6muLng8b1NMfGZK8Fij2yh4nLjzU5xSWYUGyYOAg2Va61Kj4HHiVz8Zo6OjrQ2wwlUbVg/EtvVDHY9jAAIECBBIJiB4TObmLgIECBAgQCCHAoLH3jZtdnY29j7w6SUPFTz2tgee1l8BwWNr/lOPPBQzR19ZvHjNUEzcdlsqweNVI4Nx5fBga4W4igABAgRSFxA8pk5qQAIECBAgQCCrAoLH3namUfA4f2DElmt7W4inEeiTQG3w6PuOjRsheOzTAvVYAgQI9EBA8NgDZI8gQIAAAQIEsiGQVvA4/egDMf3onsVJnbcpKjvuFqg1aPOuT34i4q3TZ/7GATPZ+C2oovsCdf8/ERGCx+671z7Bjsfem3siAQIEzhYQPFoPBAgQIECAQGkE9h8/FcfeXAzBkk68LlBYOxKTz72cdLhC3zf1W78ZMy9/fckcJx0wU+iem9w7AoLHbKwEwWM2+qAKAgTKKyB4LG/vzZwAAQIECJROoFvBo5Nql19KTrYu3c/MhN8V8H3HbCyF7RuGYv3gQDaKUQUBAgRKKCB4LGHTTZkAAQIECJRVIK3gcfaF52LvjVvPMAoel19RDpgp66/NvAWP2VgDgsds9EEVBAiUV0DwWN7emzkBAgQIECidwOGTc3HoxFzH864NHqsD+nZbY1YHzHS83AyQQ4FG/x8x8eSBGL308hzOJt8l37NpON8TUD0BAgRyLiB4zHkDlU+AAAECBAi0LiB4bN3KlQQIJBfwfcfkdmnfKXhMW9R4BAgQaE9A8Niel6sJECBAgACBHAscnzsd+46dSmUGta9R2vGYCqtBCBRCQPCYnTYKHrPTC5UQIFBOAcFjOftu1gQIECBAoJQCgsdStt2kCfRcwPcde06+7AMFj9nphUoIECingOCxnH03awIECBAgUFqB3UdOpjJ3Ox5TYTQIgcIJTB98JqZ3fnzJvCo77o7Kjp2Fm2vWJ7Rh9UBsWz+U9TLVR4AAgUILCB4L3V6TI0CAAAECBGoFuhU8OjjCWiNAoCowve+JmL5/acjo/x/6szYEj/1x91QCBAicLSB4tB4IECBAgACBUgkIHkvVbpMl0HOBqTsmYuZLTy95rm/ALt+G+R2iB7+weMGqwahsuS4qlWs67t1VI4Nx5fBgx+MYgAABAgSSCwgek9u5kwABAgQIEMihQFrB49RN18fM888uCly8OSb3P5VDESUTIJCmwK6Pbo547YjgsUVUwWOLUC4jQIBATgUEjzltnLIJECBAgACBZAL7j5+KY2+eTnbzWXc1Ch4n7tsdo+dv7HhsAxAgkF8BB8u01zvBY3teriZAgEDeBASPeeuYegkQIECAAIGOBLoWPJ63KSY+MyV47Kg7biaQbwEHy7Tfv6lHHoqZo68s3rhqMCZ+9ZMxOjra/mA1d2zfMBTrBwc6HscABAgQIJBcQPCY3M6dBAgQIECAQA4F0goepx99IKYf3bMoIHhsazXsuv3WGNt4QYzfcVdb97mYQJYFGh0s4/uOK3esLnhcMxQTt90meMzyQlcbAQIE2hAQPLaB5VICBAgQIEAg/wKHT87FoRNzHU+kUfBY2XF3VLZc2/HYRR1g1yc/EfHW4mvugseidrq88/J9x/Z7X/2XEEv+rBmKyT1n/Uud9oecv+P7b/8ofuODIwnvdhsBAgQIpCUgeExL0jgECBAgQIBALgS6FjyuHYnKvXsEjyusgqnPfi5mXnpxyRWTjz2ei3WjSAKtCNQGj2OXXRHjTyw94bqVccp0TV3wODQck7vvT4Xgnk3DqYxjEAIECBBILiB4TG7nTgIECBAgQCCHAsfnTse+Y6c6rrxux6Pgsanp9Be/GNMHPr/kuok7P+W7mE3lXJAXAQfLtN8pwWP7Zu4gQIBAngQEj3nqlloJECBAgACBjgXSCh5nX3gu9t64dbGetSMx9rFx3yxcoUOzs7Ox94FPCx47XsUGyKqA4LH9zgge2zdzBwECBPIkIHjMU7fUSoAAAQIECHQs0LXgMSLGbrlH8NikQ77z2PESNkBGBep2QUeEg2WaN6tbweOG1QOxbf1Q8wJcQYAAAQJdFRA8dpXX4AQIECBAgEAWBXYfOdlxWXU7HgWPLZnWBo/Vm3znsSU6F2VcQPCYrQYJHrPVD9UQIFBeAcFjeXtv5gQIECBAoLQCaQSPVbza1yrtbmq+pBww09zIFfkUmLrp+ph5/tkzxTtYpr99vGpkMK4cHuxvEZ5OgAABAiF4tAgIECBAgACB0gkIHvvXcgfM9M/ek7sr4PuO3fVtd3TBY7tiridAgEB3BASP3XE1KgECBAgQIJBhAcFj/5rT6ICZypbrorLl2v4V5ckEUhCoDR4nnjwQo5densLIhkgiIHhMouYeAgQIpC8geEzf1IgECBAgQIBAxgX2Hz8Vx9483XGVXrVORlj9zuPkv/itZDe7i0AGBXzfMXtN2b5hKNYPDmSvMBURIECgZAKCx5I13HQJECBAgACBiG4Fj3Y4WV0EyikgeMxe3wWP2euJiggQKKeA4LGcfTdrAgQIECBQaoHDJ+fi0Im5jg1qD5MQPHZMagACuRTwfcfste2eTcPZK0pFBAgQKKGA4LGETTdlAgQIECBQdgHBY9lXgPkTSFdA8JiuZxqjCR7TUDQGAQIEOhcQPHZuaAQCBAgQIEAgZwLH507HvmOnOq66dsdjZcfdUdmxs+NxDUCAQH4Epvc9EdP3L/3dT758Ij8TKGilgseCNta0CBDInYDgMXctUzABAgQIECDQqYDgsVNB9xMgsCAwdcdEzHzp6SUggsf+rw/BY/97oAICBAhUBQSP1gEBAgQIECBQOoG0gsfaAyXseCzdUjJhArHr8gsj3ljc4Th22RUx/sTSIBJTY4Fdt9+69C/WDMXEbbfF6OhoR2Q/teqcuHl0bUdjuJkAAQIE0hEQPKbjaBQCBAgQIEAgZwK7j5zsuOK6k2zXjkTl3j1R2XJtx2MbgACB7AvMvno09m69Ykmh/gVE632rCx6HhmNy9/2tD7DMlRtWD8S29UMdj2MAAgQIEOhcQPDYuaERCBAgQIAAgRwKCB5z2DQlE8iYwPTBZ2J658cFjwn70q3g8aqRwbhyeDBhVW4jQIAAgTQFBI9pahqLAAECBAgQyI1AGsHj7AvPxd4bty7Oee1IjH1sPMbvuCs3DgolQCC5QN2u54jwfcfWPQWPrVu5kgABAnkVEDzmtXPqJkCAAAECBDoS2H/8VBx783RHY9QFjxExdss9gsc2VGuDh8nHHm/jbpcS6K/Aro9ujnjtyJIiBI+t90Tw2LqVKwkQIJBXAcFjXjunbgIECBAgQKAjAcFjR3yp3Dz12c/FzEsvLg1tBI+p2BqkNwK7LhxZ8iDfd2zPvVvB4/YNQ7F+cKC9YlxNgAABAl0REDx2hdWgBAgQIECAQNYF0ggeq3OsDR7i6hvCrr3Wuj87Oxt7H/j0kosn7vxUjJ6/sbUBXEWgjwK+79g5fm3wOHbJZTE+cXNHA3//7R/F+NhawWNHim4mQIBAegKCx/QsjUSAAAECBAjkSODwybk4dGKu44oFj8kJGwWPYxsv8Kp6clJ39lDA9x07w54/EfzhBxcHOWcgxi66JJXg8Tc+uHQnameVupsAAQIEOhEQPHai514CBAgQIEAgtwKCx2y0btcnPxHx1uK3NgWP2eiLKpoLCB6bG610RaPgsbL1hqhUruls4Ii4Z9Nwx2MYgAABAgTSERA8puNoFAIECBAgQCBnAsfnTse+Y6c6rrpux+PFm2Ny/1Mdj1uWAXznsSydLt48fd+xs57Ov6p+8AuLg6wajMqW6wSPnbG6mwABApkTEDxmriUKIkCAAAECBHohIHjshXLzZ0x/8YsxfeDzSy70ncfmbq7ov4Dgsf89WK4COx6z2xuVESBQPgHBY/l6bsYECBAgQIDAuwK7j5zs2GLqputj5vlnz4wz8eSBGL308o7HLcsAjb7zOL/racu1ZSEwzxwKeM06u03bsHogtq0fym6BKiNAgEDJBASPJWu46RIgQIAAAQKLAt0IHis77o7Kjp2Y2xDwncc2sFyaCQHBYyba0LAIwWN2e6MyAgTKKSB4LGffzZoAAQIECBCICMFjNpbB1G/9Zsy8/PX5YiYfezwbRamCwAoCta9Zj112RYw/8TSzDAhcNTIYVw4PZqASJRAgQIBAVUDwaB0QIECAAAECpRVII3is3flkx2Npl5OJl0jA9x2z22zBY3Z7ozICBMopIHgsZ9/NmgABAgQIEIiI/cdPxbE3T3dkIXjsiM/NBHInMPvCc7H3xq1L6vZt1+y0UfCYnV6ohAABAlUBwaN1QIAAAQIECJRWoBvBo1cuS7ucTLwkAr7vmO1Gb98wFOsHB7JdpOoIECBQIgHBY4mabaoECBAgQIDAUoHDJ+fi0Im5jlhqdz8JHjvidDOBzAvsuvzCiDdOLKlz8uWl/zvzkyhwgfdsGi7w7EyNAAEC+RMQPOavZyomQIAAAQIEUhIQPKYEaRgCJRGYffVo7N16xZLZ+q5rtpoveMxWP1RDgAABwaM1QIAAAQIECJRW4Pjc6dh37FRH82/0vTe7nzoidTOBzApM73sipu/fKXhMoUPTB5+JypZrUxhp6RCCx9RJDUiAAIGOBASPHfG5mQABAgQIEMizQBrBY3X+tSfcCh7zvCrUTmB5gak7JmLmS08vucDvPdmK2XX7rUtvHBqOyd33JxvsrLsEjx0TGoAAAQKpCggeU+U0GAECBAgQIJA3gd1HTnZccm3wGFffEJOPPd7xuAYgQCBbAr7vmE4/5l9Zf/jBxcHOGYixiy6J8YmbO36A4LFjQgMQIEAgVQHBY6qcBiNAgAABAgTyJiB4zFvH1EugfwK1/5LB9x2T9aJbweOG1QOxbf1QsqLcRYAAAQJdERA8doXVoAQIECBAgEBeBASP2evU2a9gTtz5qRg9f2P2ilRR6QSq3ySc3vnxJfMWPCZbBvOWB7+wePOqwahsuS4qlWuSDfjuXVeNDMaVw4MdjeFmAgQIEEhXQPCYrqfRCBAgQIAAgZwJdCV4vHhzTO5/KmcS2Sh31yc/EfHW6TPFjG28IMbvuCsbxami1AK+75he+wWP6VkaiQABAlkXEDxmvUPqI0CAAAECBLoqsP/4qTj25mLQleRhUzddHzPPP7t4q+AxCeP8PVOPPBQzR19Zcr/vZSbmdGOKAr7vmB6m4DE9SyMRIEAg6wKCx6x3SH0ECBAgQIBAVwW6FTxO3LfbK8IJOjf12c/FzEsvLrnT69YJIN2SuoDvO6ZH2q3gcfuGoVg/OJBeoUYiQIAAgY4FBI8dExqAAAECBAgQyLPA4ZNzcejEXEdTqNvxeN6mmPjMlOAxgers7GzsfeDTgscEdm7pnsDsC8/F3hu3LnmA7zsm967b2bxqMCZ+9ZMxOjqafNCIEDx2xOdmAgQIdEVA8NgVVoMSIECAAAECeRFII3icfvSBmH50z+KUz9sU86HElmvzwpCpOn3nMVPtUExE1P3GI2Ly5RNsEgrUBY9rhmLitts6Dh7v2TScsCK3ESBAgEC3BASP3ZI1LgECBAgQIJALgeNzp2PfsVMd1Sp47Iiv7mbfeUzX02idC9TtahY8doRa/Y1XD406c4L9mqGY3HPWv7xJOLrgMSGc2wgQINBFAcFjF3ENTYAAAQIECGRfoCvB49qRqNy7x47HhO33nceEcG7rmoDvO3aNNtWBBY+pchqMAAECqQgIHlNhNAgBAgQIECCQV4FuBI9jl10R4088nVeSvtfd6DuPlS3XCXL73plyFtDoNeuJJw/E6KWXlxMkw7MWPGa4OUojQKC0AoLH0rbexAkQIECAAIEFgd1HTnaEUXvwhOCxI875m33nsXNDI6Qj4PuO6Th2e5QNqwdi2/qhbj/G+AQIECDQpoDgsU0wlxMgQIAAAQLFE0g7eKwKOXiis3Uy9Vu/GeOf+NXOBnE3gRQEal+z9i8WUkDtwhBXjQzGlcODXRjZkAQIECDQiYDgsRM99xIgQIAAAQKFEOg0eKwi1IYTgsdCLA2TIFD3254/sX7HTjIZExA8ZqwhyiFAgMC7AoJHS4EAAQIECBAovcD+46fi2JunO3IQPHbE52YCmRTwfcdMtqVhUYLH/PRKpQQIlEtA8FiufpstAQIECBAg0EBA8GhZECDQSGDXRzdHvHZkyV/ZzZzNtbJ9w1CsHxzIZnGqIkCAQIkFBI8lbr6pEyBAgAABAu8IHD45F4dOzHXEYcdjR3xuJpBJgdrftdesM9mm+aIEj9ntjcoIECi3gOCx3P03ewIECBAgQKBLwePEkwdi9NLL+RIgkFOB6YPPxPTOjy+pXvCY3Wbes2k4u8WpjAABAiUWEDyWuPmmToAAAW1QmAUAACAASURBVAIECLwjcHzudOw7dqojjqmbro+Z5589M4bgsSNONxPou0Cj7zt6zTqdtuy6/db5gSYfezydASNC8JgapYEIECCQqoDgMVVOgxEgQIAAAQJ5FBA85rFraibQXYFdl18Y8caJJQ8RPHZuPr+T9OAXFgdaNRiVLddFpXJNR4MLHjviczMBAgS6JiB47BqtgQkQIECAAIG8CHQjeIzzNsXEZ6Zi9PyNeWFQJwEC7wrMvno09m69YomH16zTWR5TjzwUM0dfWRxszVBM3HZbjI6OdvQAwWNHfG4mQIBA1wQEj12jNTABAgQIECCQJ4HdR052VG7da5nnbYr5oGLLtR2N6+ZFgYXXM+d3R3G1NLooML3viZi+f6fgsQvG3QgeN6weiG3rh7pQrSEJECBAoFMBwWOngu4nQIAAAQIECiGQevC4diQq9+4RkKWwOhYCx4WhxjZeEON33JXCyIYg0Fhg10c3R7x2ZMlfes06ndVS+3uONUMxuWdPR4NfNTIYVw4PdjSGmwkQIECgOwKCx+64GpUAAQIECBDImYDgMbsNq9shlfKhFNmducr6JbDrwpEljx677IoYf+LpfpVTqOfWBY9DwzG5+/6O5ih47IjPzQQIEOiqgOCxq7wGJ0CAAAECBPIisP/4qTj25unE5c6+8FzsvXHr4v1rR2LsY+N25iUWXbxx+otfjOkDn18y0sSdn/L9zBRsDVEvMH/4yc6PL/kL33dMb6UIHtOzNBIBAgTyICB4zEOX1EiAAAECBAh0XSD14DEixm65R/CYQudmZ2dj7wOfXjKS161TgDVEQ4G677VWd9i+vPR0a3TJBboRPG7fMBTrBweSF+VOAgQIEOiagOCxa7QGJkCAAAECBPIkcPjkXBw6MZe45Lodj4LHxJaNbtz1yU9EvLV0R+rkY4+n+gyDEagKTN10fcw8/+wSDMFjemtD8JiepZEIECCQBwHBYx66pEYCBAgQIECg6wKdBo/VAmu/CxdX3xDCsXRaN/XZz8XMSy8uGczr1unYGmWpQO3v2GvW6a6QusOiLrksxidu7ugh92wa7uh+NxMgQIBA9wQEj92zNTIBAgQIECCQI4Hjc6dj37FTHVUseOyIb8WbG71uXdlynVPDu0deypEbvWYteOzeUqjuZB676BLBY/eIjUyAAIG+Cwge+94CBRAgQIAAAQJZEBA8ZqELK9dQ+7q17zxmv2d5q9D3HfPWsXfqteMxn31TNQEC5RAQPJajz2ZJgAABAgQItCCw+8jJFq5a/pLaHY8TTx6I0Usv72hMNy8KTP3Wb8bMy19fQuJVdiskTYHa3/DYZVfE+BNPp/kIY3VBQPDYBVRDEiBAICUBwWNKkIYhQIAAAQIE8i8geMx2D6e/+MWofOQj2S5SdbkW8H3H/LVvw+qB2LZ+KH+Fq5gAAQIlERA8lqTRpkmAAAECBAg0F+g0eKw9DdeOx+bmriCQFQGvWWelE+3VcdXIYFw5PNjeTa4mQIAAgZ4JCB57Ru1BBAgQIECAQNYF0g4eHUqR9Y6rj8CiQN3hUBEx+fIJRBkXEDxmvEHKI0Cg9AKCx9IvAQAECBAgQIDAgsD+46fi2JunE4PU7ngUPCamdCOBngpMH3wmpnd+fMkz/X572oLEDxM8JqZzIwECBHoiIHjsCbOHECBAgAABAnkQ6DR4rH1VU3CRh66rkUCE16zzuwq2bxiK9YMD+Z2AygkQIFBwAcFjwRtsegQIECBAgEDrAodPzsWhE3Ot31BzZW144UTcxJRuJNBTgV0f3Rzx2pElz/SadU9bkPhhTrROTOdGAgQI9ERA8NgTZg8hQIAAAQIE8iDQafA4+8JzsffGrWemKnjMQ9fVSCDCadb5XQWCx/z2TuUECJRDQPBYjj6bJQECBAgQINCCwPG507Hv2KkWrmx8ieAxMZ0bCfRNoNFr1j6T0J127Lr91iUDTz72eMcPEjx2TGgAAgQIdFVA8NhVXoMTIECAAAECeRJIO3iszt3rmnlaAWoto4DXrHvX9drgMYaGY3L3/R0VIHjsiM/NBAgQ6LqA4LHrxB5AgAABAgQI5Elg95GTHZVb+8pmXH1DpLGrp6OiCnzz2UEG5wI3uotT85p1F3Frhk47eNyweiC2rR/q3QQ8iQABAgTaFhA8tk3mBgIECBAgQKDIAoLHfHR39tWjsffhB5cUO3Hnp2L0/I35mIAqMyHgNevetaHuN3vOQIxddEmMT9ycuAjBY2I6NxIgQKBnAoLHnlF7EAECBAgQIJAHAcFjHrr0To21u6fGNl4Q43fclZ8JqLTvAl6z7l0LuhE8XjUyGFcOD/ZuEp5EgAABAm0LCB7bJnMDAQIECBAgUGSBf/L1E/HjP/aexFOse9X64s0xuf+pxOO5cXmBqUceipmjryy5wOvWVkw7Al6zbkers2unDz4T0we/sDjIqsGobLkuKpVrEg8seExM50YCBAj0TEDw2DNqDyJAgAABAgTyILD/+Kk49ubpxKUKHhPTtX2j163bJnPDWQJes+7tchA89tbb0wgQIJAVAcFjVjqhDgIECBAgQCATAp0Gj1M3XR8zzz+7OJeLN8fEfbt9e7BL3fW6dZdgSzBso+DRKfTda3w3gsftG4Zi/eBA94o2MgECBAh0LCB47JjQAAQIECBAgECRBA6fnItDJ+YST6kueDxvU0x8ZkrwmFh05Ru9bt0l2BIMW7s7eeyyK2L8iadLMPP+TLEbweM9m4b7MxlPJUCAAIGWBQSPLVO5kAABAgQIECiDgOAxX132unW++pWVar1m3ftO1P1LgjVDMXHbbTE6Opq4GMFjYjo3EiBAoGcCgseeUXsQAQIECBAgkAeB43OnY9+xU4lLrQs0ztsUlR13R2XLtYnHdOPKAl63tkLaFfCadbti6V8/tfe3o/LhawSP6dMakQABApkSEDxmqh2KIUCAAAECBPotkHrwuHYkKvfuETx2sbFn76Qa23hBjN9xVxefZugiCHjNughdjLDjsRh9NAsCBIotIHgsdn/NjgABAgQIEEggsPvIyQR3vXPL7AvPxd4bt56533fjElO2fGP1devR8ze2fL0Lyy3gNeti9H/D6oHYtn6oGJMxCwIECBRYQPBY4OaaGgECBAgQIJBMQPCYzM1dBPIgUHcAVEQ4zToPnVta41Ujg3Hl8GD+ClcxAQIESiYgeCxZw02XAAECBAgQaC6QZvBYfZpQo7m5Kwj0SqD2Nev5b7Du2Nmrx3tOSgKCx5QgDUOAAIEuCwgeuwxseAIECBAgQCB/AvuPn4pjb55OXHhtsCF4TEzpRgKpCnjNOlXOvg4meOwrv4cTIECgZQHBY8tULiRAgAABAgTKIiB4LEunzbNsArX/UqA6f/9iIJ+rYPuGoVg/OJDP4lVNgACBEgkIHkvUbFMlQIAAAQIEWhM4fHIuDp2Ya+3iBlfZ8ZiYzo0EuiYwffCZmN758SXje826a9xdH9iJ1l0n9gACBAikIiB4TIXRIAQIECBAgECRBNIOHieePBCjl15eJCJzIZA7Aa9Z565lKxYseCxWP82GAIHiCggei9tbMyNAgAABAgQSChyfOx37jp1KeHdE7am5gsfElG4kkJqA16xTo+z7QN9/+0fxGx8c6XsdCiBAgACB5gKCx+ZGriBAgAABAgRKJiB4LFbDZ189GqPnbyzWpMymLQGvWbfFlfrF8/4Hv7A47qrBmHzo4Y6eY8djR3xuJkCAQM8EBI89o/YgAgQIECBAIE8Cu4+cTFxu7Y5H35FLTJn4xl2333rm3rGNF8T4HXclHsuN+ReYumMiZr709JKJ2Incu742Ch4rW66LSuWaREVsWD0Q29YPJbrXTQQIECDQWwHBY2+9PY0AAQIECBDIiUAnwWPdt+TO2xTz4eOWa3My+3yXueuTn4h46/SSSUw+9ni+J6X6jgS8Zt0RX8c3Tz3yUMwcfWVxnDVDMXHbbTE6Oppo7KtGBuPK4cFE97qJAAECBHorIHjsrbenESBAgAABAjkREDzmpFENypz67Odi5qUXl/zNxJ2favt16x+e+Hb8+ck/j5/Z9MH8Yqg8HCrT/0UgeOx/D1RAgACBfgkIHvsl77kECBAgQIBApgX2Hz8Vx95cumuu1YLrgo61I1G5d48dj60Cdnjd7Oxs7H34wSW7HpO8bn30+efijTdOxfkbz4/3nfeBDqtye78Edn10c8RrR5Y8fvLlE/0qp5TPPfvTB/MAQ8Mxufv+xBZ2PCamcyMBAgR6LiB47Dm5BxIgQIAAAQJ5EOgkeJx94bnYe+PWxWmuHYmxj437zmAPG9/prscf/Okfx/Hjx+OvDw/Hn3zrW3HRVR/qYfUelaZA7WvWvrmapm5rY6UdPG7fMBTrBwdae7irCBAgQKCvAoLHvvJ7OAECBAgQIJBVgcMn5+LQiblE5dUFjxExdss9gsdEmslumt/1+MCnl9zczq7HP/pPfxg/8ZM/Ees2Xhj/3/QX42//7b8T73nfcLJi3NU3Aa9Z941+yYPTDh6daJ2NvqqCAAECrQgIHltRcg0BAgQIECBQOoG0g8e4+oZwwElvl1Enh8ycHTaeHUL2dgae1qmAQ2U6FUznfsFjOo5GIUCAQB4FBI957JqaCRAgQIAAga4LHJ87HfuOnUr8nLrAQ/CY2DLpjUlft/7et47F7MzMmderq//75W+8HJf93b+ftBT39UHAbsc+oC/zyNrgceySy2J84ubEBdrxmJjOjQQIEOi5gOCx5+QeSIAAAQIECORBQPCYhy6tXGPS162/+dVnY91Pr1tyoMzzX/qPceHfuDDW/OyG/MOUZAaNgkeHyvS++bOvHn3nsKeFP+cMxNhFlwgee98KTyRAgEBfBASPfWH3UAIECBAgQCAPAruPnExcph2PielSvXHqkYdi5ugrLb/m/qPvnoyvfOUr8XM/93OxZs2a+Vre/qu340++9Sfx/ve/Pz7wC7+Yan0G655A7W9w7LIrYvyJp7v3QCO3LDA9/eWoVK5p+fqzL9yweiC2rR9KdK+bCBAgQKD3AoLH3pt7IgECBAgQIJATgVSDx4s3x+T+p3Iy8/KW+frRl+dPsf7pn/6ZJQg/+MH34zvf+U78ncpHyouTo5l7zTpHzWqz1KtGBuPK4cE273I5AQIECPRLQPDYL3nPJUCAAAECBDIv0EnwOHXT9THz/LNn5jjx5IEYvfTyzM+57AW+dOj/idGxsYavVFf/7ud+/ueXvIJddq+szt+hMlntTOd1CR47NzQCAQIEeikgeOyltmcRIECAAAECuRLYf/xUHHvzdKKaa4PHyo67o7JjZ6Kx3NQbgR/86R/HN77xjWV3NVZ3Q/7Z66+fOXSmN1V5SrsCdju2K5av6wWP+eqXagkQICB4tAYIECBAgAABAssICB7LtTT+6D/94fyEl/uOY/X7j1/9w6/GL/3iL8V73jfcEc66V74Rr1/wN+rGWO6fd/Swkt1st2OxG759w1CsHxwo9iTNjgABAgUSEDwWqJmmQoAAAQIECKQrcPjkXBw6MZdo0NpdVw62SMTY05u+961jTU+tfuO1P4q1532g47rW/fv9EeefH69fcumZsdb9/n+M+O534/WPbet4/LIOMH3wmZje+fEl07fbuDir4ftv/yh+44MjxZmQmRAgQKAEAoLHEjTZFAkQIECAAIFkAoLHZG55ues7f/Z6vP+n1vWl3Nrgcc3BZ2L1uT8meOywG16z7hAwB7ffs6mz3cY5mKISCRAgUCgBwWOh2mkyBAgQIECAQJoCx+dOx75jpxINOfvCc7H3xq1n7rXjMRFjV276wy//fvz563+6ZOzzL/pbcf4H/2ZXntdo0LODx/nQ8eAXIq66MuIvvxfxta/N3/Lmluvm//t7W67tWV15f5DXrPPeweb1Cx6bG7mCAAECWRIQPGapG2ohQIAAAQIEMiWQZvBYndjkyycyNb+yFVPd4fjV6S+tOO1fqvzdnuyCPDt4XHf7rS21QhC5MpPdji0to9xfJHjMfQtNgACBkgkIHkvWcNMlQIAAAQIE2hPYfeRkeze8e3XtjkfBYyLGVG/63X/zr5uO99fX/XT84jW/0vS6Ti9YCB6/u2Yo3vfwg4mGqwaRP9y4MX54/sZE9xftJrsdi9bR+vlsWD0Q29YPFX+iZkiAAIECCQgeC9RMUyFAgAABAgTSF0gaPFYrqQ1C7HhMvz+tjvjq1/9LvPrSf27p8uquxw/s33fm2oGjrzS87/XHHm863rK7Ga/+5Yif/dmIffubjtHKBac3XjAfQJb1tWy7HVtZJf25Zlftjt6h4ZjcfX+iYq4aGYwrhwcT3esmAgQIEOiPgOCxP+6eSoAAAQIECOREQPCYk0Y1KfM//Pt/F+e8/cOWJvPxQ4ebXtdK6FgdZNng8e9/JOLN70f8wR80fVaSC8r2WrbdjklWSffvmX31aOw9e0fvOQMxdtElMT5xc6KHCx4TsbmJAAECfRUQPPaV38MJECBAgACBrAvsP34qjr15OlGZdWHIxZtjcv9TicZyU2cCz/y7/fHX/urtlgZJK3hc8duN//gfvxM6/tc/ivjz77RUV5KLyrAT0m7HJCujN/c0Ch4rW2+ISuWaRAUIHhOxuYkAAQJ9FRA89pXfwwkQIECAAIGsCwges96h1up7+nd+J849/f2WLk4reKw+bMXw8R99MuKLX4r45jdbqqvVi6phY/WV67J8+9Fux1ZXRu+vmz74TExXT2xf+LNqMCpbrkscPG7fMBTrBwd6PxFPJECAAIHEAoLHxHRuJECAAAECBMogcPjkXBw6MZdoqlM3XR8zzz+7eO/Fm2Pivt0x6jCQRJ6d3PQHf3Aovvet11oa4sM/+GH8/AvPN722ldetWz2xuunDVrhgYVdjGQ+asduxk5XT/XvTDh6daN39nnkCAQIE0hYQPKYtajwCBAgQIECgUALH507HvmOnEs2pLng8b1NMfGZK8JhIs7ObTp48Gc99ebql7zx+9H/93+LcV4+eeWA3dw5Wn5PkVOuy7WpcrvuNdjtWdtwdlR07O1sw7k5FQPCYCqNBCBAgkGsBwWOu26d4AgQIECBAoNsCgsduC/du/Oqux7/49n9b9luPx48fj1+4cnP8whVX9a6oZq9jv1vJQtBY/Z/dDEJ7OvEOH9Zot2N1SKfHdwib4u1TjzwUM2efCr9mKCZuuy1GR0cTPcWOx0RsbiJAgEBfBQSPfeX3cAIECBAgQCDrAp0Ej3XByNqRqNy7Jypbrs36tAtb35EjR+LVl/7Lkp2PL730Upx6451drZOPPd7zua85+EysPvs7eDVho6CxcUvqdhRHhN2OPV++Kz5Q8JitfqiGAAEC/RAQPPZD3TMJECBAgACBXAnsPnIyUb2Cx0RsPbmpGkBW/zz9f/2r+MvvfqcvgePZE62Gj9XXrst0KEwnjbbbsRO93t276/Zblz5saDgmd9+fqIANqwdi2/qhRPe6iQABAgT6JyB47J+9JxMgQIAAAQI5EUgaPM6+8FzsvXHr4izXjsTYx8Zj/I67cjJzZRLIpoDdjtnsS21VaQaPV40MxpXDg/mYuCoJECBA4IyA4NFiIECAAAECBAg0EUgteIyIsVvuETxacQQ6ELDbsQO8HN8qeMxx85ROgECpBQSPpW6/yRMgQIAAAQKtCOw/fiqOvXm6lUvrrqk9dVfwmIjRTQTOCOy6/MKIN04sEfFtx+IvEMFj8XtshgQIFFNA8FjMvpoVAQIECBAgkKJAmsGjE3dTbIyhSicwve+JmL5/Z928/a6KvxS2bxiK9YMDxZ+oGRIgQKBgAoLHgjXUdAgQIECAAIH0BQ6fnItDJ+YSDVy741FAkojRTQTmBex2LO9CuGfTcHknb+YECBDIsYDgMcfNUzoBAgQIECDQG4Hjc6dj37FTiR5WGzxOPHkgRi+9PNFYbiJQZoFG33Ycu+yKGH/i6TKzlGbugsfStNpECRAomIDgsWANNR0CBAgQIEAgfYFOgsfa03cFj+n3x4jlEKgN8auz9nsqR++rsxQ8lqfXZkqAQLEEBI/F6qfZECBAgAABAl0SSHqydW3w6BCMLjWoC8Puuv3W+VErW66LypZru/AEQ7Yq0Gi3o99Sq3r5v27D6oHYtn4o/xMxAwIECJRQQPBYwqabMgECBAgQINC+gOCxfbM837EQOi7MYfKxx/M8ndzX3mi3o++l5r6tLU9A8NgylQsJECCQOQHBY+ZaoiACBAgQIEAgiwJJg8fanVp2aWWxu0trmnrkoZg5+sqSfzi28YIYv+Ou7BdfwAqn7piImS8t/Y6j31EBG73ClK4aGYwrhwfLNWmzJUCAQEEEBI8FaaRpECBAgAABAt0V2H/8VBx783TbD6kNHh2G0TZhX26o3fFYLWLizk/F6Pkb+1JPWR86ve+JmL5/Z9307XYs14oQPJar32ZLgECxBASPxeqn2RAgQIAAAQJdEhA8dgk2o8NO/dZvxszLX19SnV2PvW9Wo1es7XbsfR+SPLEuvB8ajsnd9ycZKrZvGIr1gwOJ7nUTAQIECPRXQPDYX39PJ0CAAAECBHIicPjkXBw6Mdd2tbMvPBd7b9y65D67tdpm7MsNjXY9Omimd61odKBM9el+P73rQSdPSjN4dKJ1J51wLwECBPorIHjsr7+nEyBAgAABAjkROD53OvYdO9V2tY2Cx7Fb7vG9wLYle3/D9Be/GNMHPl/3YAfN9KYXdjv2xrlbTxE8dkvWuAQIEMiXgOAxX/1SLQECBAgQINAngaTBY7XcugDl6htCeNWnRrb5WAfNtAmW0uWNdjt6xTol3B4NI3jsEbTHECBAIOMCgseMN0h5BAgQIECAQHYEkp5sLXjMTg/brWR2djb2PvDpJbcJjdtVbO/6RruEqyN4xbo9x35ePfvq0dj78IOLJZwzEGMXXRLjEzcnKsur1onY3ESAAIFMCAgeM9EGRRAgQIAAAQJ5EEgteLx4c0zufyoPU1ZjREx99nMx89KLdqn2aDV4xbpH0F18TJrB44bVA7Ft/VAXqzU0AQIECHRTQPDYTV1jEyBAgAABAoUSEDwWqp0mk0EBB8pksCkJSpo++ExMH/zC4p2rBmP+YKbKNW2PdtXIYFw5PNj2fW4gQIAAgWwICB6z0QdVECBAgAABAjkQ2H/8VBx783TblU7ddH3MPP/s4n0Xb46J+3bH6Pkb2x7LDQSKKrDcK9YTTx6I0UsvL+q0CzkvwWMh22pSBAgQSCQgeEzE5iYCBAgQIECgjAKpBY/nbYqJz0wJHsu4iMx5WQGvWBdncaQZPG7fMBTrBweKg2MmBAgQKJmA4LFkDTddAgQIECBAILnA4ZNzcejEXNsD1O14FDy2beiGYgtM3TERM196eskkxy67IsafWPrPiq1QnNnVnQa/ajAmfvWTMTo62vYkBY9tk7mBAAECmRIQPGaqHYohQIAAAQIEsixwfO507Dt2qu0S675bt3YkKvfuicqWa9seyw0Eiibgu45F62i683GidbqeRiNAgECvBQSPvRb3PAIECBAgQCC3AoLH3LZO4RkVmH8ld+fH66qr7Lg7Kjt2ZrRqZfVSQPDYS23PIkCAQPoCgsf0TY1IgAABAgQIFFggycnWtYdmeIW0eAtk1+23xtjGC2L8jruKN7kuzqjRdx39ProInsOhBY85bJqSCRAgcJaA4NFyIECAAAECBAi0IZBG8Fh93OTLJ9p4qkuzLFANHRf+CB9b79Suj26OeO1I3Q1+G60bFv3KDasHYtv6oaJP0/wIECBQaAHBY6Hba3IECBAgQIBA2gJJgsdqDbU7u4QraXemP+OdHTouVFDZcp3vdzZpx3LfdZx48kCMXnp5f5rpqZkTuGpkMK4cHsxcXQoiQIAAgdYFBI+tW7mSAAECBAgQIBD7j5+KY2+ebltC8Ng2WS5umPrs52LmpRfrahU+rty+Rq9Y+65jLpZ8T4sUPPaU28MIECDQFQHBY1dYDUqAAAECBAgUVUDwWNTOJp/XrrvujPjBXN0AE3d+KkbP35h84ILeOXXT9THz/LNLZid0LGizO5yW4LFDQLcTIEAgAwKCxww0QQkECBAgQIBAfgQOn5yLQyfqQ6ZmM6jd4eWV0mZi+fn72dnZ2PvwgxFv1e+EFT4u7WOj0LF6hU8P5Ge997LS7RuGYv3gQC8f6VkECBAgkLKA4DFlUMMRIECAAAECxRZIGjzWBi6Cx2Ktk/nw8YFPN5zU5GOPZ36y3/vWsfjLv/jLM3X+zKYPpl7zcqGj30Lq1IUZ0InWhWmliRAgUGIBwWOJm2/qBAgQIECAQPsCx+dOx75jp9q+sTZ08Wpp24SZv2H6i1+M6QOfX1JnHkLH//b1r8W5554bf/X2X83X/tbbb83/97p16+LckZ9Jxd1hMqkwlm4QwWPpWm7CBAgUUEDwWMCmmhIBAgQIECDQPYGkwWNt8CJ47F6P+jny2eFjHkLHmRdfiLffejvOv/SXlrCd/K+vxLf/5E/ioqs+1DHncqGj30DHtJkcYOqRh2Lm6CuLta0ZionbbovR0dG26xU8tk3mBgIECGROQPCYuZYoiAABAgQIEMi6wO4jJ9susTZ8Gbvsihh/4um2x3FD9gWmfus3Y/wTv5r5Qn/wp38cr7766rLh4rePfD06eeV69tWjMfOlAzH96J46C6Fj5pdH4gLTCh43rB6IbeuHEtfhRgIECBDIhoDgMRt9UAUBAgQIECCQI4EkwePsC8/F3hu3Ls5y7UhU7t0TlS3X5mjmSi2SwH976Wtx7nvPjXUbL0x9WtMHn4l47YjQMXXZ7A+46/ZblxY5NByTu+9vu3AnWrdN5gYCBAhkUkDwmMm2KIoAAQIECBDIssD+46fi2Jv1JxivVHOj4HHsY+MxfsddWZ6q2goscOSrh2P9z/98rP7ZDanOsho6zu9yfO1I3bh2OqZKncnBBI+ZbIuiAsBidwAAIABJREFUCBAg0DcBwWPf6D2YAAECBAgQyKtAKsFjRIzdco/gMa+LoAB1/+f/98vxgQ/8D6kGj/Ov2X7paaFjAdZH0ikIHpPKuY8AAQLFFBA8FrOvZkWAAAECBAh0UeDwybk4dGKu7SfsunBk6T1X3xB5OICk7Ym6oWWB6u7Afr1un/aOx/nQ8d9PRbxxom7+djq2vCRyf2FaweP2DUOxfnAg9x4mQIAAgbILCB7LvgLMnwABAgQIEGhbIOnJ1oLHtqkLe0NtONOPALqVbzz+8MS349yRn2nah5VCx4knD8TopZc3HcMF+ReoHii09+EHFydyzkCMXXRJjE/c3PbknGjdNpkbCBAgkEkBwWMm26IoAgQIECBAIMsCqQWPF2+Oyf1PZXmqauuSQN2usIiobLmup7sfm51q/c2vPhvve//7mh4+s2vb/xTxtT9oKCV07NICyuiwgseMNkZZBAgQ6KOA4LGP+B5NgAABAgQI5FcgycnWdTseL94cE/ftjtHzN+YXomCVr3vlG/H6BX+jq7PaddedET9o/Kp+r8PHmRdfiLffejvOv/SXlsz55H99Jb79J38SF131oRUtdn10c8PvOY5ddkWMP/F0Vx0Nnj2B+YOFDn5hsbBVg+8E6pVr2i7Wjse2ydxAgACBTAoIHjPZFkURIECAAAECWRdIEjxO3XR9zDz/7OLUBI+ZavO6F1+IeP75eP3WHUvqWvdv90VcsDFev+TS1OpdKXwc23hBTw8dmn3xhRg4dyB+7K+dMz+/t95+a/6/161bt+Jr1nXr+V0doWNqyyR3A6UVPG5YPRDb1g/lbv4KJkCAAIF6AcGjVUGAAAECBAgQSCCQSvB43qaY+MxUKXc8nvvq0Tj36NH43pZrE+h375Z1D//ziP/x+nj9vA+ceci6x/5FvH77J1N/6NTe346Zl16MeOt0w7F7ufvxjdf+KL7//R+cqeNnNn1w2fnOvvBc7L1xa+Oad9wdlR07U7cyYLkErhoZjCuHB8s1abMlQIBAQQUEjwVtrGkRIECAAAEC3RXYf/xUHHuzcWC03JOnH30gph/ds/jX522K+dN+Mxa+dUuuGjauOfhMDBx9Zckj3txyXWYCyPndjcPD8fqHPzJf47rnDkUcPx6v/8PtXWGZnv7yO6+m1rx63Y/DZlqZ4HK7HKv3Orm6FUHXtCIgeGxFyTUECBDIh4DgMR99UiUBAgQIECCQMYE0gscyvJK6XNhY287TGy+I79xxV9+7XPu69brHH4247LJUX7OunWRt+JhW6PidP3s9/vzPXo/5/379T+P8i/7W/KPP/+DfbMm5elBI9dXZ8TvuirrQvGYEh8i0ROqiFgW2bxiK9YMDLV7tMgIECBDIsoDgMcvdURsBAgQIECCQWYHDJ+fi0InGB4QsV3TtK6pFDR5bDRtrnV5/7PFM9Hvhdev5Yv7vp+P1O/9xT+qaf/X6yNdj8qGHO37eq1//L/HqS/+54TjVAHK58HEhbJxZ2JX6xsllT6yuDm6XY8etMkADAQfLWBYECBAojoDgsTi9NBMCBAgQIECghwLH507HvmOn2npio2/jTb58oq0xsnjxwvcaq/9d+xp1O/VWdz3+sOaE72bfgKy+ut3ozw83bqwbq/a6ar0Lf85+7vzr1mvfPdjijVNde826Ud3V3Y+tngC86/Zb54eoHkZTPRl9bOPG+f9eKXRceOZfX/fT8YvX/Mr8/6zuaqwGjmfCxuo/rAaOrx2JeKPx+qyG5tXQcfTSy9tpsWsJtCQgeGyJyUUECBDIhYDgMRdtUiQBAgQIECCQNYEkwWN1DrsuHFkylbwGj0l3NSbpY7OdkOveDeCWG3ul+xveOzEe8bu/+85wH/3osq9Zv/+Rh1YMWpvVXb1/uT/NXjv/wxXm/OdXXdkSc3Xn47987NHFa5uEjdULBY4t0bqoQwHBY4eAbidAgECGBASPGWqGUggQIECAAIF8CSQ52TrvwWM1cHzfww/2vFFth4dnVdgsAGwYPq77qfkRXv8//+mKc0099Gyx7upux99eobLf+5sXxbeH3t21ucx11V2PB37ndyK+dmjZnY0Ltwoce77kS/vADasHYtv6ldduaXFMnAABAjkUEDzmsGlKJkCAAAECBLIhkEbwmNdDORZecV5dPZG5y38SBYctBnjVy5bd9RgR310ztOIr250Ej8s++93aV5r3rrvujN+uOQm7tg3/smbn4+B/fzN+/L+/OX/ZVw78Tpx67Y+adk7g2JTIBSkLONE6ZVDDESBAoM8Cgsc+N8DjCRAgQIAAgfwKJDnZunbHY16Dx7O71u0QspvBYzeDw6pRt3ZqVr8Fue2pf7fsj+f0OQPxb37xF2LkjW/HT8x9t+663/u934tvf/vbdf+8GjSOXnrF/CvVvt+Y3/9vynPlgsc8d0/tBAgQqBcQPFoVBAgQIECAAIGEAkmCx6mbro+Z558988QiBI9phZDfvfNTce7RxQNfquMmPVxm4eCYZt9KXPjOYqNDcZoFnp1+47GT0LN6GMwvPfxgvBIx/59/EBHVsPF7qwbjlTdOxr/91tH4wNrBuPjiixuu7q997Wvx4osvnvm7op6wnvCn7baEAtVPAEx2eDq94DEhvtsIECCQUQHBY0YboywCBAgQIEAg+wKHT87FoRNzbRVaGzxWTwau7NjZ1hh5ubi6E7LVk66rJ1o3CwnzMu9W6jz7RO1G19ee7n32Nf/q9lvjm7U3nTMQk1tviNkXno29/+pfzP/txz/+8RVLqQ0fqxcXeT220hfXJBeono4+ffanF1YNRmXLdS2f0r7w5O0bhmL94EDyQtxJgAABApkSEDxmqh2KIUCAAAECBPIkkORk60bBY5y3KSpbrs3T1NuutVkIWd3tuFLY1vYDC3hDdZdjNdyZOVrd4/jun3MGIlYNRvzYQFR+bm28/Y3n45JLLok33nijqcDs7Gx85StfqbtO+NiUzgUNBKYeeWjp2lwzFBO33Rajo6NteTnRui0uFxMgQCDzAoLHzLdIgQQIECBAgEBWBZIEj9OPPhDTj+5ZnNLakajcu6fwwePZPayGkAuH0pRtp2PStVwNHffWniZeDRzfOzg/5NU/8xPx6//wuvjlX/7l+f994MCB+f8s9+fXfu3X4oILLoj77rsvfv3Xf73hZQufAag+e/T8jUlLd19JBASPJWm0aRIgQKBNAcFjm2AuJ0CAAAECBAicLdDuydazLzwXe2/cuiR4HPvYeIzfcRdYAg0F6l5hrV61Zmh+l+PY2Fhc/qEPxb++7rK6e6vB4yuvvBLf/Obii9lbt26N6n/O/vP7r78Z/+yf/sbSQPzdC6q7H6e/8UfvvDJb8F25ll9nAtXvOy75MzQck7vvb2vQ77/9o/iND460dY+LCRAgQCDbAoLHbPdHdQQIECBAgEDGBToOHiNi7JZ7BI8Z73MWyjsT7JwVOo5P3BxpfBNv4aCk2k8BzM977UjExVfFxJ2fsvMxCwshozWkETz+1Kpz4ubRtRmdobIIECBAIImA4DGJmnsIECBAgAABAu8KtHuydd2OR8GjtdSGwK67737ne44frswf2vEL7//x+JV1q9sYYflL/8nXT8SP/9h7ou5zAMLHVHyLPkgawaMTrYu+SsyPAIEyCggey9h1cyZAgAABAgRSE2g3eKw+eNeFNa8SXn1DTD72eGo1GajYAtVDYaoHdqQd0pz9zVLhY7HXUDdmJ3jshqoxCRAgkH8BwWP+e2gGBAgQIECAQB8FDp+ci0Mn5tqqoC54vHhzTO5/qq0xXEygG6f/nh2krxQ+Csqtv7MF6g4/Omcgxi66JKqfAmjnTxqfDWjnea4lQIAAge4LCB67b+wJBAgQIECAQIEFkpxsLXgs8ILo0dTS3u14dtlnf7e0Yfh43qaI8zbZpdujXufhMXUHIK0afOdAoso1bZXfjTC9rQJcTIAAAQKpCwgeUyc1IAECBAgQIFAmgSTBY90BHudtionPTDm4o0wLp4O5blg9ENvWD3Uwwsq31q7p5cLHyd/9g67VYOD8Csy/ci14zG8DVU6AAIGUBQSPKYMajgABAgQIECifQLsnWwsey7dG0pxxL3aF1X67tNFp1xNPHojRSy9Pc2rGKrlAL9Z2yYlNnwABAj0XEDz2nNwDCRAgQIAAgaIJtBs81u0gWzsSk8+9XDQW82lDoPYbect9Q7Gbr1ifXW6jnbyNwsfJl0+0MUuXElhe4KdWnRM3j65FRIAAAQIFExA8FqyhpkOAAAECBAj0XqDT4HHssiti/Imne1+4J2ZGoO5E4FWDMfnQw3X19XJHWKMT22u/T2rtZmYJ5b6QXoXquYcyAQIECORMQPCYs4YplwABAgQIEMieQKOAZqUqZ194LvbeuHXJJXaOZa+vvapo6pGHYuboK4uPWzUY8d7BmNx9/5IS+hHM1IbqjdZuZcfdUdmxs1dcnlNQgX6s74JSmhYBAgQyJSB4zFQ7FEOAAAECBAjkUeDwybk4dGKu5dIFjy1TFf7CutOAzxmIWD0UlQ9X6k4E7uVuxwX4Rmu70WEzvvdY+KXa9Qlu3zAU6wcHuv4cDyBAgACB3goIHnvr7WkECBAgQIBAAQXaDR6rBLWvrNrxWMCF0WRKtd91nL98aLhh6NjP3WCNPiVQ+71Hr1yXb/2mPeN+BOtpz8F4BAgQIFAvIHi0KggQIECAAAECHQo0Ooij2ZCCx2ZCxf/7Rt91bPSKdVWin6HMcuu7dg175br4a7abM+znGu/mvIxNgACBsgsIHsu+AsyfAAECBAgQSEWg3QNmakMbr6qm0obcDFL3ivW733WcuGU8RkdHl8yjn7sdFwpptL4bfTIgLt4cE/ftjtHzN+amFwrNhoDgMRt9UAUBAgTSFhA8pi1qPAIECBAgQKCUAoLHUra940mf2fW4zCvWG1YPxLb1Qx0/p9MBltv1WPvKdawdibj4qph87PFOH+n+EglkZZ2XiNxUCRAg0DMBwWPPqD2IAAECBAgQKLJAu8FjbWDjNdUir46V57brrjsbnmJdvSsLux0Xqm951+N5m2Ls714f43fcVd6mlmjmtbt3k4TOWVrnJWqdqRIgQKAnAoLHnjB7CAECBAgQIFB0gf3HT8WxN0+3PE3BY8tUpbhwevrLdadYZ20X2HK7Hhudch1X3xATd37KK9clWL2NPhtQ2XJd3XpeiULwWIKFYooECJRWQPBY2tabOAECBAgQIJCmQLvBY21YUz0VePR/GY/KlmvTLMtYORb4hff/ePzKutWZmsFyO3trv1lafeV67GPjdj1mqnvdKWbqkYdi5ugri4OvGYqJ226r+1bpSk/fvmEo1g8OdKdAoxIgQIBAXwUEj33l93ACBAgQIECgKAKHT87FoRNzLU+n7mCOtSNRuXeP4LFlwWJfmLXdjgvay+16dNBMsdfjSrOrO519aDgaHZK00hgOlinv+jFzAgSKLyB4LH6PzZAAAQIECBDogcBygcxyj24U1Izdco8dYj3oVR4eceFPvje2/uxPZLLU5XY91h00U63+6hscNJPJLqZXVKPgcXL3/W09QPDYFpeLCRAgkCsBwWOu2qVYAgQIECBAIMsC7RwwI3jMcif7W9tPrTonbh5d298iVnj6SiF73SvX522K+YOTfEIgs/3stDDBY6eC7idAgECxBQSPxe6v2REgQIAAAQI9FGgneKyWVRfS2B3Ww25l91FZ/LZjrdZya73RQTOTL5/ILrbKOhboNHjM6mcFOoYxAAECBAjMCwgeLQQCBAgQIECAQEoCHQePF2+Oyf1PpVSNYbIisHD4xuRjj7dUUh5eO13pMKXaQL16cNL4E0+3NHcX5Utg9tWjsffhBxeLPmcgxi66JMYnbm55Ik60bpnKhQQIEMilgOAxl21TNAECBAgQIJBFgXZPtq7b8Sh4zGJbO6pp+uAzMX3wC0vGWCmAzFMIs1zQ3ugzAhNPHojRSy/vyNLN2RMQPGavJyoiQIBA1gQEj1nriHoIECBAgACB3Aq0e7J13WEc522Kic9Mxej5G3NroPClAnWvoa4ajMqW66JSuaYhVR52Oy4Ubtej1V4XrDdZ343Etm8YivWDAzAJECBAoKACgseCNta0CBAgQIAAgd4LtHuyteCx9z3q5RMb7XaMoeFY7sTfPO12rDqutN7teuzlSsvWs6anv7xssN6o0jyF7dmSVg0BAgTyISB4zEefVEmAAAECBAjkQKDd4LHuII61I1G5d48TgHPQ61ZKLPJux4X5r7TrsTZY963HVlZN+a4RPJav52ZMgEC5BASP5eq32RIgQIAAAQJdFmjngJna4FEw0+Xm9HD4Rq+gxnsHC7PbcYHSrsceLqqCPkrwWNDGmhYBAgTeFRA8WgoECBAgQIAAgRQF2gkeG72OOvnyiRSrMVS/BOp2Ow4NR+XDlUJ827HW1K7Hfq2y/D93w+qB2LZ+KP8TMQMCBAgQWFZA8GhxECBAgAABAgRSFGjnZGvBY4rwGRqqLLsdF8iT7HqMtcMOUcrQmu1XKXn7rmm/nDyXAAECeRYQPOa5e2onQIAAAQIEMifQTvBYLX7XhSNL5mDHY+Za2nZBdbsd1wxF5SN/b9ndjhf+5Htj68/+RNvPydINK+30rTtEae1IjH1sPMbvuCtLU1BLHwQEj31A90gCBAj0WEDw2GNwjyNAgAABAgSKLXD45FwcOjHX8iRrg8eJJw/E6KWXt3y/C7MtsOuTn4hYPbTstx2r1RfhG3ft7nqMizfHxH277XrM9vLtenXbNwzF+sGBrj/HAwgQIECgfwKCx/7ZezIBAgQIECBQQIF2T7YWPBZwEdRMaXr6y8vudizSji+7Hou/ltOeYRFC97RNjEeAAIGiCQgei9ZR8yFAgAABAgT6KvDKX/4wPv/Hf9FyDbWvodrx2DJdIS4sUvDy27NvxJ/94K2GfWn0PVO7HguxhDuaRJHWf0cQbiZAgECBBQSPBW6uqREgQIAAAQL9EWjnZOva4LGy4+6o7NjZn8I9tacCRdrtWIVrttvXtx57urxy8TDBYy7apEgCBAh0JCB47IjPzQQIECBAgACBeoF2gsfpRx+I6Uf3nBlk7LIrYvyJp7GWQKCIoctKhystt+txcv9TJeh28aY49chDMXP0lcWJrRmKyT2L/1/WbMZFC96bzdffEyBAoKwCgseydt68CRAgQIAAga4JtHOyteCxa23I9MBFDV3sesz0sku1uLrgcWg4Jm4Zj9HR0ZaeU9TfQEuTdxEBAgRKJCB4LFGzTZUAAQIECBDojUA7J1vX7QJbOxJjHxuP8Tvu6k2xntIXgSKHLivt+LXrsS/LrSsP3XX7rUvHHRpe8fT22iKK/BvoCrhBCRAgkFMBwWNOG6dsAgQIECBAILsCzXZ9nV15wyDm6hti8rHHsztBlXUsUMTXrBdQmu34rT3J3ecFOl5OfRmg0+CxyL+BvjTEQwkQIJBRAcFjRhujLAIECBAgQCC/Au0Ej9VZ1gYxIXjMVfMXAphWw+Iy7PRaaddj7ecFqs2efPlErnqu2AjBo1VAgAABAq0ICB5bUXINAQIECBAgQKBNgXYOmBE8tombocunDz4T0we/sFjRqsGYfOjhFSssw06vdnc9Tjx5IEYvvTxDnVXKSgKzrx6NvQ8/uHjJOQMxdtElMT5xc8twZfgdtIzhQgIECBRYQPBY4OaaGgECBAgQINA/gY6Cx4s3x8R9u2P0/I39m4AntyTQaNdX5cOVqFSuaXh/GXY7VifebNfv1E3Xx8zzzy4xsuuxpSWXiYvqgsdVgzG26YMtB48bVg/EtvVDmZiLIggQIECguwKCx+76Gp0AAQIECBAoqUCzHV9ns9SFMILHXKyaRrsd472DKx6wUaZdXu0eMmPXYy6W/XyRjdZ+Zct1ywbutTMrSwCfn46qlAABAt0TEDx2z9bIBAgQIECAQIkFOgoez9sUlR13R2XLtSUWzP7U7XZcuUft7np0yEz21/xChYLH/PRKpQQIEOi3gOCx3x3wfAIECBAgQKCQAodPzsWhE3Mtza3usI21I1G5d4/gsSW9/lyUZLdjGXd52fXYn/XZ7adOPfJQzBx9ZfExa4Zi4rbbYnR0tKVHb98wFOsHB1q61kUECBAgkG8BwWO++6d6AgQIECBAIKMCzXZ7nV327AvPxd4bty7+o7UjMfax8Ri/466Mzk5ZdbsdVw1Gs1dNy/Sa9cIKabbzt/YzA3Y95ve3NTs723LwWMbfQn47q3ICBAh0JiB47MzP3QQIECBAgACBZQVaPWCmLniMiLFb7hE8ZnhtNXrNenL3/ctWXMbdjlWMZgF8o7XvkJkML/yUShM8pgRpGAIECORAQPCYgyYpkQABAgQIEMinQKvBY3V2uy4cWTJJ4Ut2e57k+3ZlDlqa7XqsXfvhcKXsLv4UKnOidQqIhiBAgECOBASPOWqWUgkQIECAAIF8CTQLXM6ejeAxX71dqHZ+5+PQcFQ+XFn2RN+y7nZcMGq267HuVHc7fvP5Y2ix6rL/HlpkchkBAgQKIyB4LEwrTYQAAQIECBDImkAnwePEkwdi9NLLszYl9TQQ2HXPvbHSa9Zl3u24wNVs969dj+X5aQkey9NrMyVAgEBVQPBoHRAgQIAAAQIEuiTQzsnWtbu+BI9dakofhhU8RjQL4et2PTpgqQ8rtTePdKJ1b5w9hQABAlkREDxmpRPqIECAAAECBAon0OwV07MnXBu8VHbcHZUdOwtnUrYJ2d31Tseb/RYaHTJT/dbj5P6nyrZkCj9fQXzhW2yCBAgQWCIgeLQgCBAgQIAAAQJdFGj2iunCo6cffSCmH91zppKxy66I8See7mJlhu6FgJBlUdmux16suGw/4/tv/yh+44NLD9LKdsWqI0CAAIFOBQSPnQq6nwABAgQIECCwgkCrwWPtji/BY/6Xld2OS3uYaNfj1TfE5GOP538xmMG8wE+tOiduHl1LgwABAgRKJCB4LFGzTZUAAQIECBDovUCzXV4LFTV61XTy5RO9L9gTUxMQPNZTNgviHTKT2vLL5EB+E5lsi6IIECDQVQHBY1d5DU6AAAECBAiUXaDV4LHqVBu6CB7zvXq8Zl3fv2a/h0aHzEw+93K+F0LBqt91+61LZzQ0vOKp7mdf/Avv//H4lXWrCyZiOgQIECCwkoDg0fogQIAAAQIECHRRoJ2TrQWPXWxEj4e2s6sxeJLXrQXwPV68TR7XSfB4w8/9ZFzwE+dma0KqIUCAAIGuCggeu8prcAIECBAgQKDsAs2ClrN9Gr1m6lTf/q+gqUceipmjr5wppJVvDtrtuHzf2t316Hun/f8NLFQw++rR2Pvwg4sFnTMQYxddEuMTN7dUpN9FS0wuIkCAQKEEBI+FaqfJECBAgAABAlkUaPZdu4Wa614zvXhzTNy3O0bP35jFaZWmpnZ3eNntuPLSaBbG+95pdn9a0wefiemDX1gscNVgjG36oOAxuy1TGQECBPouIHjsewsUQIAAAQIECBRdIHHweN6mmPjMlOCxjwukUdAS7x1c8Zt2gsfmDWv2m6jd/Tvx5IEYvfTy5gO7oqsCjX4PlS3XRaVyTdPnblg9ENvWDzW9zgUECBAgUCwBwWOx+mk2BAgQIECAQAYFmr1aulDy9KMPxPSjexZnsHYkKvfuicqWazM4q3KU1Gi3Y+XDlRWDFq+TNl8bzX4Ttbt/vW7d3LQXV9QFj2uGovKRv9dS8CiQ70WHPIMAAQLZExA8Zq8nKiJAgAABAgQKJtAsZFkpeBz72HiM33FXwUTyMZ26kOWcgYjVQ3Y7ptA+r1ungNiHIWq/dxpDwzFxy3iMjo42rUbw2JTIBQQIECikgOCxkG01KQIECBAgQCBLAq2ebN3o23Zjt9wjeOxTM5O8Vmq3Y+vNahbI1+569Lp167bdurLd752eXcf2DUOxfnCgW6UZlwABAgQyKiB4zGhjlEWAAAECBAgUR6DZ7q6zZ1p3svXVN0QrpygXRys7M0kSsggeW+9fs9+FQ2Zat+zVlUl+Ewu1+W30qkueQ4AAgWwJCB6z1Q/VECBAgAABAgUVaHaYxsK0BY/ZWAAOlelNH5r9LhodMhNrhx241Jv21D1F8NgneI8lQIBAjgUEjzluntIJECBAgACB/Ag0C1iWDR4v3hyT+5/Kz0QLUqlDZXrTyHZft461I+G7p73pTZpPcaJ1mprGIkCAQL4EBI/56pdqCRAgQIAAgZwKNAtYFqZV+127uHhzTNy32w6vPvZ91yc/4VCZLvkned06fH6gS93o3rAOlumerZEJECCQdQHBY9Y7pD4CBAgQIECgEAJJg8fKjrujsmNnIQzyPInp6S9HpXLNslPw/brk3W3226j7/IAwPjl2n+4UPPYJ3mMJECCQAQHBYwaaoAQCBAgQIECg+ALNdnYtCEw/+kBMP7rnDMjYZVfE+BNPFx8o5zMUPCZvYLPfRt0hM163To7dpzudaN0neI8lQIBABgQEjxloghIIECBAgACB4gu88pc/jM//8V80nWhtyCJ4bErW9wvs5uq8Bc2+gWrXY+fG/RxBMN9Pfc8mQIBAfwUEj/3193QCBAgQIECgRALNwpUqRd3uroiYfPlEiZTyN1WhSuc9a/a6dd23T+167By9hyP4jfQQ26MIECCQMQHBY8YaohwCBAgQIECguAKtBI/V2dfu7hI8ZndN2O2YTm/aft26+liHzKSD3+VRnGjdZWDDEyBAIOMCgseMN0h5BAgQIECAQHEEmu3qWpip4DE/PRc8pterZsG8163Ts+7lSH4jvdT2LAIECGRPQPCYvZ6oiAABAgQIECiowO+//mb8p+98v+nsagOWiScPxOillze9zwW9F/AKaXrmzYL5Rq9bTz73cnoFGKkrAoLHrrAalAABArkREDzmplUKJUCAAAECBPIu0Ox10oX51QYslR13R2XHzrxPv3CPPuIRAAAgAElEQVT1C1TSbWmz34fvn6br3e5ou26/df6Wycceb+tW4XxbXC4mQIBA4QQEj4VrqQkRIECAAAECWRZo9jpptXbBY+87OH3wmZg++IUzD24lXBGopN+ndnc92g2cfg8ajVj7+4hVg1HZcl1UKtc0LcDvpCmRCwgQIFBoAcFjodtrcgQIECBAgEDWBP7J10/Ej//Ye1Ysa/rRB2L60T1nrhm77IoYf+LprE2lUPUs7OY6M6mh4Zjcff+yc7TbsTvtt+uxO66djjr1yEMxc/SVxWHWDMXEbbfF6Oho06EFj02JXECAAIFCCwgeC91ekyNAgAABAgSyJtBsR1e13kavlI7dck+M33FX1qZTiHoa7eaK9w4KHvvU3Wa7gn0DtfeNaTeYX6hQQN/7XnkiAQIEsiYgeMxaR9RDgAABAgQIFFrgt2ffiD/7wVtN51gbrggem5IlvqBRqFL5cGXF10jt4krM3fTGZuF87acI7AhuStrxBYLHjgkNQIAAgdIKCB5L23oTJ0CAAAECBPoh0OxV0oWaaoPHuPqGtg916Mf88vjMdkMVu7i62+VmvxGHzHTXv9Ho7f5GFsbYvmEo1g8O9L5gTyRAgACBzAgIHjPTCoUQIECAAAECZRBoFqosGzxevDkm9z9VBqKezjHJoRl2O3a/RV637r5xq0+YffVo7H34wcXLzxmIsYsuifGJm5sO4bfSlMgFBAgQKLyA4LHwLTZBAgQIECBAIGsCrRwwU/s6aVy8OSbu2x2j52/M2nRyXU+7r1lvWD0Q29YP5XrOeSje69bZ6VKScH6hesFjdvqoEgIECPRLQPDYL3nPJUCAAAECBEor0Gw3VxWmLng8b1NMfGZK8JjiqnGoTIqYXRhqpd+J1627AL7MkEmDRyF973rkSQQIEMiygOAxy91RGwECBAgQIFBIgd989Tvxvbf+asW5TT/6QEw/umfxmrUjUbl3T1S2XFtIk35MKkmgYgdX7zrVbNdj3XdQ7QruSnPqfidrhqLykb+34uFL1UJ8C7Ur7TAoAQIEcicgeMxdyxRMgAABAgQI5F3g8Mm5OHRibsVpNNrR5WTr7nZ+1z33xuTu+5d9iCClu/61ozf7HmrdruC1IzH2sfEYv+Ou3hZasqdVfycTt4zH6OjoijP3eynZwjBdAgQILCMgeLQ0CBAgQIAAAQI9FnjlL38Yn//jv2j6VCdbNyXq6QV2O/aUe/5h7b5uXf0WqkOYet+nRk/0e8lGH1RBgACBfgsIHvvdAc8nQIAAAQIESinQygEzgsdsLQ1BSu/70ex160a7HieefNq3UHvfqron+r1koAlKIECAQAYEBI8ZaIISCBAgQIAAgfIJtHLATG3wOPHkgRi99PLyYWVgxl4b7V8T2t316JME/evVwpMdLNP/HqiAAAECWREQPGalE+ogQIAAAQIESiXQygEztbu5KjvujsqOnaVyyspk7d7qXyea7Xp0yEz/erPckwX12euJiggQINAvAcFjv+Q9lwCB/7+9u4+xq7zzA/6jsbE9hgxL7Topis2Mwos3QJ0XqAJaQ7iw0DUEhBqySrYh2cw4L6xaAkoqG9LgZBkrphhYrVGpvSvYVemqKi0oodW2mcQpL41C2ahpRGI7stmX5gXTbKJNTRriUN1hZ8b3zrlvM/fce855PpaiJPa5z3mez+85/3z1vBAgQIBA0gLdXDAjeCzGFBGiDLcOLpkZrv9i3u6bWYya3xAgQKCaAoLHatbVqAgQIECAAIGCC3Rzwcz0nrtjes+uuZGMX3RJTDz0WMFHVr3uWe04/Jr2ut06Lrshph54cPgdT7QHvplEC2/YBAgQyBAQPJoWBAgQIECAAIEhCXQ65/HIs8/E3puua+jd1PNHh9TbdF8rRBl+7Rez3drt1sOrm29mePbeTIAAgaIJCB6LVhH9IUCAAAECBJIR6BSm1CGaz68TPA52etgyOljvVm/rdbu11cHDq5uLZYZn780ECBAoooDgsYhV0ScCBAgQIEAgCYE/OPLjePFnv2g7VsFj/6bC9BNfjOknvjDXYDdbca3c6p//UltqF9RbHbxU3f79XljfP0stESBAoAoCgscqVNEYCBAgQIAAgVIKdFrFVR9Uc/A4+fDjMXbhxaUc77A73Rw8xsqRqG25Nmq1yzO7JkAZdsUa39/pe/Gt9LdeRw4djL333jPf6LLlMfV7v9/xJb6bjkQeIECAQFICgsekym2wBAgQIECAQJEEurlgxs3W/avY9o9/pLGx0TUxuXUixsbGBI/9Y861pXbnojZ/K7ZbL60UvQb1s2+zSnhp7n5NgACBqgkIHqtWUeMhQIAAAQIESiXQ6YKZrJutx94zEbUt15RqnMPubFaIEitGYmrnXS27JkAZdtUWvr/X7dZWCC++hoLHxdv5JQECBAjMCwgezQYCBAgQIECAwBAFOl0ws+DsutPWxviNEzFxy61D7HX5Xr3vvt1x+OCB+Y6PronaFTXbrEtWyk7bra0Q7l9BFwSPp4zG5Mc+1nKFcP3NLpbpn7+WCBAgUBUBwWNVKmkcBAgQIECAQCkFeg4eI2J86zbBY4/VztpmbbVjj4gFebzdKmGXzPSvSL1+M/U3O9+xf/5aIkCAQFUEBI9VqaRxECBAgAABAqUU6LSCqz6o5ksz4rIbopsbmUsJkkOnbbPOAXWITXYK610y05/iLCZ4fP+G0Vg/srw/HdAKAQIECFRCQPBYiTIaBAECBAgQIFBmgU7nPC4IHjdtjqlHHi3zkAfa96wAxTbrgZagry/rFNa7ZKY/3A3fzbLlEatH256JWn+rc1H7Y68VAgQIVElA8FilahoLAQIECBAgUEqBTsFjc5ASmzbH5I6dMXbW2aUc76A73bDiceVIuFRm0BXo//t6vWTGKuHeanDk0MHYe+898z9aORLjG8+LickPt21I8Nibs6cJECCQgoDgMYUqGyMBAgQIECBQaIFOW0cXBI9nbozJ+/cJHhdR1e23fiJqW651qcwi7Ir0k06rHrNWCQvru6/gYm60dr5j976eJECAQEoCgseUqm2sBAgQIECAQCEFnnrpWDx59FjLvk3vuTum9+ya/3c3Wy+pjtPTXxY8LkmwGD9ut1J4QVjvm+mpaFk3Wteuurrld1NvXPDYE7GHCRAgkIyA4DGZUhsoAQIECBAgUFSBTqu3sm7qdbN1PtW0VTQf1zxatd06D9XWbR45ciTGxsZaPuBimcHWw9sIECBQFgHBY1kqpZ8ECBAgQIBApQU6nfPoZuv8y2/FVv7G/XxDp8Dedut+anduS2jf2cgTBAgQSFFA8Jhi1Y2ZAAECBAgQKJxAr8Hj5MOPx9iFFxduHGXukOCkfNWz3bo4NfP9FKcWekKAAIEiCQgei1QNfSFAgAABAgSSFej1ghnBY3+nitWO/fUcVGvtVj1mHVHgdut8KuP7ycdVqwQIEKiCgOCxClU0BgIECBAgQKD0Ap22jTZfllG7+VNRu/mTpR93UQZgtVZRKtF7P9qterTdunfPxfxC8LgYNb8hQIBAGgKCxzTqbJQECBAgQIBAwQU6BY/NN1uPX3RJTDz0WMFHVY7uCU3KUadWvWy3WtiN8IOpreB+MM7eQoAAgTIKCB7LWDV9JkCAAAECBCop0G7lVta20annj1bSYdCDEjwOWry/7+t1u7Xvpr/+Lx9/NT573tr+Nqo1AgQIEKiMgOCxMqU0EAIECBAgQKDsAp3OeWzeNipAya749o9/pOEfph54sO3UsFqr7F9ORLtvxzEF+dZ3w+rl8b71o/m+ROsECBAgUFoBwWNpS6fjBAgQIECAQNUEnnrpWDx59FjLYTUHjy6Y6S54jNE1MbXzrsyHrXasxlfUy6pHxxT0t+bvOH1VXLludX8b1RoBAgQIVEZA8FiZUhoIAQIECBAgUHaBTuc8Nq/cEjwurPj0E1+M6Se+MP8PK0eituXaqNUuz5weVjuW/auZ73+7VY9C++7rXF8x3GmV8Imt+Ya6t/UkAQIEUhQQPKZYdWMmQIAAAQIECivQ7pzH5uDRyq2FZWzeZl1f7Vi7opYZPFrtWNjPYFEdaxfc+3a6I10Q3J8yGrWrrm4Z3DvfsTtXTxEgQCBlAcFjytU3dgIECBAgQKBwAr3c0Ct4bCxf1mrHWDHScpu1lVqFm/5L7lCr4N7lTN3RLviG2gT39RaF9925eooAAQIpCwgeU66+sRMgQIAAAQKFE2h3zmNWeDK+dVtM3HJr4cYxjA7ZZj0M9WK903brpdVj33274/DBA/ONjK6Jya0TMTY2ltmw8x2X5u3XBAgQSEFA8JhClY2RAAECBAgQKI1Ap3Mem8+qi02bY+qRR0szvjw7apt1nrrlabvVqkfbrTvXMOsbanUxU701q4Y7m3qCAAECqQsIHlOfAcZPgAABAgQIFE6g3TmPgsfsctlmXbhpPLQOtVr1aLt155I0BI8rR6LdUQXOd+zs6QkCBAgQiBA8mgUECBAgQIAAgYIJtNsu2rxqK05bG5MPPxZjZ51dsFEMtjtZW0RdKjPYGhTlbe1WDWcF95M7dib//dRrd+TQwdh77z3zZVw5EuMbz4uJyQ9nltb5jkWZ8fpBgACBYgsIHotdH70jQIAAAQIEEhTo5YKZevBYu31X1LZck6BU6yFv33a7S2USnhGtvqGs4H78xgnnpEZEr2ek/urrV8R1Z5ya8CwzdAIECBDoRkDw2I2SZwgQIECAAAECAxRot2LLBTNLK4RVWkvzK8uvW31DWd9PXHZDTD3wYFmGlls/e73R2vmOuZVCwwQIEKiUgOCxUuU0GAIECBAgQKAqAq3OeRScLK3Cgsel+ZXp162+oQXbrc/cGJP370t+u7WLZco0u/WVAAEC5REQPJanVnpKgAABAgQIJCTQbru1C2YWPxGs0lq8Xdl+2eobmt5zd0zv2dUwnPGt22y3PkFkJoQcXdPyuAIBftm+Bv0lQIDA8AQEj8Oz92YCBAgQIECAQEuBni6YsWKrq5kkLOmKqTIP9XrJzNQjj1Zm7HkP5B2nr4or163O+zXaJ0CAAIEKCAgeK1BEQyBAgAABAgSqJ9AuNMm6IMMFM53ngNWOnY2q9kQvl8y4Hb776vuWurfyJAECBFIXEDymPgOMnwABAgQIECisQKsz6rK2ik49f7Sw4yhCx6x2LEIVBt+HXi6Zsd26+/oIHru38iQBAgRSFxA8pj4DjJ8AAQIECBAorECr1VpZF8wIHtuXUfBY2Gmee8e6vmRm0+aY3LEz+UtmOhXEt9RJyL8TIECAwIkCgkfzgQABAgQIECBQUIGnXjoWTx49ltm75gtmJh9+PMYuvLigIxl+t6zQGn4NhtWDXrZbTz3z/LC6WZr3Ch5LUyodJUCAQCEEBI+FKINOECBAgAABAgQWCvRyzmPt5k9F7eZPJsM4/cQXY/qJL8yNd+qBB1uOXVCSzLTIHGgv262tHO48V4T4nY08QYAAAQLzAoJHs4EAAQIECBAgUGCBVttEmy+YGb/okph46LECj6S/Xdv+8Y80NnjKaEzt2pX5EkFJf+3L2FqrVY9WDvdeTd9T72Z+QYAAgZQFBI8pV9/YCRAgQIAAgcILdHvOY/LB4+iamNp514J6Wu1Y+Ck+kA62WvWYeoDfK77vqVcxzxMgQICA4NEcIECAAAECBAgUWMA20YXFad5mHStHorbl2qjVLl/wsNVZBZ7cA+5a1urhrIuanJfaujCCxwFPWq8jQIBABQQEjxUooiEQIECAAAEC1RVod85jqttEF2yzHl0TtStqC4JHIUl1v4vFjKzbS2ZSXz3c7rxUQf5iZp7fECBAIG0BwWPa9Td6AgQIECBAoAQC3Z7zmMJKrazVjrFixDbrEszjYXfR6uHsCjQE+StHotX3VP+14HHYs9j7CRAgUD4BwWP5aqbHBAgQIECAQGICvazUGnvPRNS2XFNZIdusK1vagQzMJTONzEcOHYy9994z/5crR2J843kxMfnhBfWwgnggU9RLCBAgUDkBwWPlSmpABAgQIECAQNUEul6pddraGL9xIiZuubVqBHPjydpm7VKZypa77wNzyUwj6YIg/5TRqF11deZ5qYLHvk9HDRIgQCAJAcFjEmU2SAIECBAgQKDsAt1ejBGX3RDtzmgrs0Mv26xtCS1zpfPtu29p3nfffbvj8MED83/R4rzU+gO+qXznpdYJECBQVQHBY1Ura1wECBAgQIBApQS63SIamzbH1COPVmrsrQazfdvtLpVJotL9HWQv39Lkjp0xdtbZ/e1AgVprWEG8bHnE6tHM81I3rF4e71s/WqCe6woBAgQIlEVA8FiWSuknAQIECBAgkLRAt1tE48yNMXn/vkqHJZ0mgpVZnYT8e9aqx30fvD4Of/3peZzUji5oc7GMbda+GQIECBBYrIDgcbFyfkeAAAECBAgQGLBAVlgyvefumN6zqyEsqd2+q9IXzLRjF5AMeFKW9HVZqx6PPPtM7L3pusYRJXZ0QauLZYT5JZ3ouk2AAIECCAgeC1AEXSBAgAABAgQIdCPQbVgyvnVbpS+YaWclIOlmJnnGCuKIBWemOt/Rh0GAAAECOQgIHnNA1SQBAgQIECBAIA+BVmHJ9l9d2/i6hM55PHHgVjvmMeuq26Yg/7XazgWQo2ticutEjI2NNRTdd1Xdb8DICBAgMAgBweMglL2DAAECBAgQINAHgV6Cx6pfipHFKSDpwyRLqAnfU3fF9l115+QpAgQIEMgWEDyaGQQIECBAgACBEglkrdLKuhRj8uHHkrtgxjbrEk3kgnS12+9p/MYJxxcUpGa6QYAAAQLlEhA8lqteekuAAAECBAgkLtDt9tCp548mJWVVVlLl7ttgs1Y9pnbJTDtM31XfppqGCBAgkKyA4DHZ0hs4AQIECBAgUEaBboOSqgSP2z/+kZh64MGOpbLasSORB1oIZN0W79zU17AEjz4bAgQIEFiqgOBxqYJ+T4AAAQIECBAYsEA3Qcnkw4/H2IUXD7hn/X3dglt3V47E1O57F7xEONJf99RaSy3M76W+Av1etDxLgAABAlkCgkfzggABAgQIECBQMoFuzqUbv+iSmHjosZKNrLG79dWODX9G10TtilrUapc3/LVwpNRlLkTnUwnze8EW6Pei5VkCBAgQaCUgeDQ3CBAgQIAAAQIlE+hmhVbZg8cjhw7G3nvvWRA8Tu28q+HvhCMlm7wF7e5TLx2LJ48ea+hd86VNZf+meqX3bfUq5nkCBAgQyBIQPJoXBAgQIECAAIESCjSvesy6EKPM5zxmbbOubbnWascSztWydLl51WPVvqle62Alca9inidAgAABwaM5QIAAAQIECBCoiEDWCq3mCzHKfM5jN9usrciqyGQuyDCyjjBo/qZSWfXo2yrIpNQNAgQIVEDAiscKFNEQCBAgQIAAgfQEsrZbV2VraNZqx1gxEidus375+Kvx2fPWpld4I85NoJtvqv7yMq8krve/IdRvcWGT1Y65TTMNEyBAIDkBwWNyJTdgAgQIECBAoCoCnbZbl3V1VjerHd9x+qq4ct3qqpTSOAoi0M2qxzKvJM4K9cc3nhcTkx9uqIDgsSATUjcIECBQAQHBYwWKaAgECBAgQIBAmgLNK7SqcCZdN6sd69UWjKQ55/MedTerHssa6NftFnxfGTfF22ad9yzTPgECBNISEDymVW+jJUCAAAECBCom0HwhRvOZdLFpc0zu2BljZ51dupHPrHxcORLNl8oIRkpXylJ1uNNK4pnBbNocU488Wqpx1TubtZp4cutEjI2NzY1FqF+6suowAQIECi0geCx0eXSOAAECBAgQINBeoDkkaT7nMU5bG7Xbd0VtyzWlpNy+7faGsx3rgxCMlLKUpel01qrHBYH+aWtj8uHHShfoNwSPy5ZHrB5t+L42rF4e71s/Wppa6SgBAgQIFF9A8Fj8GukhAQIECBAgQKClQDfbrce3bouJW26thKLVjpUoY+EH0dWqx8tuiKkHHiz8WGY7mHWMgdXEpSmfjhIgQKC0AoLH0pZOxwkQIECAAAECrwl0s926jNtCs+prtaNZPwiBrlY9luwYg3337Y7DBw/M850yGrWrro5a7fK5v/N9DWJ2eQcBAgTSEhA8plVvoyVAgAABAgQqKNBxu/WZG2Py/n2l2xbaXCqrHSs4eQs8pI7fVUSUaTVx1vmOUzvvmquA76vAk1HXCBAgUGIBwWOJi6frBAgQIECAAIG6QPPqrOk9d8f0nl3zOKetjfEbJ0q/3dpqLPN9kALdHGNQlsubjhw6GHvvvWeeb+VIxIqRhvMd33H6qrhy3epBEnsXAQIECCQgIHhMoMiGSIAAAQIECFRf4MTVWUeefSb23nRd46BLdh5dc8Wsxqr+HC7iCDuueixhqN/qtnjBfhFnoD4RIECg/AKCx/LX0AgIECBAgAABAgtWPS64hbdk59GdWFKhowk+LIEqrXpsNpye/vLc+Y6+sWHNMO8lQIBA9QUEj9WvsRESIECAAAECiQiceMnMvg9eH4e//vT8yEu4Mmu281ZiJTKBCzrMh1/4SXzv5Vfmepf1bU0983xBe99dt96/YTTWjyzv7mFPESBAgACBHgQEjz1geZQAAQIECBAgUGSBTtutp54/WrjuN194MfXAgw19tBKrcCVLskMnhvpZRxlMPvx4jF14cSltXj7+anz2vLWl7LtOEyBAgEDxBQSPxa+RHhIgQIAAAQIEuhJo3hbavN26aOHI9BNfjOknvjA/tmXLI1aPNlx4YbVjV6X3UM4Cnb6t8YsuiYmHHsu5F/k0L9zPx1WrBAgQIPCagODRTCBAgAABAgQIVEjgxFWPzVtCixaONK92jJUjUdtyrXPnKjQfqzSUE7+tBTfHR0QRVxR342+bdTdKniFAgACBxQoIHhcr53cECBAgQIAAgQIKnLgyK2tLaFHCEasdCzh5dKmtQBVXPdpmbdITIECAQN4Cgse8hbVPgAABAgQIEBiwwIkrs4q63brTakersAY8abyuK4F2K4rrDRQl2O9qMBFhm3W3Up4jQIAAgcUKCB4XK+d3BAgQIECAAIGCCpy4MquI260XrHasO46umTvbURhS0ImlW9Fp1WPRzlHtVDJnqHYS8u8ECBAgsFQBweNSBf2eAAECBAgQIFBAgdlbeIu43brTakdhSAEnlC7NCZRp1ePst9Z8W3x9MAJ+k5oAAQIEBiEgeByEsncQIECAAAECBAYs8NRLx+LJo8dm3tq83TqPS2a+/+1vLRjhqa8/NU45Y0PD31vtOOCJ4HW5CMwG+1nfV1FWPe67b3ccPnhgfvwrR2Jq971z/1/wmMvU0CgBAgQINAkIHk0JAgQIECBAgEBFBWbDkbxv4P3+gW/FD773/XjDG97YIPmL47+IVStXxZo3n5MpPLMa65TRqF119cxN1oKQik7ECg6r03EGh0fWRdYqw0FSLFhZfMJxBvV+WFk8yGp4FwECBNIVEDymW3sjJ0CAAAECBCou0G7VY2zaHJM7dsbYWWcvWaEePNb/vPGc8xa09Z2vPR1nnHFGnPqmM7PDx223z53tKAhZcik0MECBdpc49fP7WsyQFqwsXjkSsWLEOaqLwfQbAgQIEFiSgOBxSXx+TIAAAQIECBAotsBsONJ8yUyctjbGb5yIiVtuXfIA2gWPP/vBX8WhQ4fi/F97V9v3WO245DJoYAgCs6uKs76v2PRrQ1v1mLXasXZFbWZlcf2PkH8Ik8UrCRAgkKiA4DHRwhs2AQIECBAgkIbA7JbQrEtm6quyph55dMkQ7YLHeuPPTf9pnP8PLoiT1zRuxZ59sdBxySXQwJAEBrWquJfhOUe1Fy3PEiBAgEDeAoLHvIW1T4AAAQIECBAYssDsqsfmS2bqqx5rt++K2pZrltTDTsHjt7/2VKx/05tiddNFM/WXbli9PN63fnRJ7/djAsMUaLmquN6py24Y+KrHrG3WtS3XWu04zEni3QQIEEhYQPCYcPENnQABAgQIEEhDoO2qxz4EI52Cx8N/9mysW/f3MoNHWz7TmINVH+XslusF4f6ZG2P816/vy5EG3RpmbbOe3DoRY2NjLnDqFtFzBAgQINA3AcFj3yg1RIAAAQIECBAorkDLVY99uGSmU/DYasWjLdbFnS961pvAbLifdYN8fdXj5Cdu68tFTp161e5SGd9bJz3/ToAAAQJ5CAge81DVJgECBAgQIECggAL18PHT79kSh7/+dGPvelz1ePgbz8b4Wy+ca6Nd8FhfffXe9743LrjggjjpV9bM/UYIUsAJoktLEhjERU69dHBm5ePompi9VMbq4l70PEuAAAEC/RIQPPZLUjsECBAgQIAAgRII1LeELnU76L954Pfi4ne+M8b+NnxsFTzuu293/NZv3hhHXngh/viP/njurDvnOpZgoujiogTq4eP+/V+NvTdd1/j7Pl3k1Guntm+7PaZ23mWLda9wnidAgACBvgkIHvtGqSECBAgQIECAQPEF6ltCf/tTd8T0nl0NnZ16/mjXne8meJzd8vmBD3wgzjjjjNh597+MWD06E4JYedU1tQdLJjC75XrfB69vWFk8ftElMfHQY0MbjW9uaPReTIAAgeQFBI/JTwEABAgQIECAQGoCT710LG7a8usNwUjt5k9F7eZPdkVRDx7f/va3x3988edx/JVXIl63LNau+Dvx7g3zW6nrDf3i+C9i1cpVsXv37rktn1/6nRu7eoeHCJRVoP59PXn02IKVxb18Y/0c+/s3jMb6keX9bFJbBAgQIECgawHBY9dUHiRAgAABAgQIVEfgd//9f45Pv+c3GgY0+fDjMXbhxR0HWQ8eD6w5K5afvDxO+uUv4/irEa+cvCLe9MrfxLs3njn3+1Nff2pM3TUVsXIkYsVI/Pkjvy8A6ajrgSoI1Ldc/+GuqQUri7v9xvpl4CzVfklqhwABAgQWKyB4XKyc3xEgQFdAwjsAAA+9SURBVIAAAQIESi7wrne9K/bv398wim62XH/6P3wpTv7pj+LTH3ht9eLRQ9+O+7/5F3HysmXxsz/9d40qfxs67v/d2+LS884uuZjuE+heIOsyp0FuuXaWave18iQBAgQI5CcgeMzPVssECBAgQIAAgcILnHTSSQ197BSM/PUL3437/tNX46Z3XjBzs/V//cFP43svH4/v/vlfRvzoh3H8SycEj6eMRvz4pbjzirfHZz7zmcJb6CCBfgtkrSwe1JZr5zr2u5raI0CAAIHFCAgeF6PmNwQIECBAgACBigjs2LEj7rzzzobRNAcjh771zTj0v/7nzDMbzz03/u2f/Emc8dF/Ea+8+mr85JXjcfryZfHCD1+MX37/L+JzN9Ri+8c/MnOmYxx4Lu78zWuFjhWZK4axOIEP//M74g933dX2G1tcyxH1S5xqW65Z8HPnOi5W1O8IECBAoN8Cgsd+i2qPAAECBAgQIFAygawt1/Xw8a3v+UB8bfq/NIymHjz+wV/+31h77vlx2vJlcfapy+Oda0bi3q/8j/jRX/84PnfDFXHk2Wdi720fizt/Z6vQsWRzQXfzEWj1jcWZGzODw256MXtz/OyzUw88OPM/nevYjZ5nCBAgQGBQAoLHQUl7DwECBAgQIECgwALNW67rXV1/6VXxk1/5+3H++efP9fwtb3lL/OsXT4p/un5FPPfcc/F3170h/uHlV8Znv7g/jr/4/dj88l/NXKhx2WWXxVe+8pUCj1jXCAxWIOsbqwePk/fvi7Gzejv/9Mihg7H33nsaBzC6Jj73W9fHHf/4Hw12YN5GgAABAgTaCAgeTQ8CBAgQIECAAIH46le/OhMWLvhz5saZAHL9+vUN/3T06NFYu3btzN9d9d5/Ep/+8p/Fiv/zv+P/7fhtoaP5RCBDoN031mv4OHOcwYl/6pc4vfDt2P+v7olLL72UPwECBAgQKIyA4LEwpdARAgQIECBAgMBwBVoFI29961tj06ZNDZ374YrReObkN7z2d68ej785dW0se9ObY9sP/5vt1cMto7cXWCDrTNWZ7m7aHLX3f6irbdf77tsdhw8eeG2UK0Yili+P+O43nada4LrrGgECBFIWEDymXH1jJ0CAAAECBAhkCDSfR/ehD30o0+m/n/bm+MHx18W7f/x8rFu3Lr5yxtvj2X/2XqYECLQRWGz4uGB7df3W+Nctd4mT2UaAAAEChRYQPBa6PDpHgAABAgQIEBiOwNve9rb4xje+EW984xvj6quv7tiJF198MW677baoh5b+ECDQXqBl+Hjmxqif+zh7UUxWK9tv/UTET38S8Z3nIl76nqMNTDYCBAgQKLSA4LHQ5dE5AgQIECBAgMBwBHbt2hXf+c53Wr68flHG7LmPP//5z2PVqlVxxx13DKez3kqghAItw8eIqN8qP37RJTF24cVzI6vfFn/460/PXN40+8clTiUsvC4TIEAgMQHBY2IFN1wCBAgQIECAQDcCBw4ciM9//vMtH92wYcPcv9W3WX/0ox/tplnPECBwgkDLC2e6ULrzzjudp9qFk0cIECBAYLgCgsfh+ns7AQIECBAgQKCwAp1WPdY7ft111838xx8CBBYv0G71Y1ar+/fvd3v14rn9kgABAgQGKCB4HCC2VxEgQIAAAQIEyibw+OOPR/0/WX+EjmWrpv4WXaBTAGmVY9ErqH8ECBAg0CwgeDQnCBAgQIAAAQIEOgrUw8f69uv6n3POOSfOPffcmf/2hwCB/gvUt2DXVzXW/9TPcaz/ufTSS/v/Ii0SIECAAIGcBQSPOQNrngABAgQIECBAgAABAgQIECBAgECKAoLHFKtuzAQIECBAgAABAgQIECBAgAABAgRyFhA85gyseQIECBAgQIAAAQIECBAgQIAAAQIpCggeU6y6MRMgQIAAAQIECBAgQIAAAQIECBDIWUDwmDOw5gkQIECAAAECBAgQIECAAAECBAikKCB4TLHqxkyAAAECBAgQIECAAAECBAgQIEAgZwHBY87AmidAgAABAgQIECBAgAABAgQIECCQooDgMcWqGzMBAgQIECBAgAABAgQIECBAgACBnAUEjzkDa54AAQIECBAgQIAAAQIECBAgQIBAigKCxxSrbswECBAgQIAAAQIECBAgQIAAAQIEchYQPOYMrHkCBAgQIECAAAECBAgQIECAAAECKQoIHlOsujETIECAAAECBAgQIECAAAECBAgQyFlA8JgzsOYJECBAgAABAgQIECBAgAABAgQIpCggeEyx6sZMgAABAgQIECBAgAABAgQIECBAIGcBwWPOwJonQIAAAQIECBAgQIAAAQIECBAgkKKA4DHFqhszAQIECBAgQIAAAQIECBAgQIAAgZwFBI85A2ueAAECBAgQIECAAAECBAgQIECAQIoCgscUq27MBAgQIECAAAECBAgQIECAAAECBHIWEDzmDKx5AgQIECBAgAABAgQIECBAgAABAikKCB5TrLoxEyBAgAABAgQIECBAgAABAgQIEMhZQPCYM7DmCRAgQIAAAQIECBAgQIAAAQIECKQoIHhMserGTIAAAQIECBAgQIAAAQIECBAgQCBnAcFjzsCaJ0CAAAECBAgQIECAAAECBAgQIJCigOAxxaobMwECBAgQIECAAAECBAgQIECAAIGcBQSPOQNrngABAgQIECBAgAABAgQIECBAgECKAoLHFKtuzAQIECBAgAABAgQIECBAgAABAgRyFhA85gyseQIECBAgQIAAAQIECBAgQIAAAQIpCggeU6y6MRMgQIAAAQIECBAgQIAAAQIECBDIWUDwmDOw5gkQIECAAAECBAgQIECAAAECBAikKCB4TLHqxkyAAAECBAgQIECAAAECBAgQIEAgZwHBY87AmidAgAABAgQIECBAgAABAgQIECCQooDgMcWqGzMBAgQIECBAgAABAgQIECBAgACBnAUEjzkDa54AAQIECBAgQIAAAQIECBAgQIBAigKCxxSrbswECBAgQIAAAQIECBAgQIAAAQIEchYQPOYMrHkCBAgQIECAAAECBAgQIECAAAECKQoIHlOsujETIECAAAECBAgQIECAAAECBAgQyFlA8JgzsOYJECBAgAABAgQIECBAgAABAgQIpCggeEyx6sZMgAABAgQIECBAgAABAgQIECBAIGcBwWPOwJonQIAAAQIECBAgQIAAAQIECBAgkKKA4DHFqhszAQIECBAgQIAAAQIECBAgQIAAgZwFBI85A2ueAAECBAgQIECAAAECBAgQIECAQIoCgscUq27MBAgQIECAAAECBAgQIECAAAECBHIWEDzmDKx5AgQIECBAgAABAgQIECBAgAABAikKCB5TrLoxEyBAgAABAgQIECBAgAABAgQIEMhZQPCYM7DmCRAgQIAAAQIECBAgQIAAAQIECKQoIHhMserGTIAAAQIECBAgQIAAAQIECBAgQCBnAcFjzsCaJ0CAAAECBAgQIECAAAECBAgQIJCigOAxxaobMwECBAgQIECAAAECBAgQIECAAIGcBQSPOQNrngABAgQIECBAgAABAgQIECBAgECKAoLHFKtuzAQIECBAgAABAgQIECBAgAABAgRyFhA85gyseQIECBAgQIAAAQIECBAgQIAAAQIpCggeU6y6MRMgQIAAAQIECBAgQIAAAQIECBDIWUDwmDOw5gkQIECAAAECBAgQIECAAAECBAikKCB4TLHqxkyAAAECBAgQIECAAAECBAgQIEAgZwHBY87AmidAgAABAgQIECBAgAABAgQIECCQooDgMcWqGzMBAgQIECBAgAABAgQIECBAgACBnAUEjzkDa54AAQIECBAgQIAAAQIECBAgQIBAigKCxxSrbswECBAgQIAAAQIECBAgQIAAAQIEchYQPOYMrHkCBAgQIECAAAECBAgQIECAAAECKQoIHlOsujETIECAAAECBAgQIECAAAECBAgQyFlA8JgzsOYJECBAgAABAgQIECBAgAABAgQIpCggeEyx6sZMgAABAgQIECBAgAABAgQIECBAIGcBwWPOwJonQIAAAQIECBAgQIAAAQIECBAgkKKA4DHFqhszAQIECBAgQIAAAQIECBAgQIAAgZwFBI85A2ueAAECBAgQIECAAAECBAgQIECAQIoCgscUq27MBAgQIECAAAECBAgQIECAAAECBHIWEDzmDKx5AgQIECBAgAABAgQIECBAgAABAikKCB5TrLoxEyBAgAABAgQIECBAgAABAgQIEMhZQPCYM7DmCRAgQIAAAQIECBAgQIAAAQIECKQoIHhMserGTIAAAQIECBAgQIAAAQIECBAgQCBnAcFjzsCaJ0CAAAECBAgQIECAAAECBAgQIJCigOAxxaobMwECBAgQIECAAAECBAgQIECAAIGcBQSPOQNrngABAgQIECBAgAABAgQIECBAgECKAoLHFKtuzAQIECBAgAABAgQIECBAgAABAgRyFhA85gyseQIECBAgQIAAAQIECBAgQIAAAQIpCggeU6y6MRMgQIAAAQIECBAgQIAAAQIECBDIWUDwmDOw5gkQIECAAAECBAgQIECAAAECBAikKCB4TLHqxkyAAAECBAgQIECAAAECBAgQIEAgZwHBY87AmidAgAABAgQIECBAgAABAgQIECCQooDgMcWqGzMBAgQIECBAgAABAgQIECBAgACBnAUEjzkDa54AAQIECBAgQIAAAQIECBAgQIBAigKCxxSrbswECBAgQIAAAQIECBAgQIAAAQIEchYQPOYMrHkCBAgQIECAAAECBAgQIECAAAECKQoIHlOsujETIECAAAECBAgQIECAAAECBAgQyFlA8JgzsOYJECBAgAABAgQIECBAgAABAgQIpCggeEyx6sZMgAABAgQIECBAgAABAgQIECBAIGcBwWPOwJonQIAAAQIECBAgQIAAAQIECBAgkKKA4DHFqhszAQIECBAgQIAAAQIECBAgQIAAgZwFBI85A2ueAAECBAgQIECAAAECBAgQIECAQIoCgscUq27MBAgQIECAAAECBAgQIECAAAECBHIWEDzmDKx5AgQIECBAgAABAgQIECBAgAABAikKCB5TrLoxEyBAgAABAgQIECBAgAABAgQIEMhZQPCYM7DmCRAgQIAAAQIECBAgQIAAAQIECKQoIHhMserGTIAAAQIECBAgQIAAAQIECBAgQCBnAcFjzsCaJ0CAAAECBAgQIECAAAECBAgQIJCigOAxxaobMwECBAgQIECAAAECBAgQIECAAIGcBQSPOQNrngABAgQIECBAgAABAgQIECBAgECKAoLHFKtuzAQIECBAgAABAgQIECBAgAABAgRyFhA85gyseQIECBAgQIAAAQIECBAgQIAAAQIpCvx/6JEi7ZlIcg4AAAAASUVORK5CYII\" width=500>"
      ]
    },
    {
      "cell_type": "markdown",
      "metadata": {
        "id": "-Dlcrcu0kQ1e"
      },
      "source": [
        "Podemos ver na próxima imagem o caminho que a sequência de pontos leva até chegar ao mínimo, com $x_{0}=A$"
      ]
    },
    {
      "cell_type": "markdown",
      "metadata": {
        "id": "sQS8vXTkFR_m"
      },
      "source": [
        "<div>\n",
        "<img src=\"data:image/png;base64,iVBORw0KGgoAAAANSUhEUgAABR4AAAJRCAYAAAAj9qtwAAAgAElEQVR4XuzdfYwuWX0f+EPimHcIOBZ3ZAwYMN1rbJiJtTvIM8FZKY4h4Nvr/OGNoxAnw2ZfopVGstR9sSW/7HqV5faNdhlZjmNZjNcmwibKZrdngFkMWvMyk4Cx905gx+6WGZvBwnNhA2ZYvLxkMKvTM3Xn6aernnp5TlWdqvq0tBozXXXqnM/v17PSN6fqPOkb3/jGN4IfAgQIECBAgAABAgQIECBAgAABAgQIJBR4kuAxoaahCBAgQIAAAQIECBAgQIAAAQIECBA4FRA8agQCBAgQIECAAAECBAgQIECAAAECBJILCB6TkxqQAAECBAgQIECAAAECBAgQIECAAAHBox4gQIAAAQIECBAgQIAAAQIECBAgQCC5gOAxOakBCRAgQIAAAQIECBAgQIAAAQIECBAQPOoBAgQIECBAgAABAgQIECBAgAABAgSSCwgek5MakAABAgQIECBAgAABAgQIECBAgAABwaMeIECAAAECBAgQIECAAAECBAgQIEAguYDgMTmpAQkQIECAAAECBAgQIECAAAECBAgQEDzqAQIECBAgQIAAAQIECBAgQIAAAQIEkgsIHpOTGpAAAQIECBAgQIAAAQIECBAgQIAAAcGjHiBAgAABAgQIECBAgAABAgQIECBAILmA4DE5qQEJECBAgAABAgQIECBAgAABAgQIEBA86gECBAgQIECAAAECBAgQIECAAAECBJILCB6TkxqQAAECBAgQIECAAAECBAgQIECAAAHBox4gQIAAAQIECBAgQIAAAQIECBAgQCC5gOAxOakBCRAgQIAAAQIECBAgQIAAAQIECBAQPOoBAgQIECBAgAABAgQIECBAgAABAgSSCwgek5MakAABAgQIECBAgAABAgQIECBAgAABwaMeIECAAAECBAgQIECAAAECBAgQIEAguYDgMTmpAQkQIECAAAECBAgQIECAAAECBAgQEDzqAQIECBAgQIAAAQIECBAgQIAAAQIEkgsIHpOTGpAAAQIECBAgQIAAAQIECBAgQIAAAcGjHiBAgAABAgQIECBAgAABAgQIECBAILmA4DE5qQEJECBAgAABAgQIECBAgAABAgQIEBA86gECBAgQIECAAAECBAgQIECAAAECBJILCB6TkxqQAAECBAgQIECAAAECBAgQIECAAAHBox4gQIAAAQIECBAgQIAAAQIECBAgQCC5gOAxOakBCRAgQIAAAQIECBAgQIAAAQIECBAQPOoBAgQIECBAgAABAgQIECBAgAABAgSSCwgek5MakAABAgQIECBAgAABAgQIECBAgAABwaMeIECAAAECBAgQIECAAAECBAgQIEAguYDgMTmpAQkQIECAAAECBAgQIECAAAECBAgQEDzqAQIECBAgQIAAAQIECBAgQIAAAQIEkgsIHpOTGpAAAQIECBAgQIAAAQIECBAgQIAAAcGjHiBAgAABAgQIECBAgAABAgQIECBAILmA4DE5qQEJECBAgAABAgQIECBAgAABAgQIEBA86gECBAgQIECAAAECBAgQIECAAAECBJILCB6TkxqQAAECBAgQIECAAAECBAgQIECAAAHBox4gQIAAAQIECBAgQIAAAQIECBAgQCC5gOAxOakBCRAgQIAAAQIECBAgQIAAAQIECBAQPOoBAgQIECBAgAABAgQIECBAgAABAgSSCwgek5MakAABAgQIECBAgAABAgQIECBAgAABwaMeIECAAAECBAgQIECAAAECBAgQIEAguYDgMTmpAQkQIECAAAECBAgQIECAAAECBAgQEDzqAQIECBAgQIAAAQIECCQWuPOPvpB4xPrhbvuOv1x/kSsIECBAgMCAAoLHAbE9igABAgQIECBAgACB+QiMES520RNIdlFzDwECBAikEBA8plA0BgECBAgQIECAAAECsxeYStBYVwhBZJ2Q3xMgQIBAKgHBYypJ4xAgQIAAAQIECBAgMCuBuQSNdUURRNYJ+T0BAgQIdBUQPHaVcx8BAgQIECBAgAABArMSWErQuKloQshZtbTFECBAYHQBwePoJTABAgQIECBAgAABAgTGEhA2VssLIcfqSs8lQIDAfAQEj/OppZUQIECAAAECBAgQINBAQNjYAGntEiFkezN3ECBAgEAIgkddQIAAAQIECBAgQIDA7AWEjWlKLIBM42gUAgQILEVA8LiUSlsnAQIECBAgQIAAgQUKCBz7KboAsh9XoxIgQGBuAoLHuVXUeggQIECAAAECBAgsXEDYOGwDCCGH9fY0AgQITElA8DilapkrAQIECBAgQIAAAQKVAgLHcZtDADmuv6cTIEAgRwHBY45VMScCBAgQIECAAAECBBoLCBwbU/V+ofCxd2IPIECAwKQEBI+TKpfJEiBAgAABAgQIECBQCMwhcDw5OTlX0JPjJ/7dxb2Lkyy4AHKSZTNpAgQIJBcQPCYnNSABAgQIECBAgAABAn0KzCFwfONtb2xE9NY739rouhhgHl4+DLu7u2FnZ+f6PWMHlwLIRuVzEQECBGYrIHicbWktjAABAgQIECBAgMC8BOYQOBYVSR081o23t7d3+uixgkgB5Lz+Fq2GAAECTQUEj02lXEeAAAECBAgQIECAwCgCOQeOcafhXUd3nbocHx+HpjsU64LCAjr1eHHcpmOmLrbwMbWo8QgQIJC/gOAx/xqZIQECBAgQIECAAIFFCuQaOBZhYwwa13/ahHpNwseDSwdnXp2uaoQmY40ZOq7OWwC5yD9niyZAYKECgseFFt6yCRAgQIAAAQIECOQqkGPguCls7Bo+FmFh/C5j8bP6fcbi3zV5PXpKwWNcl/Ax178+8yJAgEBaAcFjWk+jESBAgAABAgQIECCwhUCOoWNcTtNgL17bZtfjFlSlt8aAtDgVO/7f67sym84trneI70IKIFN3gPEIECCQl4DgMa96mA0BAgQIECBAgACBRQrkGjiuFqNp+Ng03Buq0EUYGf+5f7Df6LHra40hZJOdl40GX7tI+NhFzT0ECBCYhoDgcRp1MksCBAgQIECAAAECsxSYQuBYwJcFj/E16fh69M7uTqNvMTYpYg4B55DBYzQRPjbpDNcQIEBgegKCx+nVzIwJECBAgAABAgQIzEIgh9Ax7gIs+65iFfDqdxnjDsC6e1PsNqyaS9OdlVcOr7QKR8uCz6bP2qYxhY/b6LmXAAECeQoIHvOsi1kRIECAAAECBAgQmK1ALoHj4eXDU+M2oVqToLLqIJqmz0m947FsvE3fbxx6t+N6owsgZ/unb2EECCxQQPC4wKJbMgECBAgQIECAAIGxBMYOHWMoWASOqwZNQ8EqtyanXjd9xhDB4+o6yr7feNfRXaeXHB0dnR4y09f3Has8hY9j/YV6LgECBNIKCB7TehqNAAECBAgQIECAAIESgRwCxximrZ/yXEy1aShYVtw+gsL47cjVn7J5N51z6vkN1eDCx6GkPYcAAQL9CQge+7M1MgECBAgQIECAAAECIYQxQ8cmOxG3DR+bBnvxOU3DwpSN03R+Y8ytbp3CxzohvydAgEDeAoLHvOtjdgQIECBAgAABAgQmKzBm4FigNQnd4u7C/YP9rZw3PSeOX7yqXHcYzVaTqLh59bXpTeOnDh7jc1O8oi187KMrjEmAAIFhBASPwzh7CgECBAgQIECAAIFFCeQQOkbwukBw28CxLOAsXpNucur1GE1RFkSmDh0L91TfhxQ+jtEpnkmAAIHtBQSP2xsagQABAgQIECBAgACBxwWufeXR8O6Hv5SVx3r4WOxArNp9WLye3SaUvHJ4JcTxdnZ3Tv85lZ8YQsb1tllr3U7GMu8241fZCR+n0lXmSYAAgScEBI+6gQABAgQIECBAgACBJAK57HIsW0wMw5oGjqsHuaTeCZgEesRBVkPFst2MMYCtOsDn4NLB1qGs8HHE4ns0AQIEOggIHjuguYUAAQIECBAgQIAAgbMCOYeOcaZ1u/Q2BWbCxydqvb6bcT18jM5HR0eVfx4pXr0WPvqvDwECBKYjIHicTq3MlAABAgQIECBAgEB2ArkHjnVgdUFZvF/w+Jjipu9lrgaKdabCx7qu9HsCBAjMR0DwOJ9aWgkBAgQIECBAgACBQQXGCh2LbzBuc3hLMUbVa8EFZN3r2YOCj/ywJieEF69TR9/Dy4eVM05xkridjyM3hMcTIECggYDgsQGSSwgQIECAAAECBAgQOCswVui4vptum92IdUFaim8Szq1vNr2SXqx1dUdj1fXb1G3VVPg4tw6zHgIE5iYgeJxbRa2HAAECBAgQIECAQM8CuYSOxTK7hlhVwaPAcXMD1b1KvV6PlGHx+swEjz3/sRueAAECWwoIHrcEdDsBAgQIECBAgACBpQiMFThG37qddinCxxTfHlxKL8R1lgWQVXUoru1ap02uwscldZ21EiAwNQHB49QqZr4ECBAgQIAAAQIERhAYK3Rs8q3Abb71WISa244xQkmyeeRqKNxHsNhkocLHJkquIUCAwPACgsfhzT2RAAECBAgQIECAwKQEcg0d7VDMp43ijsYY3o75I3wcU9+zCRAgUC4geNQZBAgQIECAAAECBAhUCowVOsYJbTr8ZdN3GOMuyZ2dHVVdmIDgcWEFt1wCBCYhIHicRJlMkgABAgQIECBAgMDwAmOGjsVqy8LHutDx8PJhGOuV3+Gr5ImrAsJH/UCAAIG8BASPedXDbAgQIECAAAECBAiMLpBD4LiKUISPu7u7Yf9gv9Knz9OTRy/KgiYQ611X600cwscFNYulEiCQvYDgMfsSmSABAgQIECBAgACB4QRyCx2LlccDTNqEjsV9dj4O1ztNn7QpWFzd4Sp8bCrqOgIECOQrIHjMtzZmRoAAAQIECBAgQGBQgVxDxzqE1VOV16/dJryqe67ftxNYP6F8/XCgtq/Vb3q6XY/tauNqAgQI9CUgeOxL1rgECBAgQIAAAQIEJiQgdJxQsSY41apwuAgf10PJ1SV23bUqfJxgo5gyAQKzExA8zq6kFkSAAAECBAgQIECgncAcQ8f13XTtRFydWmBTsFgcFlR1Tdddq4LH1FU0HgECBNoLCB7bm7mDAAECBAgQIECAwGwExgodi5Cp6262Ta9XCx3zbM/1w39WZ1mEj1XXdK2p8DHPXjArAgSWIyB4XE6trZQAAQIECBAgQIDAGYGxQ8diMl3Dx5TfBNQawwg0CR+rQuUinGw7U+FjWzHXEyBAIJ2A4DGdpZEIECBAgAABAgQITEJgrMAx4lS9TpsifOwaTE2iaDOa5KbdqrEPvHI9o2JbCgECixcQPC6+BQAQIECAAAECBAgsSSDH0DH6d/2OX7w37nwUOk6ri6vCxyKALtsZ2TWcjjJ2PU6rP8yWAIH5CAge51NLKyFAgAABAgQIECCwUWCOoaOST1dgPXxcDxZXf79N6Ch4nG6PmDkBAtMXEDxOv4ZWQIAAAQIECBAgQKBWYMzQMU6u7HuM8d9vs9OxdtEuyF6g6IuqYDH+ftvQsUCw6zH7djBBAgRmKCB4nGFRLYkAAQIECBAgQIDAqoDQUT8Q8Lq1HiBAgMAYAoLHMdQ9kwABAgQIECBAgMBAAmOHjnGZZbsd7XQcqAE85oyAXY8aggABAsMKCB6H9fY0AgQIECBAgAABAoMJ5BA6FotdDx/rXp8tDhepu24wTA+ahYDgcRZltAgCBCYkIHicULFMlQABAgQIECBAgEBTgZxCx/XwsS5MXD/RuO76piauIxAFhI/6gAABAsMJCB6Hs/YkAgQIECBAgAABAoMI5Bg6Nl34euhY3Cd8bCroujoBwWOdkN8TIEAgnYDgMZ2lkQgQIECAAAECBAiMLjDl0PHk5CQcXj4sNdzb2wsX9y6O7msC8xAQPs6jjlZBgED+AoLH/GtkhgQIECBAgAABAgQaCUw5dIwLLDuEJv57oWOj8s/2otgXB5cOws7Ozrk1xt91OahI8DjbdrEwAgQyExA8ZlYQ0yFAgAABAgQIECDQVmDqgWNc75XDK+H4+Pjc0ruESm39XJ+nwKYDidoeVrS+QsFjnjU3KwIE5icgeJxfTa2IAAECBAgQIEBgQQJzCB2rvusYy+jbjgtq5pWllu1+LXY9bvpdGy3hYxst1xIgQKCbgOCxm5u7CBAgQIAAAQIECIwukEvoGHcr7h/sd/LY9F1HoWMn0lncVLYDttj9WrU7tm2/CB5n0SoWQYBA5gKCx8wLZHoECBAgQIAAAQIEygRyCR3Xdyu2DX+Kta3vYvNdR31v16MeIECAwPQFBI/Tr6EVECBAgAABAgQILEwg19CxKMO24aPQcWENXbHctrseu3wP1K5HvUaAAIF+BQSP/foanQABAgQIECBAgEBSgVxCx7ioqlOoq04gbgKxzWvbTcZ3zXQEql7Dj8F21e/a9p7gcTr9YKYECExTQPA4zbqZNQECBAgQIECAwAIFcgodq76zZ7fiAhuzxyVvet16047INlMSPrbRci0BAgTaCQge23m5mgABAgQIECBAgMAoAjmFjlWnUAsdR2mNWT90U7i4aUdkGxTBYxst1xIgQKCdgOCxnZerCRAgQIAAAQIECAwuMIXQMaJ0/bbj4KAeOBmBunCxLJhs24eCx8m0g4kSIDBBAcHjBItmygQIECBAgAABAssRyCl0jOp9fNdxOdW00i4CRbhYFihu+l2bZwkf22i5lgABAs0FBI/NrVxJgAABAgQIECBAYFCB3ELHquDRK9aDtoWH9SAgeOwB1ZAECBAIIQgetQEBAgQIECBAgACBDAVyDB1XmYqdj01Dx/hdyIt7FzOUNiUCIQgedQEBAgT6ERA89uNqVAIECBAgQIAAAQKdBXIPHYuFxfCx6ff0Vl/RbnpPZ0A3EmgpIHhsCeZyAgQINBQQPDaEchkBAgQIECBAgACBvgWmEji2dag6BVsA2VbS9X0KCB/71DU2AQJLFRA8LrXy1k2AAAECBAgQIJCVwFxDx4hcdiBN01e0syqSycxaQPA46/JaHAECIwkIHkeC91gCBAgQIECAAAEChcCcQ0e7HfX5VAQEj1OplHkSIDAlAcHjlKplrgQIECBAgAABArMTmHPoeHJyEg4vH56rmd2Os2vjWSxI8DiLMloEAQKZCQgeMyuI6RAgQIAAAQIECCxHYM6hY6zilcMr4fj4+FxBfdtxOT0+pZUKHqdULXMlQGAqAoLHqVTKPAkQIECAAAECBGYlkHPoGF+Pvrh3cSvvqles7XbcitXNawKbTlaPwff+wX4rM+FjKy4XEyBAoFZA8FhL5AICBAgQIECAAAECaQVyDh3jSlcPg+m6O7HsQJk4dtfx0lbAaFMVKOuroqc2/a7pegWPTaVcR4AAgWYCgsdmTq4iQIAAAQIECBAgkEQg99CxbKdi27AwjhF/jo6OzpjZ7ZikhRY9SNnr+weXDsLOzk7p6enF75qiCR6bSrmOAAECzQQEj82cXEWAAAECBAgQIEBgK4HcA8e4uFSvR6/uPIthYwwghY5btY+bHxfYFDxu+l1TQMFjUynXESBAoJmA4LGZk6sIECBAgAABAgQIdBaYQugYF5fi9eiq8LLtrsnO2G6ctUBZfxWh9qbfNUURPDaVch0BAgSaCQgemzm5igABAgQIECBAgEAngamEjlUnULd9VbUsvLTbsVPruKlEoCxc3N3dPT1E5uTkJBxePjxzV/G7ppiCx6ZSriNAgEAzAcFjMydXESBAgAABAgQIEGgtMJXQMdUr1nY7tm4RN7QUqAsXHTDTEtTlBAgQ6FlA8NgzsOEJECBAgAABAgSWKTCV0DFWJ8Ur1lXj2O24zP7vc9VOtu5T19gECBBIKyB4TOtpNAIECBAgQIAAgYULTClwjKWq2qXY9hVrux0X3vgDLl/wOCC2RxEgQGBLAcHjloBuJ0CAAAECBAgQIFAITC10XK3c+knUF/cutiqsbzu24nLxFgKCxy3w3EqAAIGBBQSPA4N7HAECBAgQIECAwDwFphw6FhUpAp0uJ1CXhUFtd03OszOsKrWA4DG1qPEIECDQn4DgsT9bIxMgQIAAAQIECCxEYA6h47alSnGox7ZzcD+BFAJOtk6haAwCBAg8JiB41AkECBAgQIAAAQIEOgoIHM/DFQGkQ2U6NpXbRhcQPI5eAhMgQGBGAoLHGRXTUggQIECAAAECBIYTEDoOZ+1JBIYUEDwOqe1ZBAjMXUDwOPcKWx8BAgQIECBAgEByAaFjclIDEshGQPCYTSlMhACBGQgIHmdQREsgQIAAAQIECBAYRkDgOIyzpxAYU0DwOKa+ZxMgMDcBwePcKmo9BAgQIECAAAECvQgIHXthNSiB7AQEj9mVxIQIEJiwgOBxwsUzdQIECBAgQIAAgf4F5hI43nV0Vzg6OgpvvfOt/aN5AoEJCwgeJ1w8UydAIDsBwWN2JTEhAgQIECBAgACBXATmFjoWrsLHXDrMPHIUEDzmWBVzIkBgqgKCx6lWzrwJECBAgAABAgR6E5hL4FgAvfG2N5ZaCSB7ayEDT1hA8Djh4pk6AQLZCQgesyuJCREgQIAAAQIECIwpMLfQsXjFet10b28vXNy7OCa1ZxPIUkDwmGVZTIoAgYkKCB4nWjjTJkCAAAECBAgQSCswt8Ax6vQVOq6Oa9dk2j40Wr1A2Q7eog83/a5+5MeuEDw2lXIdAQIE6gUEj/VGriBAgAABAgQIEJi5wBxDx1iyvl6xLhvXDsqZ/5FktDzBY0bFMBUCBAjUCAgetQgBAgQIECBAgMBiBeYaOMaCDrHbcbVx7Hxc7J/RoAs/OTkJh5cPzzxzd3c37B/sh02/azNJOx7baLmWAAECmwUEjzqEAAECBAgQIEBgkQJCx25lv3J4JRwfH5+52W7Hbpbuai9QFqgX/Vf2uyKUbPMkwWMbLdcSIEBA8KgHCBAgQIAAAQIECFwXmHPguFrmFN+6K2ubsnEPLh2EnZ0dXUagd4G2wWOXUFzw2HsZPYAAgQUJ2PG4oGJbKgECBAgQIEBgyQJLCRyrwscuAcx6v1S9vu016yX/ZQ279k3B96ZQss0sBY9ttFxLgACBzQKCRx1CgAABAgQIECAwe4Elho6rRY2BzMW9i1vXOVWws/VEDLBYgU07eVP1p+Bxse1l4QQI9CAgeOwB1ZAECBAgQIAAAQJ5CCw9cExdBa9ZpxY1XhuBssNj4v3Fjtuy7492+QyA4LFNVVxLgACBzQKCRx1CgAABAgQIECAwOwGBY/qSes06vakR2wnUHR6T4rumQsd2NXE1AQIE6gQEj3VCfk+AAAECBAgQIDApAaFjf+VaD3ZSfDeyv9kaea4Cq3242oOCx7lW3LoIEJiygOBxytUzdwIECBAgQIAAgesCAsdhmyG+1hq/G+k062HdPa1fATse+/U1OgECyxMQPC6v5lZMgAABAgQIEJiVgMBxVuW0GAKjCggeR+X3cAIEZiggeJxhUS2JAAECBAgQILAEgaUHjsVBG8XBGkuouTUS6FtA8Ni3sPEJEFiagOBxaRW3XgIECBAgQIDAxAWWHjgW5Vv9np3wceJNbfrZCAgesymFiRAgMBMBweNMCmkZBAgQIECAAIElCAgdH6tyikM0ltAv1kigrYDgsa2Y6wkQILBZQPCoQwgQIECAAAECBLIXEDg+UaJ4qMvx8fG5mu3u7ob9g/3sa2mCBHIVEDrmWhnzIkBgygKCxylXz9wJECBAgAABAjMXEDieLXBV6Biv8rr1zP8YLK93AcFj78QeQIDAAgUEjwssuiUTIECAAAECBHIXEDier5DQMfeuNb+pCwgep15B8ydAIEcBwWOOVTEnAgQIECBAgMBCBQSO5YXfFDoeXDoIOzs7C+0Yy567wF1Hd4WLexcHWabgcRBmDyFAYGECgseFFdxyCRAgQIAAAQI5CggcN1el7DCZeEffoWMMfY6Ojk4n51XuHP9y5j+n9d5f78OUp7sLHuffT1ZIgMDwAoLH4c09kQABAgQIECBA4HEBgWPzVlgPYPoOHePMygLPvb29wXagNddx5RwFVoPv1fUV4ePJyUk4vHx4buldQnKh4xw7yJoIEMhBQPCYQxXMgQABAgQIECCwQIGph45//Md/HD737z8XbrzpxsGqVwSBQ4SOVcFjl1BnMCAPmpVAWfC4GnzX/b4NhuCxjZZrCRAg0FxA8NjcypUECBAgQIAAAQIJBKYeOBYEH/rgB8MXvvBI+M6XfWfY3d1NINNsiLjLa4hvOtbtNms2W1cR6C5Qt+O27vdtnix4bKPlWgIECDQXEDw2t3IlAQIECBAgQIDAFgJzCRwjwUOf/GT41Kc+Fb7lr/yV8Cef/nT4Gz/wA1vI5Hlryt1kea7QrHIWqAu+637fdm2Cx7ZiridAgEAzAcFjMydXESBAgAABAgQIdBSYU+BYENx3733hmc96ZnjFK14R3v2ud4W/+le/N1y44UJHoTxvK9tNNtQr3nmKmNWQAnW7Get+32auQsc2Wq4lQIBAOwHBYzsvVxMgQIAAAQIECDQUmGPgWCx9NWxcDSEb0py7LO7eurh3sevtvdxXFuz4vmMv1AZdE6g7NMZuRy1DgACB6QgIHqdTKzMlQIAAAQIECExCYM6BYyzAgw8+GP7oD//w+uvV8X//3gO/F37o4g91qs+Vwyvh+Pg45BTqlQU78TuW+wf7ndboJgJdBFb7sO5QmTh+178hOx67VMc9BAgQaCYgeGzm5CoCBAgQIECAAIEagbkHjsXyP/D+D4TnXXjemQNl7r7r7vBdL/+u8JKXvKRxn5Tt6uoanDR+aMMLfd+xIZTLBhFY3xHsNetB2D2EAAECSQQEj0kYDUKAAAECBAgQWK7AUgLHWOFrD18L73//+8Pzn//88IxnPOO06F//86+HP/n0n4TnPve54ZZbb2nUCFWvisabcwgffd+xURldNLLAap92/bux23HkIno8AQKzFxA8zr7EFkiAAAECBL4bXg0AACAASURBVAgQ6EdgSYFjIfixj33s9BTrCxduOIP6la98OXz+858Pf+t1r9uIXfXtutWbugYo/VT5sVFjwJPjvPpcs7GHF+j62YFtvpEqeBy+zp5IgMCyBASPy6q31RIgQIAAAQIEkggsMXSMcO9773vDd7z4xaWvVMffPf/bv/3MK9gFdgwcYzgSv+W46Wf1O3ZJCmUQAhMRWN8FPETQLXScSHOYJgECkxYQPE66fCZPgAABAgQIEBhWYKmBY1R+6JOfDA888EDlrsa4G/Kzn/nM9UNn1itT9vpycY2DW4btY0/LT6Dq76PPAFLwmF8fmBEBAvMTEDzOr6ZWRIAAAQIECBBILrDkwLHAvO/e+07/z6rvOMbvP374Ix8Or7r5VeHCDRfO1aAqWLHLMXm7GnBiAlXfPD24dBB2dnZ6W43gsTdaAxMgQOC6gOBRMxAgQIAAAQIECFQKCByfoHnwwQdrT60+OT4OO7u7lZ6r4WPc5Xhx72KvwYrWJpC7QFXo2HcgL3TMvTPMjwCBuQgIHudSSesgQIAAAQIECCQWEDomBn38kBaBY3pXI05XYIxXrKOW4HG6PWPmBAhMS0DwOK16mS0BAgQIECBAoHeBpQeO999/f7h69eoZ55tuuinceOONZ/7d6oExfX6HrveCewCBkQTsdhwJ3mMJECAwoIDgcUBsjyJAgAABAgQI5Cyw9MDx2rVr4Z577qks0Q033BBe85rXhLITqgWPOXe2ueUoMFboGC3sdsyxI8yJAIG5Cgge51pZ6yJAgAABAgQItBBYeugYqX7lV36lVuyRRx4JH//Yx0uvEz7W8rmAwBmBstesV/+OVsPJlH9fgkeNSIAAgeEEBI/DWXsSAQIECBAgQCA7AYHjYyUpe706/vunffXPwlMf///i//7yk58e3v/QZ8IjX3jkXC1TBiPZNYoJEehJYDV8XD/Fui6Y7DIloWMXNfcQIECgu4DgsbudOwkQIECAAAECkxUQOJ4t3epuxxg2PveLnw1P/eqXSut77StfD/c8fP53Uw8ey159nfqaJvsHurCJx4Bx/RTrK4dXwvHxcfKAX/C4sOayXAIERhcQPI5eAhMgQIAAAQIECAwrIHQ87x2Dx7rAsbhrNXic0wnVZcHjehg0bKd62lIF+vr+o9BxqR1l3QQIjCkgeBxT37MJECBAgAABAgMKCBzDmYNhznxL7o7L4blf/Eyjauzdf3+4/0+/Ev6/X/yVsLOz0+ieKVxUtsNM8DiFys1vjmWvWMdVbrsDV/A4v16xIgIE8hcQPOZfIzMkQIAAAQIECGwtsMTQMZ4+fXJ8cho21r2yee/P/Xhj4ztXDqG5evubwtXbLzW+N+cLy8Ke9W/u5Tx/c5uHQNUr1tuG4ELHefSHVRAgMD0BweP0ambGBAgQIECAAIHGAksMHKuCizK0YgfVIw89GD7+a79Q6xp3O+5dvXruujkEkH0c5FEL6gICKwJ9vWIdHyF41GoECBAYR0DwOI67pxIgQIAAAQIEehdYYuhYoFa9qrmOvvrq5sff9s/CI5/8xMa6rO52XL/w2qtuDTGAfPjmW3qvbR8PEDz2obrsMeNu4zafI/CK9bL7xeoJEJingOBxnnW1KgIECBAgQGDBAksOHLcJHuO9m8LHm5/yjPBf/eLP13bWFHc/xoDo8PLhmbXFg3P2D/Zr1+sCAmUCqz3V5tuM6+Fjitf97XbUowQIEBhPQPA4nr0nEyBAgAABAgSSC8wtdIzhRXz9svhGY9MAo2rnVAzT4g6snd2dyp1Yn/rge07rEl+/Ln5e8OofDM9+4UtO/+dNd1wON93x5traTSmAdKJ1bTld0EKgLMhu+rcbH1P8/W77Xcc4ltCxReFcSoAAgR4EBI89oBqSAAECBAgQIDC0wJwCx/WwcdWyaXhRBBcxaLy4d7HV655NanfDR+47DR8vfPje2svbBpC3PXBvuPPlt54bt+rf106gwQWCxwZILmkkUBY6Fjc2/ftt9KCGFwkeG0K5jAABAj0JCB57gjUsAQIECBAgQGAogTmEjjH4qjp9ukvwOJR9092PcT5NA8jbLr8phL/218Kd3/e668u47V/8fAif/nS481L9Tssuay87kCfFbrMuc3HPdAU2hY5jvLovdJxuL5k5AQLzERA8zqeWVkKAAAECBAgsUGAOoWMsW9PDYOK1Y+yaqmutlAHkGMFj3fr8nkCdQG6hY5yv4LGuan5PgACB/gUEj/0bewIBAgQIECBAILnAXALHAqZp8DjGrqk2xUsRQAoe24i7NgeBslf1i3mN9TcrdMyhM8yBAAECIQgedQEBAgQIECBAYGICcwsd68LHvr7T2GfZtwkgcwoe/6Nrvx8++9nPXqf63Cu+v082Y09UYNNhTmOcjC50nGgjmTYBArMUEDzOsqwWRYAAAQIECMxVYAqhY4qTqKcYNpb1XJcAMpfg8Zm/897wtKc9LTz66KOnS/va1752+s+Xvexl4Xef9cK5/olZV0eB9fCxaqdj/J5o32Gk4LFjEd1GgACBHgQEjz2gGpIAAQIECBAg0IdAzqFjipOo4xg7Ozt90I0+ZtMA8tqrbg0XXvnyEL77u8Odr/t71+d92y/+kxC++MVw9SnPCVdvv9T7ev7SvXefBo7f+Os/fOZZ3/6Jj4YHHnggPGvvH/Q+Bw+YnsDqafJl4eLqIUZ9fatV6Di9vjFjAgTmLSB4nHd9rY4AAQIECBCYgUCugeOmsHGVva+AYYqlbRRA7u+H8IUvhDt/4vCJ4PFHfiCE7/3eEH7pl07/3T2//s7w8M239ELwys8/GD70oQ9Vhovf8rEPBK9c90I/i0Hj9x4v7l08t5ayk9P7+G+D4HEWbWQRBAjMSEDwOKNiWgoBAgQIECAwP4FcQ8co3fRAmHhtHwHDlKu9MYB83/tC+OVfDuGFLwzhaU8L4Vu+JYTf+q0QPvWpEH7nd64vu6/w8Rkf/c3w9Kc/PXzmu/oJNqdcN3PvJlAWOhYjpfxvg9CxW33cRYAAgT4FBI996hqbAAECBAgQILCFQM6hY5vgcaxTbbegH+TWjeHj3XeH8Lu/+9g8fvZnw9Xb3xRuuuPN5+YV/33qV6+/9p7fCDfeeGP4veftDuLgIfMW2BQ67u3tle6O7CIidOyi5h4CBAj0LyB47N/YEwgQIECAAAECrQVyDx2LBW06zTa+bjnXbza2LuiGGxq9fr3h/tTh4xf+tzvD933f9wkeUxZ5omPFzykcXn7slf+2OxNX7y1bfsrQMY4veJxok5k2AQKzFxA8zr7EFkiAAAECBAhMTWAqoWN0XQ0e53IS9Vj9sk0AmTJ8tONxrA7I67nrOxXbBI91oePBpYOk/48SQse8esdsCBAgsCogeNQPBAgQIECAAIGMBMYOHYsDY8pOpC1jiuGEnY1pG6hrANk1fFzftfqO/+Y/r/3G4/d+8aHwu896YdqFGy0LgXg4zNHRUelc2oSPVbuhhY5ZlNkkCBAgMJiA4HEwag8iQIAAAQIECFQL5BI4Hh8fn06yTcCgrv0IdAkgr73q1vDut9/dakLrAdHv/NOf3Hiq9X/4zXeE5z//+Q6faaWc/8VNTqlv+9+F9d4SOubfB2ZIgACB1AKCx9SixiNAgAABAgQItBQYM3TcFDa0DRlaLrvz5XHOJ8cn5+6POy+b/Ky/Hl51T9Ndn02e2fWaIcLHsp1pv3bbfxYeffTR8I2//sNnpv7tn/hoeOCBB8Kz9v5B1yW5L0OBTQfAFNPtekhU7K+u99ZRecW6TsjvCRAgML6A4HH8GpgBAQIECBAgsGCBsULHum+wxZLkEjw2CUXazLfqFdD1Nmy6/vXx4qEZ8Wdnd2er79h1CR1X13DnH/5po7+sMo+49if/m3eFpzzlKeGbvumbTsf52te+dvrPl73sZV6zbiQ7nYvq/iZS71RMISN0TKFoDAIECPQvIHjs39gTCBAgQIAAAQKlAmOEjk0Cx2KyTYO3LuWN82h64nVdKNJ2vrmPV6znthc/pwvtmXvu+fV3hodvvmXjOFXBY7zpxQ/dHx555JHr93/uFd+/9ZwMkJ9A1d9E6pOnU61c6JhK0jgECBDoX0Dw2L+xJxAgQIAAAQIEzgmMEToWk6gL3vo4nbp4PTr+s+13JOvmO8fg8YaP3BcufPjecNMdb976r2dT+FgVRPcZOm+9IAP0IjCVE+qFjr2U36AECBDoTUDw2ButgQkQIECAAAEC5QJjho5xRlVBXqrAsSxkLJNoGm4tLXgsW+/PfvL3Twl/5vF/tv3bWj3x+pGHHgy//Y5fDU/96peuD3P/F74arv7pV07/d1/f42s7Z9cPLxB7r+616uK7sGN9A1XwOHxfeCIBAgS2ERA8bqPnXgIECBAgQIBAS4GxQ8diun3ubmoaFMa5dAkfYzAWf9Zf1e7yTcUYolT95PwqeAwiL+7ttdoRGcPHw6/+2ZnAcX3t/8e1PwvPfuFLw1ihUss/J5dXCKweGtX0b6wJ5voO2ZRjN3m+0LGJkmsIECCQl4DgMa96mA0BAgQIECAwY4FcQsdIXJw0G0+CbhqwtSlN0/Bx6OCizRq6XLt64vbR0dGZIZqutYtdPIgm/tS9mn10003h6MYbNy7t3z75BsFjl+JncM9dR3eFrn1XN/2qQ56a9nXd+HW/FzrWCfk9AQIE8hQQPOZZF7MiQIAAAQIEZiaQU+g4BG2T8MwrveWVaGIX79wU+GwKIuvCx2e/6KXhe97wj4doE89IILC6u7FquG3Cwb7Hb0IgdGyi5BoCBAjkKSB4zLMuZkWAAAECBAjMSGCo0DHuSOrjFdkur22uh2fF69Fxh2X86WOX5Vxapmpn2fr62oRJL/7x/zI88tAnwt7Vq6fDnNxwQ7j8mtdUkt36U//TXDhnvY4UIfUmoLIdlOvX130TctsCCB23FXQ/AQIExhUQPI7r7+kECBAgQIDAAgT6Dh77+O5a1S6npmFXDM9iuNjlu4sLaIlOS4whUPwpXqVtWot4z8ff9s/CI5/8xPXn7t1/fzi5cCEcX7hQOpe64LF4Vb8IkNW5U0m3vqlp8Nhld3FdAN5lzLYLFjq2FXM9AQIE8hMQPOZXEzMiQIAAAQIEZiTQd+hYFg60CaRWqXN4pXJGpc9qKevBY93kmgSPVWPs7e2d/koYWae8/e83BY8pTqmvGr/vXY6FjOBx+x4xAgECBMYWEDyOXQHPJ0CAAAECBGYr0GfouL7LcR2xbfhYt7tpdfy2Y8+2wBNZWPze49P+5a9ufLV6fSmbgscmr98W4+mVZk1ShP7x6uPj48anvcfr18PBlKFg2ScT+jqQal1K6Nisd1xFgACB3AUEj7lXyPwIECBAgACBSQr0GTo2CX7ahg9NX9mMxRAmTacl/9bf/aFw4cP3nk647lCZYlUv+P4fDC949Q9WLrJpSN20T8pe2159+Jy+B1qceh7/WYSMVdBt/foKBIv/NsSdrMU3Wvv+CxA69i1sfAIECAwnIHgcztqTCBAgQIAAgYUI9Bk61oU+23x3re/XNhdS/iyWecNH7guv/dHXn5vL4WtfW/ldx3jxN++8MvwnP/JjG9fQNKRuE5w1QWs6XpOxxrwmtV/fa4n/zekr1Cybu9Cx74oanwABAsMKCB6H9fY0AgQIECBAYOYCfYaOkW5TaNF2l+N6KcZ8rXLmbTHo8lZ3OZYGO//wH5bO59kvemn4njf848ZzLQ67ibv34uvB6z9Ng8LUQdzqeMVp6mW7Jpvu3ovrLHYoxjWWrTX++7HW27hgj18Y15LrLlKhY9tqup4AAQL5Cwge86+RGRIgQIAAAQITEug7eCwLH7fZ5VgWPm4bYE6oXLOaatUux9VFXr39TeHq7ZfCpz74nvDIQw+e/urLT3562Ln51vDsF75ka4/iVeI4UNNgr8/gcdOCxgoKU6+3adHWvwvbdP1Nx9/2OqHjtoLuJ0CAQJ4Cgsc862JWBAgQIECAwAQFhggd14PHuu+u5by7aYIlznbK8QCZm+5488b5veVn/ml41o+9Mbs1pA7ipjpeilOoy4q76bT6XMJHoWN2f5YmRIAAgWQCgsdklAYiQIAAAQIEliwwVOhYGMdwZdPOxNWwIZdwYcn90dfa4y7HGDgWB8iUPefaq24N73773WH1UKIYcsXXbZvuSuxr/sW4xWvb8X+vvtYc/3fxanPTPs49eIxr3dndOV16n688bwocC/empn3WX+jYp66xCRAgML6A4HH8GpgBAQIECBAgMHGBoUPHOq6yA2hyCBjq5u337QTavFodRy4L5Op2zLabUR5X5x48DqFUdwhVMYeUn2nosi6hYxc19xAgQGBaAoLHadXLbAkQIECAAIHMBHIKHVd3tJUxCR8za54tplN3gEzc5Ri/5/jwzbdcf0pZIDf3nih2T54cn5zTbrrbc3WHYjFInzsVt2iLjbVeHbev17rbzF3o2EbLtQQIEJiugOBxurUzcwIECBAgQCADgRyCxyavVEaquYdMGbRD71Nou8txdUJLDB57L0imD6ja9ZlD4BjJhI6ZNo5pESBAoAcBwWMPqIYkQIAAAQIEliGQMnQsTpxtGw6un1RbJe+k6un3ZJMDZO759Xee2eVYrLqsT8Z+zXb6Fcl7Bavho8Ax71qZHQECBOYsIHicc3WtjQABAgQIEOhNoI/QsZhsm/Cx7nt2c/yGX29FzXTgNgfIVC2h7DV8vZFpwSumFb/buH+w33jS8b8NuQSOcdJ2OTYunQsJECAwKwHB46zKaTEECBAgQIDAUAIpg8dtX4Etu99utqE6od/nbLPLcXVmgsd+69TX6GWfUWjz/zDR17zajit0bCvmegIECMxHQPA4n1paCQECBAgQIDCQQN+hY7GMNgFDET7mtMNpoHLM9jFNDpB599vvbrT+slOOvX7fiG7wi+q+2drmvwuDT77kgULHHKpgDgQIEBhPQPA4nr0nEyBAgAABAhMUyDF0LBjbvoo5Qf5FTHmbA2SqgLbdVbsI+JEXWRYOV01pKuGj0HHkpvJ4AgQIZCAgeMygCKZAgAABAgQITEcgVfC4KWSYSqgwnapNZ6apXq1eX7HgMf8eqPte6+oKpvDfCKFj/j1nhgQIEBhCQPA4hLJnECBAgAABArMQSBU6ln1vrwCaQqAwi2JmtogUB8hktiTT6SCwKXycymcUBI4dCu8WAgQIzFhA8Djj4loaAQIECBAgkE4gVegYZ1QVLvjmXrp6TWmkvnY5TslgrnON32vc2dlpvLyqg6Iu7l1sNU7jBya+UOiYGNRwBAgQmIGA4HEGRbQEAgQIECBAoH+BlMFjWfhYFjoWr2PbBdl/fcd6QsoDZMZag+c+JhBDxpPjk9N/Hh8fn2Fp+jc85UOihI7+EggQIECgTEDwqC8IECBAgAABAjUCqUPH4nFFyLC3txfijqbVn/VvQDYNLhRzGgJ9HCAzjZXPa5Z1J1AXq53736/QcV59bTUECBBIKSB4TKlpLAIECBAgQGCWAn0Fj1VYVQfPzD28mGXzlCzKq9XzqXTTA2Hm+rcrcJxPL1sJAQIE+hIQPPYla1wCBAgQIEBgFgK5hI4Rs2xn5CyQF7IIB8jMr9BNg8e48rmFj0LH+fWzFREgQKAPAcFjH6rGJECAAAECBGYhIHScRRmzWIRdjlmUoXYSxavT+wf7tdcWF9SdRB0Pl9nZ3ZnE4TBNFi1wbKLkGgIECBAoBASPeoEAAQIECBAgUCEwZPB419Fd4ejoqHQmdjpOu0UdIJNv/YqgMc5w2wNh4hi7u7vXv9fa5jTrfIXOzkzoOJVKmScBAgTyERA85lMLMyFAgAABAgQyEhA6ZlSMiU7FATJ5Fi71gTDx/9FgTjsaq6omdMyzn82KAAECuQsIHnOvkPkRIECAAAECowhsGzzGMGL9pOpNCyl7XdNOx1FKn+ShTXY5Xr39TeHhm29J8ryqQeJBRW1eG+51MpkM3vS7jHP7JmNXfoFjVzn3ESBAgEAUEDzqAwIECBAgQIDAmkCK0LF4bbpNeLEaiAgdp9mWTQ6QiYHj1dsvDbLAspCtTU8OMsmBHyJ4bA4udGxu5UoCBAgQKBcQPOoMAgQIECBAgEDi4HGbsCfeK3ScZkvmeIDMNr04zSrUz3pph8HUi5y/QuDYRc09BAgQIFAmIHjUFwQIECBAgACBFYGUux1XYYWJ826zJq9Wv/vtdw+KEL9leHj58Nwz57TjcfV7jU3XtR48FgfCzPEwmC4NJ3TsouYeAgQIEKgSEDzqDQIECBAgQIBAouCx6mRqoeN8WyznA2TK+nEuvRi/Xdn1FOrYjfH++A1WYeMTf5sCx/n+d8rKCBAgMKaA4HFMfc8mQIAAAQIEshPYZsdj1SucTXdiZYdhQhsFmuxyHOIAmapJzi14bHIatb+1bn+0Qsdubu4iQIAAgXoBwWO9kSsIECBAgACBhQhsEzra7Ti/JrntgXvDnS+/9dzCct7luDrZsiD84NLB5Hb5Vb0yXtZxgsd2f4cCx3ZeriZAgACB9gKCx/Zm7iBAgAABAgRmKrBN8FgW8szltdaZlnvjsm67750h/MZvhDt//l+cue62//EghFe/OoQ3vKHy/nt+/Z3h4ZtvGZ1tTgfLNDmJOn6rMb46HV+h9rNZQOCoQwgQIEBgKAHB41DSnkOAAAECBAhkLbBN6Fi123F191W8RiCSdQucm9xtb3h9CD/3c+HOF910+rvTV6uf/fQQ3vOe0oVce9WtYegDZDaJLiV4dDhMu78roWM7L1cTIECAwHYCgsft/NxNgAABAgQIzEQgdfC4uttxPZj0Oug0muZ0d+OLXhTuefErw2t/9PUh/MIvhHD//SH88i+fW0D8luPV2y9ls7CyMDwGdPsH+9nMse1Eyk6jnvJ62q5/2+sFjtsKup8AAQIEuggIHruouYcAAQIECBCYlUCq0DGGjUdHR6c2q+HinHaezarwNYspXrcO73rXY1e+7nUh/J2/c+Y167jLccwDZOrqsdp7U3/1P67F7sa6ip//vcCxvZk7CBAgQCCdgOAxnaWRCBAgQIAAgYkKdA0eqw692LTbsSCa4iEfEy1vp2lfP0DmlltOX7c+/fmpnwrhvvuuj5fbLsdOCx3xpvj3E7/J6KcfAYFjP65GJUCAAIF2AoLHdl6uJkCAAAECBGYo0DV4vHJ4JRwfH58TKXY7Oul6ms1y0x2Xw013vPmxyf+jfxTCDTc89n8//PD116xzOUBmmsIhrP5t+PRA+ioKHdObGpEAAQIEugkIHru5uYsAAQIECBCYiUDX0LFJqFh1Eq+gJd/mOT1A5sP3PjHBt70thMuXH/vfly6Fa7/wS1kdIJOvZPXMygJ7fxNpKilwTONoFAIECBBIJyB4TGdpJAIECBAgQGCCAqmDR7sdJ9gEIYTrr1aXTf+lLz39t/f83FvCwzffMs0FZjDrqk8TxKkJHrcrkMBxOz93EyBAgEB/AoLH/myNTIAAAQIECExAoGvwWLabcfXbjmW/n/qpwhMoZ6cpntvluD5K3PUYQrjzltd3Gt9NZ1+tLvPwt9GtSwSO3dzcRYAAAQLDCQgeh7P2JAIECBAgQCAzga6hY9Vr1nW7HR0ok1cDbNzl+PhUHSCzfc2qvoVajDz107a3F2o/gsCxvZk7CBAgQGAcAcHjOO6eSoAAAQIECGQg0DV4bLLbMYYpR0dH11cpXMmg4CtTOHOATMXUHCCzfc3qQkdhfHtjoWN7M3cQIECAwHgCgsfx7D2ZAAECBAgQGFkgZfBYtduxCCB9w27kYq88vu7V6muvutUBMgnL5bMDaTAFjmkcjUKAAAECwwoIHof19jQCBAgQIEAgI4GuwePqEmKoUvdtR7sd8yh6k1er7XJMX6v1XY/+HtoZCxzbebmaAAECBPISEDzmVQ+zIUCAAAECBAYSSBE6rk+17tuPAy3NY0oElrLLcXV3YU67bIt5ebW6+Z+nwLG5lSsJECBAIF8BwWO+tTEzAgQIECBAoEeBPoLHum8/9rgcQ1cINNnlOKcDZMp6MKcAUqPWCwgc641cQYAAAQLTERA8TqdWZkqAAAECBAgkFBgqeBT6JCxay6GWdoCMHbctGySzywWOmRXEdAgQIEAgiYDgMQmjQQgQIECAAIEpCfQROgp98umAuMvxpjveHC58+N7KSc3xAJmyHvQ9xXz6smomAsf8a2SGBAgQINBdQPDY3c6dBAgQIECAwEQF+ggevWadRzM0ebV6rgfIlPWgbyrm0ZdlsxA45lsbMyNAgACBdAKCx3SWRiJAgAABAgQmIpA6eLTbMY/CL+UAmTLtk5OTcHj58Nyv+nzVv+j7Pp+RR2elnYXAMa2n0QgQIEAgbwHBY971MTsCBAgQIECgB4HUwWOc4vpuM6+49lC4iiGb7HKc0wEyZQxDv2a9HnQKH5v1u9CxmZOrCBAgQGA+AoLH+dTSSggQIECAAIEGAn2EjuuPjSGkIKZBMRJcUneATPyWYwwdH775lgRPy3eIoV/1L3te1NH35T0icMz3b8fMCBAgQKBfAcFjv75GJ0CAAAECBDIT6BI8FiGLUCWfYi71AJmqCpQFgX31a1XoaJfv+eoIHPP5b4aZECBAgMA4AoLHcdw9lQABAgQIEBhJYJvgcXXKfYU6I7FM6rF1uxzjYuZ6gMzYwWPV90x3d3fD/sH+pPqoz8kKHPvUNTYBAgQITElA8DilapkrAQIECBAgsLVA2+DRwTFbkycdYMkHyLSBjH17ce9im1tqr636W4g3CuIf4xM41raRCwgQIEBgYQKCx4UV3HIJECBAgMDSBVIEj14pHb6LHCAzvPnqE4WOm/0FjuP2p6cTIECAQL4Cgsd8a2NmBAgQIECAQGKBtqFjfHzZ9+wOLh2EnZ2dxLMzXJVA3avVSzlAZswOqfqu49L/FgSOY3alZxMgQIDAFAQEj1OokjkSIECAWEXtLAAAIABJREFUAAECSQRSBY9eK01SjtpBmhwgE0+svnr7pdqxXLC9wHr4uPSdv0LH7XvKCAQIECAwfwHB4/xrbIUECBAgQIDA4wJtg8eTk5NwePnwnJ/gsf+WqtvlGGewtANk+levf0IRPi45dBQ41veJKwgQIECAQCEgeNQLBAgQIECAwGIE2gaPZd+1W3LgMlSjOEBmKGnPaSMgcGyj5VoCBAgQIPCYgOBRJxAgQIAAAQKLEUgZPBahpN2Pj7XP/VfvP9dHz3zWM8NLXvKSxv3lAJnGVC4cUEDgOCC2RxEgQIDA7AQEj7MrqQURIECAAAECVQJtg8dNB8vYDfmE8v3/7v5w7U8eDhcu3HCG/tGvPxqe+pSnhpd/98uv//u4mzH+vPvtd5+5tu7VagfI+LseQ0DoOIa6ZxIgQIDAnAQEj3OqprUQIECAAAECGwXaBo+rgxUhZLHD8crhlXB8fHzmeUt9DTsGj/HnxlfeeM7/A+//QPi2b/u28NLvfGlYDReLQ2EcIOOPNkcBgWOOVTEnAgQIEJiigOBxilUzZwIECBAgQKCTwDbB4/oDy3ZDLvW1603B40Of/GT4gz/4g7D/e/9XuOmON59hjLsYL3z43o21dIBMOc/qjtul9l2n/wjU3CRw7EPVmAQIECCwZAHB45Krb+0ECBAgQGBhAoLHfgq+KXiMT3zGf/vG8CPv/tetHh5DyfXXsVsNMPOLy4Lvpe64TVVqoWMqSeMQIECAAIEnBASPuoEAAQIECBBYhEDK0DGC2fH4RNtsCh6bHBiz3oB2OW7+kyz7vmi8Y9udj0s9MEnguIj/X4BFEiBAgMBIAoLHkeA9lgABAgQIEBhWIGXweHJyEg4vH55ZwO7ubtg/2B92UZk8bVPweNuLn9N4lg6QaUbV1/dF18P0bYPMZqsZ7yqB43j2nkyAAAECyxEQPC6n1lZKgAABAgQWLZAyeHSi9dlWqgoe4wnWdd9wLEYqDptZdJM2XHwfu23Lwsw4nbmGj0LHhs3mMgIECBAgsKWA4HFLQLcTIECAAAEC0xAQPPZXp7LgsU3oGGfmm47N6tPHa9ZVY87xm5ECx2Z95ioCBAgQIJBKQPCYStI4BAgQIECAQNYCgsf+yrMePN50x+VzJ1g3ebpdj/VKfRwqUzZmnMncdjsKHev7yxUECBAgQCC1gOAxtajxCBAgQIAAgSwFUgaPcYHrYc3BpYOws7OT5dr7ntS3/t8fCu/9+jPDja+8MXQNHYs5Olimulpl3xbdNiCsesV6Tv0scOz7vwDGJ0CAAAEC1QKCR91BgAABAgQILEIgdfC4CLSaRb7tj75wesXnPve58JcfuRZ+4n3/Krz2Hf9LJxoHy9Szpf626BJesRY61veVKwgQIECAQJ8Cgsc+dY1NgAABAgQIZCPQNngs2wk2p11g2xbmn3/iT8M3/4Unhb/0pBC+/OffCBfu/a3wv/93b2w9rB2O7cjWd9pu8x3GOb9iLXBs11euJkCAAAECfQkIHvuSNS4BAgQIECCQlYDgMV05rvz+58Irn/OU8DcvPP36oLe9+DmNH2B3Y2OqjRfG4HCb7zCWBY9zCNeFjmn6yygECBAgQCCFgOAxhaIxCBAgQIAAgewFBI/blejatWunA8R//ocX7IT/+LlPPf3fH/38l8N//V/87fDK+z+88QHCxu38+7p7NXzcZvdkX/NrO67Qsa2Y6wkQIECAQL8Cgsd+fY1OgAABAgQIZCIgeOxWiBg0fuqD7wlfO/l3Zwb4o7/306evWL/lx380vOrjH6kcXODYzX3ou7bdPTn0fNefJ3AcuwKeT4AAAQIEygUEjzqDAAECBAgQWISA4LF9me+///7wpbt/7dyN/+cP/0R48l98UvjJf/kL4cd+9S3nfi9sbG/tju4CQsfudu4kQIAAAQJ9Cwge+xY2PgECBAgQIJCFgOCxfRnee/jT4alf/dK5G//X1x+EX/sf/m7Yu3r1zO8++oqbw7//iZ8KD998S/uHuYNABwGhYwc0txAgQIAAgQEFBI8DYnsUAQIECBAgMJ5A2+DxrqO7wtHR0ZkJz+EbeE0rULXbMd7/2e/4T8M7f/rvnw51csMN4bf/yT8Pb3z6d4YbnvJN4We++1ubPsJ1BDoLCBw707mRAAECBAgMKiB4HJTbwwgQIECAAIExBdqEj0sPHu+643J47hc/c65cu9euhYN77gn/9ntuDj/5lt84/f1feNKTwvH/+9XwpUf/PPzPN10Ys8SevQABoeMCimyJBAgQIDAbAcHjbEppIQQIECBAgECdgOCxTuiJ328KHo8vXAjxcJni59l3/VK4ePul8L7P/Fn4G897evOHuJJASwGhY0swlxMgQIAAgZEFBI8jF8DjCRAgQIAAgeEE2gSPJycn4fDy4ZnJ7e7uhv2D/XDl8Eo4Pj4+87uDSwdhZ2dnuMX0/KSq4LHssZ9/1vNOg0c/aQWmftJ0Wo0QhI6pRY1HgAABAgT6FxA89m/sCQQIECBAgEAmAl2Cx7fe+dZzs1/Ca9gfOPpX4S9+7N80qtwzfujvhxtvvLHRtS5qJrDeY2V92GSkYpyu9zd5Rt/XCBz7FjY+AQIECBDoT0Dw2J+tkQkQIECAAIHMBNoEj5umvmk3ZGZL3mo6Vadarw765Sc/I/zAwX+/1XPcfF4g7nZc/2l7uFFZQD61AFLo6K+DAAECBAhMW0DwOO36mT0BAgQIECDQQkDw2AIrhBBPtv5/fvNfh6d+9UulN8bQ8Vv/5t+227Eda+3VZYFhvKltaFgWXnYZp3bCPV0gdOwJ1rAECBAgQGBAAcHjgNgeRYAAAQIECIwrkCp4jKsoC3XaBkPjajR7+rVr18Jvv+NXz51w/c07rwwvePUPhgsXnGLdTLL5VX3tdowzaLtrsvms014pdEzraTQCBAgQIDCWgOBxLHnPJUCAAAECBAYXEDxuRx53QBZBo8BxO8uqu1PsdqwaQ+jYT82MSoAAAQIECFQLCB51BwECBAgQILAogVTh4xJOtl5UY2Sy2BS7Haf6irVdjpk0oWkQIECAAIGEAoLHhJiGIkCAAAECBPIX6DN4nMqOsvyrtMwZptjtWBaIR83ce1PouMyet2oCBAgQmL+A4HH+NbZCAgQIECBAYEUgVfC4lJOtNc8wAilej04xxjCrPfsUoeMY6p5JgAABAgSGERA8DuPsKQQIECBAgEAmAn0Fj3M8WCaTki1iGilfj14fK+feFDouor0tkgABAgQWLCB4XHDxLZ0AAQIECCxRIFXwuEQ7a+5HoI+dikX4mPMr1kLHfvrJqAQIECBAICcBwWNO1TAXAgQIECBAoHeBrsHj6i6ynMOc3gE9oBeB9V2Ku7u7Yf9gf6tnxUDz4t7Frcbo62ahY1+yxiVAgAABAnkJCB7zqofZECBAgAABAgMItAkffctxgIJ4xKnAaviY8+vR25ZL6LitoPsJECBAgMB0BASP06mVmRIgQIAAAQKJBNoEj+uBUDGFOQdDiZgN01Eg552KHZd0epvAcRs99xIgQIAAgWkKCB6nWTezJkCAAAECBLYQaBs8Xjm8Eo6Pj8888eDSQdjZ2dliFm4lsBwBoeNyam2lBAgQIEBgVUDwqB8IECBAgACBRQq0CR/LgscU3+BbJLxFL05A6Li4klswAQIECBC4LiB41AwECBAgQIDAIgXaBI9l33mMaF63XmTrWHQLAaFjCyyXEiBAgACBGQoIHmdYVEsiQIAAAQIE6gXaBI9xtPVTh+O/87p1vbMr0gsUvZh78C10TF97IxIgQIAAgakJCB6nVjHzJUCAAAECBJIItA0e275uHa/fP9hPMleDECgE1vsw1/BR6KhnCRAgQIAAgSggeNQHBAgQIECAwGIF2oSPTV63Xt8VaUfkYlurdOHbnlYd7z86Ojo3dm7ho9BR3xMgQIAAAQKFgOBRLxAgQIAAAQKLFWgTPEak9WBxNfBpuyNysegLXvg2r0hXhY6RM6fgUei44Aa3dAIECBAgUCIgeNQWBAgQIECAwGIF2gaPm16fbrIjcrHQFh7KgummgWFVb0XWnHbVCh01OgECBAgQILAuIHjUEwQIECBAgMCiBdqGj5uwHECz6FaqXHzVbsW9vb1wce9iLVpZX8Wbmt5f+4AEFwgdEyAaggABAgQIzFBA8DjDoloSAQIECBAg0FwgZfBYtqstzqTpzrbms3blVAS2fUW6qqeEjlPpAPMkQIAAAQLLFhA8Lrv+Vk+AAAECBBYvkDJ4jJh2PS6+pc4AVO1WbPqKdNn9u7u72ZyYbqejfidAgAABAgQ2CQge9QcBAgQIECCweIGU4aNDZhbfTtcBUu1W3HSo0ZjaQscx9T2bAAECBAhMQ0DwOI06mSUBAgQIECDQo0DK4LHqIJCmO9x6XKahBxSoesW6627FbU7E7mPZQsc+VI1JgAABAgTmJyB4nF9NrYgAAQIECBDoIJAyfNzmBOMOU3dLhgJVr1hv873PGGrv7OyMulqB46j8Hk6AAAECBCYnIHicXMlMmAABAgQIEOhDIGXwuLrrcZugqY91GnM4gfXwceq7XoWOw/WOJxEgQIAAgbkICB7nUknrIECAAAECBLYSSBE8xqCp66u0W03ezVkLxL7I6RTqLlhCxy5q7iFAgAABAgQEj3qAAAECBAgQIPC4QNfwcW472zQEgVUBoaN+IECAAAECBLoKCB67yrmPAAECBAgQmJ1Al+Cx7Ft+dj3OrjUWuyCh42JLb+EECBAgQCCJgOAxCaNBCBAgQIAAgbkItA0fnWI9l8qPs47cTqteVRA6jtMTnkqAAAECBOYkIHicUzWthQABAgQIENhaoG3wGB/YxwnGWy/EANkLrJ9+ntNBRELH7NvHBAkQIECAwCQEBI+TKJNJEiBAgAABAkMKtA0fq3Y9euV6yKpN61nroWMx+xzCR6HjtHrJbAkQIECAQM4Cgsecq2NuBAgQIECAwCgCbYPHOMmqIGnTacZzOO14lAJl8NCi3l2Cwqpeics6uHQQdnZ2Rluh0HE0eg8mQIAAAQKzFBA8zrKsFkWAAAECBAhsK9AlfKx65bosTFq9duywaVurpd2/Xuc24aPQcWndYr0ECBAgQGDZAoLHZdff6gkQIECAAIEKgS7BY9kr1+uhVJtwUnHyE9jme55Cx/zqaUYECBAgQIBAvwKCx359jU6AAAECBAhMWKBL+HjX0V3h6OjodNVlO+FWf79OY+djvs1S9R3PYsZ1tasKLOP9dff2qeLV6j51jU2AAAECBAgIHvUAAQIECBAgQGCDQJfwsQ5U+FgnlNfvN9WrTXBYFj4KHfOqtdkQIECAAAECaQUEj2k9jUaAAAECBAjMTKCP4DES5fza7cxKuNVyUoWOxSRy+bannY5btYWbCRAgQIAAgYYCgseGUC4jQIAAAQIElisgfFxu7ePKU36XsxjLTsdl95TVEyBAgACBpQgIHpdSaeskQIAAAQIEthIYOnxsc1LyVgtzc63AevC4u7sb9g/2a++ruiB+L3JnZ6fz/dvcaKfjNnruJUCAAAECBNoKCB7birmeAAECBAgQWKRAX8FjxFx/7VromF+LFeHj3t5euLh3Mb8JNpiR0LEBkksIECBAgACBpAKCx6ScBiNAgAABAgTmLJA6fIyBY7FzrggfhY75dlD83uMUQ0eBY749ZWYECBAgQGDuAoLHuVfY+ggQIECAAIGkAqnCx2IH3bav7SZdnME6CcRXpw8vH4YcQ2OhY6eSuokAAQIECBBIJCB4TARpGAIECBAgQGAZAimCx9TfDFyGfPpVpvjW4vqp1zmFj0LH9D1jRAIECBAgQKCdgOCxnZerCRAgQIAAAQJhm/Cx6oTkyJpTaDX3Mq8Ghl3d17/NmVMNhY5z72DrI0CAAAEC0xAQPE6jTmZJgAABAgQIZCbQNXwsXsutWk7TECwGmE2vzYxu1OmU+bd1TFXDPiAEjn2oGpMAAQIECBDoKiB47CrnPgIECBAgQGDxAmOFj6u7Jqd8yvLQDVS2Q7GYQ9PwcdMYcawxv9kpdBy6ozyPAAECBAgQqBMQPNYJ+T0BAgQIECBAoEKga/AYh6vbNVcVKJa9qi183Nyi699hLLu6LjCsq1ccc8w6CB39Z4oAAQIECBDIUUDwmGNVzIkAAQIECBCYjEBf4WPZDrxN34ccO/jKtWB1Zm3cNo11cOkg7OzsjMIgdByF3UMJECBAgACBBgKCxwZILiFAgAABAgQIbBLYJnyM464HWpte+00ZpC2hqpu84i7Hi3sXWwWGuZ1ILnRcQhdbIwECBAgQmK6A4HG6tTNzAgQIECBAICOBVOFjk28NNnl1uMk4GfH1OpWy8LHrDsXVsbqOkWKxAscUisYgQIAAAQIE+hYQPPYtbHwCBAgQIEBgMQLbho9toOrCR8HjE5qpD+OJB8zsH+y3KVfSa4WOSTkNRoAAAQIECPQoIHjsEdfQBAgQIECAwPIEhgwfo25ZADn30DEe9BLX3Sb8GzssTPWXIHRMJWkcAgQIECBAYAgBweMQyp5BgAABAgQILEpg6PBxNYBsEzrG8G5nd6fVNw7HKmQRNh4fH1+fQpu1Vs27S4g5hoHAcQx1zyRAgAABAgS2FRA8bivofgIECBAgQIBAiUDf4WPx+vDe3t7pASldftZfQY5jdB2ry/M33RMDwZPjkxD/uRo2rt/TNXzsK8hM7RDHEzr2oWpMAgQIECBAYAgBweMQyp5BgAABAgQILFKgr/Cx7LCULgFk1YnP8bTnnZ2d05qNtSOyyendcX5tg8cYOB5ePqzsx7bj9d3YQse+hY1PgAABAgQI9CkgeOxT19gECBAgQIDA4gVSh491gVzTALJunNXCNQnjYqDX5KcINOuubTq/JnOLz6o7jKeYT9Px6ua/7e8FjtsKup8AAQIECBDIQUDwmEMVzIEAAQIECBCYtUDK8LFpIFcXQDYdp2kQN/R4cVdmfC28SZDZdG5txuyzYYWOfeoamwABAgQIEBhSQPA4pLZnESBAgAABAosVSBk+pti9F8eIP0dHRxtrklPwuE0wuCl83GbclA0tcEypaSwCBAgQIEAgBwHBYw5VMAcCBAgQIEBgEQIpw8cItimAbBoYFuNUhZBNx2m6q7DpeFcOr5z2RHHYTZOdjZuaqGx+uQSOcd5Cx0X8J8AiCRAgQIDA4gQEj4sruQUTIECAAAECYwsMEUA2DfjKLIoTpVeDvzqz1MFj3fOKb0q2CSSLOQoc63T9ngABAgQIECCQRkDwmMbRKAQIECBAgACBVgKpw8f48GIHZJvQMYZx8XuQbULGsoUWOxTrEPYP9usuKf19ETTGNR4fH5+5pul64xhtgspOE214kx2ODaFcRoAAAQIECExaQPA46fKZPAECBAgQIDBlgT7Cx7YeVa8gFwFd8apz23FTXB9DxhgWrgeN62M3DR5TzCnFGELHFIrGIECAAAECBKYgIHicQpXMkQABAgQIEJitwNjh49CvSLcpZM5za7OO4lqBYxc19xAgQIAAAQJTFhA8Trl65k6AAAECBAjMRmCMALJpsBe/idjkFenV8eI9qz+ruxab7lBsOr+m443VLALHseQ9lwABAgQIEBhbQPA4dgU8nwABAgQIECDwuMDQ4WPqYG/o8XI6JKaqiYWO/rwJECBAgACBJQsIHpdcfWsnQIAAAQIEshQYMoAsTrDe9C3FpjsK+w4ei6AxFi2XQ2IEjln+CZkUAQIECBAgkImA4DGTQpgGAQIECBAgQGBVYMjwcV0+HuoSf4owcqzgsZjDFILGwtAOR3/HBAgQIECAAIEnBASPuoEAAQIECBAgkLHAmAFkW5bUOx7bPn/M6wWOY+p7NgECBAgQIJCrgOAx18qYFwECBAgQIEBgRWBKAWScdtwtufqT+6vRXZtN4NhVzn0ECBAgQIDAEgQEj0uosjUSIECAAAECsxGYWgA5G/i1hQgc51pZ6yJAgAABAgRSCggeU2oaiwABAgQIECAwgIDwcQDkkkcIG8dx91QCBAgQIEBgugKCx+nWzswJECBAgACBhQsIIIdpAIHjMM6eQoAAAQIECMxPQPA4v5paEQECBAgQILBAASFk+qILHNObGpEAAQIECBBYloDgcVn1tloCBAgQIEBg5gICyO0KLGzczs/dBAgQIECAAIFVAcGjfiBAgAABAgQIzFBAANm8qMLG5lauJECAAAECBAi0ERA8ttFyLQECBAgQIEBgggJCyPNFEzZOsJFNmQABAgQIEJicgOBxciUzYQIECBAgQIBAd4Elh5DCxu59404CBAgQIECAQBcBwWMXNfcQIECAAAECBGYiMOcgUtA4kya1DAIECBAgQGCyAoLHyZbOxAkQIECAAAEC6QWmHEQKGtP3gxEJECBAgAABAtsICB630XMvAQIECBAgQGABAjmGkULGBTSeJRIgQIAAAQKTFxA8Tr6EFkCAAAECBAgQGE+gz1BSuDheXT2ZAAECBAgQIJBCQPCYQtEYBAgQIECAAAECBAgQIECAAAECBAicERA8aggCBAgQIECAAAECBAgQIECAAAECBJILCB6TkxqQAAECBAgQIECAAAECBAgQIECAAAHBox4gQIAAAQIECBAgQIAAAQIECBAgQCC5gOAxOakBCRAgQIAAAQIECBAgQIAAAQIECBAQPOoBAgQIECBAgAABAgQIECBAgAABAgSSCwgek5MakAABAgQIECBAgAABAgQIECBAgAABwaMeIECAAAECBAgQIECAAAECBAgQIEAguYDgMTmpAQkQIECAAAECBAgQIECAAAECBAgQEDzqAQIECBAgQIAAAQIECBAgQIAAAQIEkgsIHpOTGpAAAQIECBAgQIAAAQIECBAgQIAAAcGjHiBAgAABAgQIECBAgAABAgQIECBAILmA4DE5qQEJECBAgAABAgQIECBAgAABAgQIEBA86gECBAgQIECAAAECBAgQIECAAAECBJILCB6TkxqQAAECBAgQIECAAAECBAgQIECAAAHBox4gQIAAAQIECBAgQIAAAQIECBAgQCC5gOAxOakBCRAgQIAAAQIECBAgQIAAAQIECBAQPOoBAgQIECBAgAABAgQIECBAgAABAgSSCwgek5MakAABAgQIECBAgAABAgQIECBAgAABwaMeIECAAAECBAgQIECAAAECBAgQIEAguYDgMTmpAQkQIECAAAECBAgQIECAAAECBAgQEDzqAQIECBAgQIAAAQIECBAgQIAAAQIEkgsIHpOTGpAAAQIECBAgQIAAAQIECBAgQIAAAcGjHiBAgAABAgQIECBAgAABAgQIECBAILmA4DE5qQEJECBAgAABAgQIECBAgAABAgQIEBA86gECBAgQIECAAAECBAgQIECAAAECBJILCB6TkxqQAAECBAgQIECAAAECBAgQIECAAAHBox4gQIAAAQIECBAgQIAAAQIECBAgQCC5gOAxOakBCRAgQIAAAQIECBAgQIAAAQIECBAQPOoBAgQIECBAgAABAgQIECBAgAABAgSSCwgek5MakAABAgQIECBAgAABAgQIECBAgAABwaMeIECAAAECBAgQIECAAAECBAgQIEAguYDgMTmpAQkQIECAAAECBAgQIECAAAECBAgQEDzqAQIECBAgQIAAAQIECBAgQIAAAQIEkgsIHpOTGpAAAQIECBAgQIAAAQIECBAgQIAAAcGjHiBAgAABAgQIECBAgAABAgQIECBAILmA4DE5qQEJECBAgAABAgQIECBAgAABAgQIEBA86gECBAgQIECAAAECBAgQIECAAAECBJILCB6TkxqQAAECBAgQIECAAAECBAgQIECAAAHBox4gQIAAAQIECBAgQIAAAQIECBAgQCC5gOAxOakBCRAgQIAAAQIECBAgQIAAAQIECBAQPOoBAgQIECBAgAABAgQIECBAgAABAgSSCwgek5MakAABAgQIECBAgAABAgQIECBAgAABwaMeIECAAAECBAgQIECAAAECBAgQIEAguYDgMTmpAQkQIECAAAECBAgQIECAAAECBAgQEDzqAQIECBAgQIAAAQIECBAgQIAAAQIEkgsIHpOTGpAAAQIECBAgQIAAAQIECBAgQIAAAcGjHiBAgAABAgQIECBAgAABAgQIECBAILmA4DE5qQEJECBAgAABAgQIECBAgAABAgQIEBA86gECBAgQIECAAAECBAgQIECAAAECBJILCB6TkxqQAAECBAgQIECAAAECBAgQIECAAAHBox4gQIAAAQIECBAgQIAAAQIECBAgQCC5gOAxOakBCRAgQIAAAQIECBAgQIAAAQIECBAQPOoBAgQIECBAgAABAgQIECBAgAABAgSSCwgek5MakAABAgQIECBAgAABAgQIECBAgAABwaMeIECAAAECBAgQIECAAAECBAgQIEAguYDgMTmpAQkQIECAAAECBAgQIECAAAECBAgQEDzqAQIECBAgQIAAAQIECBAgQIAAAQIEkgsIHpOTGpAAAQIECBAgQIAAAQIECBAgQIAAAcGjHiBAgAABAgQIECBAgAABAgQIECBAILmA4DE5qQEJECBAgAABAgQIECBAgAABAgQIEBA86gECBAgQIECAAAECBAgQIECAAAECBJILCB6TkxqQAAECBAgQIECAAAECBAgQIECAAAHBox4gQIAAAQIECBAgQIAAAQIECBAgQCC5gOAxOakBCRAgQIAAAQIECBAgQIAAAQIECBAQPOoBAgQIECBAgAABAgQIECBAgAABAgSSCwgek5MakAABAgQIECBAgAABAgQIECBAgAABwaMeIECAAAECBAgQIECAAAECBAgQIEAguYDgMTmpAQkQIECAAAECBAgQIECAAAECBAgQEDzqAQIECBAgQIAAAQIECBAgQIAAAQIEkgsIHpOTGpAAAQIECBAgQIAAAQIECBAgQIAAAcGjHiBAgADH6QAdAAAOA0lEQVQBAgQIECBAgAABAgQIECBAILmA4DE5qQEJECBAgAABAgQIECBAgAABAgQIEBA86gECBAgQIECAAAECBAgQIECAAAECBJILCB6TkxqQAAECBAgQIECAAAECBAgQIECAAAHBox4gQIAAAQIECBAgQIAAAQIECBAgQCC5gOAxOakBCRAgQIAAAQIECBAgQIAAAQIECBAQPOoBAgQIECBAgAABAgQIECBAgAABAgSSCwgek5MakAABAgQIECBAgAABAgQIECBAgAABwaMeIECAAAECBAgQIECAAAECBAgQIEAguYDgMTmpAQkQIECAAAECBAgQIECAAAECBAgQEDzqAQIECBAgQIAAAQIECBAgQIAAAQIEkgsIHpOTGpAAAQIECBAgQIAAAQIECBAgQIAAAcGjHiBAgAABAgQIECBAgAABAgQIECBAILmA4DE5qQEJECBAgAABAgQIECBAgAABAgQIEBA86gECBAgQIECAAAECBAgQIECAAAECBJILCB6TkxqQAAECBAgQIECAAAECBAgQIECAAAHBox4gQIAAAQIECBAgQIAAAQIECBAgQCC5gOAxOakBCRAgQIAAAQIECBAgQIAAAQIECBAQPOoBAgQIECBAgAABAgQIECBAgAABAgSSCwgek5MakAABAgQIECBAgAABAgQIECBAgAABwaMeIECAAAECBAgQIECAAAECBAgQIEAguYDgMTmpAQkQIECAAAECBAgQIECAAAECBAgQEDzqAQIECBAgQIAAAQIECBAgQIAAAQIEkgsIHpOTGpAAAQIECBAgQIAAAQIECBAgQIAAAcGjHiBAgAABAgQIECBAgAABAgQIECBAILmA4DE5qQEJECBAgAABAgQIECBAgAABAgQIEBA86gECBAgQIECAAAECBAgQIECAAAECBJILCB6TkxqQAAECBAgQIECAAAECBAgQIECAAAHBox4gQIAAAQIECBAgQIAAAQIECBAgQCC5gOAxOakBCRAgQIAAAQIECBAgQIAAAQIECBAQPOoBAgQIECBAgAABAgQIECBAgAABAgSSCwgek5MakAABAgQIECBAgAABAgQIECBAgAABwaMeIECAAAECBAgQIECAAAECBAgQIEAguYDgMTmpAQkQIECAAAECBAgQIECAAAECBAgQEDzqAQIECBAgQIAAAQIECBAgQIAAAQIEkgsIHpOTGpAAAQIECBAgQIAAAQIECBAgQIAAAcGjHiBAgAABAgQIECBAgAABAgQIECBAILmA4DE5qQEJECBAgAABAgQIECBAgAABAgQIEBA86gECBAgQIECAAAECBAgQIECAAAECBJILCB6TkxqQAAECBAgQIECAAAECBAgQIECAAAHBox4gQIAAAQIECBAgQIAAAQIECBAgQCC5gOAxOakBCRAgQIAAAQIECBAgQIAAAQIECBAQPOoBAgQIECBAgAABAgQIECBAgAABAgSSCwgek5MakAABAgQIECBAgAABAgQIECBAgAABwaMeIECAAAECBAgQIECAAAECBAgQIEAguYDgMTmpAQkQIECAAAECBAgQIECAAAECBAgQEDzqAQIECBAgQIAAAQIECBAgQIAAAQIEkgsIHpOTGpAAAQIECBAgQIAAAQIECBAgQIAAAcGjHiBAgAABAgQIECBAgAABAgQIECBAILmA4DE5qQEJECBAgAABAgQIECBAgAABAgQIEBA86gECBAgQIECAAAECBAgQIECAAAECBJILCB6TkxqQAAECBAgQIECAAAECBAgQIECAAAHBox4gQIAAAQIECBAgQIAAAQIECBAgQCC5gOAxOakBCRAgQIAAAQIECBAgQIAAAQIECBAQPOoBAgQIECBAgAABAgQIECBAgAABAgSSCwgek5MakAABAgQIECBAgAABAgQIECBAgAABwaMeIECAAAECBAgQIECAAAECBAgQIEAguYDgMTmpAQkQIECAAAECBAgQIECAAAECBAgQEDzqAQIECBAgQIAAAQIECBAgQIAAAQIEkgsIHpOTGpAAAQIECBAgQIAAAQIECBAgQIAAAcGjHiBAgAABAgQIECBAgAABAgQIECBAILmA4DE5qQEJECBAgAABAgQIECBAgAABAgQIEBA86gECBAgQIECAAAECBAgQIECAAAECBJILCB6TkxqQAAECBAgQIECAAAECBAgQIECAAAHBox4gQIAAAQIECBAgQIAAAQIECBAgQCC5gOAxOakBCRAgQIAAAQIECBAgQIAAAQIECBAQPOoBAgQIECBAgAABAgQIECBAgAABAgSSCwgek5MakAABAgQIECBAgAABAgQIECBAgAABwaMeIECAAAECBAgQIECAAAECBAgQIEAguYDgMTmpAQkQIECAAAECBAgQIECAAAECBAgQEDzqAQIECBAgQIAAAQIECBAgQIAAAQIEkgsIHpOTGpAAAQIECBAgQIAAAQIECBAgQIAAAcGjHiBAgAABAgQIECBAgAABAgQIECBAILmA4DE5qQEJECBAgAABAgQIECBAgAABAgQIEBA86gECBAgQIECAAAECBAgQIECAAAECBJILCB6TkxqQAAECBAgQIECAAAECBAgQIECAAAHBox4gQIAAAQIECBAgQIAAAQIECBAgQCC5gOAxOakBCRAgQIAAAQIECBAgQIAAAQIECBAQPOoBAgQIECBAgAABAgQIECBAgAABAgSSCwgek5MakAABAgQIECBAgAABAgQIECBAgAABwaMeIECAAAECBAgQIECAAAECBAgQIEAguYDgMTmpAQkQIECAAAECBAgQIECAAAECBAgQEDzqAQIECBAgQIAAAQIECBAgQIAAAQIEkgsIHpOTGpAAAQIECBAgQIAAAQIECBAgQIAAAcGjHiBAgAABAgQIECBAgAABAgQIECBAILmA4DE5qQEJECBAgAABAgQIECBAgAABAgQIEBA86gECBAgQIECAAAECBAgQIECAAAECBJILCB6TkxqQAAECBAgQIECAAAECBAgQIECAAAHBox4gQIAAAQIECBAgQIAAAQIECBD4/9uxQxoAAACGYf5dz8RgDRw0RyNAYBcQHndSgwQIECBAgAABAgQIECBAgAABAgQICI8+QIAAAQIECBAgQIAAAQIECBAgQIDALiA87qQGCRAgQIAAAQIECBAgQIAAAQIECBAQHn2AAAECBAgQIECAAAECBAgQIECAAIFdQHjcSQ0SIECAAAECBAgQIECAAAECBAgQICA8+gABAgQIECBAgAABAgQIECBAgAABAruA8LiTGiRAgAABAgQIECBAgAABAgQIECBAQHj0AQIECBAgQIAAAQIECBAgQIAAAQIEdgHhcSc1SIAAAQIECBAgQIAAAQIECBAgQICA8OgDBAgQIECAAAECBAgQIECAAAECBAjsAsLjTmqQAAECBAgQIECAAAECBAgQIECAAAHh0QcIECBAgAABAgQIECBAgAABAgQIENgFhMed1CABAgQIECBAgAABAgQIECBAgAABAsKjDxAgQIAAAQIECBAgQIAAAQIECBAgsAsIjzupQQIECBAgQIAAAQIECBAgQIAAAQIEhEcfIECAAAECBAgQIECAAAECBAgQIEBgFxAed1KDBAgQIECAAAECBAgQIECAAAECBAgIjz5AgAABAgQIECBAgAABAgQIECBAgMAuIDzupAYJECBAgAABAgQIECBAgAABAgQIEBAefYAAAQIECBAgQIAAAQIECBAgQIAAgV1AeNxJDRIgQIAAAQIECBAgQIAAAQIECBAgIDz6AAECBAgQIECAAAECBAgQIECAAAECu4DwuJMaJECAAAECBAgQIECAAAECBAgQIEBAePQBAgQIECBAgAABAgQIECBAgAABAgR2AeFxJzVIgAABAgQIECBAgAABAgQIECBAgIDw6AMECBAgQIAAAQIECBAgQIAAAQIECOwCwuNOapAAAQIECBAgQIAAAQIECBAgQIAAAeHRBwgQIECAAAECBAgQIECAAAECBAgQ2AWEx53UIAECBAgQIECAAAECBAgQIECAAAECwqMPECBAgAABAgQIECBAgAABAgQIECCwCwiPO6lBAgQIECBAgAABAgQIECBAgAABAgSERx8gQIAAAQIECBAgQIAAAQIECBAgQGAXEB53UoMECBAgQIAAAQIECBAgQIAAAQIECAiPPkCAAAECBAgQIECAAAECBAgQIECAwC4gPO6kBgkQIECAAAECBAgQIECAAAECBAgQEB59gAABAgQIECBAgAABAgQIECBAgACBXUB43EkNEiBAgAABAgQIECBAgAABAgQIECAgPPoAAQIECBAgQIAAAQIECBAgQIAAAQK7gPC4kxokQIAAAQIECBAgQIAAAQIECBAgQEB49AECBAgQIECAAAECBAgQIECAAAECBHYB4XEnNUiAAAECBAgQIECAAAECBAgQIECAgPDoAwQIECBAgAABAgQIECBAgAABAgQI7ALC405qkAABAgQIECBAgAABAgQIECBAgAAB4dEHCBAgQIAAAQIECBAgQIAAAQIECBDYBYTHndQgAQIECBAgQIAAAQIECBAgQIAAAQLCow8QIECAAAECBAgQIECAAAECBAgQILALCI87qUECBAgQIECAAAECBAgQIECAAAECBIRHHyBAgAABAgQIECBAgAABAgQIECBAYBcQHndSgwQIECBAgAABAgQIECBAgAABAgQICI8+QIAAAQIECBAgQIAAAQIECBAgQIDALiA87qQGCRAgQIAAAQIECBAgQIAAAQIECBAIaGfnG8TNmUQAAAAASUVORK5CYII\" width=500>"
      ]
    },
    {
      "cell_type": "markdown",
      "metadata": {
        "id": "_GvnVAwMyK-9"
      },
      "source": [
        "Lema\n",
        "\n",
        "  Se $t_{k}$ é obtido por uma minimização local de $f(x_{k}+t_{k}d_{k})$, então $(d_{k+1})^{T}d_{k}$=0"
      ]
    },
    {
      "cell_type": "code",
      "metadata": {
        "id": "lfI5UBxi5whk",
        "outputId": "2719b32a-676a-42b0-b653-786e9584f492",
        "colab": {
          "base_uri": "https://localhost:8080/",
          "height": 35
        }
      },
      "source": [
        "#verificar se a tupla está funcionando corretamente\n",
        "function gradient_descent(f::Function,x::Vector,linear_method::Function;ϵ=1e-9)\n",
        "    while(norm(∇(f,x))> ϵ)\n",
        "      d = -∇(f,x)\n",
        "      x = linear_search(f,x,d,linear_method)[2]\n",
        "    end\n",
        "    return (f(x),x)\n",
        "end\n"
      ],
      "execution_count": null,
      "outputs": [
        {
          "output_type": "execute_result",
          "data": {
            "text/plain": [
              "gradient_descent (generic function with 1 method)"
            ]
          },
          "metadata": {
            "tags": []
          },
          "execution_count": 30
        }
      ]
    },
    {
      "cell_type": "code",
      "metadata": {
        "id": "Wez67GVxfAL-",
        "outputId": "5cd1c940-e9a4-4030-d6ce-b0a3a203e016",
        "colab": {
          "base_uri": "https://localhost:8080/",
          "height": 35
        }
      },
      "source": [
        "gradient_descent(x->0.5*(x[1]-2)^2 + (x[2] - 1)^2 ,[0,1],armijo)"
      ],
      "execution_count": null,
      "outputs": [
        {
          "output_type": "execute_result",
          "data": {
            "text/plain": [
              "(0.0, [2.0, 1.0])"
            ]
          },
          "metadata": {
            "tags": []
          },
          "execution_count": 31
        }
      ]
    },
    {
      "cell_type": "markdown",
      "metadata": {
        "id": "-dpEXEHEGUs2"
      },
      "source": [
        "# Metodo de Newton\n",
        "\n"
      ]
    },
    {
      "cell_type": "markdown",
      "metadata": {
        "id": "czRBn9FkceGA"
      },
      "source": [
        "O método de Newton serve para obter um $x^*\\in\\mathbb{R}^{n}$, tal que\n",
        "\n",
        "\\begin{equation}\n",
        "\\phi(x^*)=0\n",
        "\\end{equation}\n",
        "\n",
        "onde $\\phi:\\mathbb{R}^n\\rightarrow\\mathbb{R}^n$ diferenciável. Portanto o método vai gerar uma sequência de pontos a partir de um $x_{0}$ que irá convergir para $x^*$.\n",
        "\n",
        "Para construir a sequência vamos usar a série de Taylor.\n",
        "\n",
        "\\\n",
        "\n",
        "\\begin{equation}\n",
        "\\phi(x)=\\phi(x_{k})+\\nabla\\phi(x_{k})(x-x_{k})=0\n",
        "\\end{equation}\n",
        "\n",
        "\\\n",
        "\n",
        "Isolando $x$, obtemos\n",
        "\n",
        "\\\n",
        "\n",
        "\\begin{equation}\n",
        "  x_{k+1}=x_{k}-(\\nabla\\phi(x_{k}))^{-1}\\phi(x_{k})\n",
        "\\end{equation}\n",
        "\n",
        "\\\n",
        "\n",
        "Agora iremos contextualizar o método de Newton para o nosso problema. Queremos achar um $x^*\\in\\mathbb{R}^{n}$, na qual $\\nabla f(x^*)=0$. Assim, podemos considerar $\\phi(x)=\\nabla f(x)$, pois $\\nabla f(x):\\mathbb{R}^n\\rightarrow\\mathbb{R}^n$, logo ficaremos com a nossa sequência\n",
        "\n",
        "\\\n",
        "\n",
        "\\begin{equation}\n",
        "  x_{k+1}=x_{k}-(\\nabla^2f(x_{k}))^{-1}\\nabla f(x_{k})\n",
        "\\end{equation}\n",
        "\n",
        "\\\n",
        "\n",
        "Podemos considerar como método de descida com $t_{k}=1$ constante e $d_{k}=-(\\nabla^2f(x_{k}))^{-1}\\nabla f(x_{k})$.\n"
      ]
    },
    {
      "cell_type": "markdown",
      "metadata": {
        "id": "QxYQlffzMl11"
      },
      "source": [
        "Podemos ver na próxima imagem como o método funciona, com $\\phi:\\mathbb{R}\\rightarrow\\mathbb{R}$."
      ]
    },
    {
      "cell_type": "markdown",
      "metadata": {
        "id": "57GPy944QoQr"
      },
      "source": [
        "<div>\n",
        "<img src=\"data:image/png;base64,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\" width=350>"
      ]
    },
    {
      "cell_type": "markdown",
      "metadata": {
        "id": "qeJX6Gs0Yqmu"
      },
      "source": [
        "O próximo teorema fala que vai existir uma vizinhança do minimizador local $x^*$ de $f$ com $\\nabla^2f(x^*)>0$, e se nosso $x_{0}$ pertencer a essa vizinhança, então o algoritmo do método de Newton com $t_{k}=1$ constante, gera uma sequência $\\{x_{k}\\}$ que converge superlinearmente para $x^*$, e $\\nabla^2f(x_{k})>0$, $\\forall k\\in\\mathbb{N}$, com convergência quadrática se $\\nabla^2f$ for Lipchitz.\n",
        "\n",
        "\\\n",
        "\n",
        "Teorema\n",
        "\n",
        "\n",
        "Seja $f:\\mathbb{R}^n\\rightarrow\\mathbb{R}$ de classe $c^2$. Suponha que $x^*\\in\\mathbb{R}^n$ seja um minimizador local de $f$, com $\\nabla^2f(x^*)>0$. Então existe $\\delta>0$ tal que se $x^{0}\\in B(x^{*},\\delta$), o algoritmo do método de Newton, com $t_{k}=1$ constante, gera uma sequência $(x_{k})$ tal que.\n",
        "\n",
        "1. $\\nabla^2f(x_{k})>0$, $\\forall k\\in\\mathbb{N}$;\n",
        "2. $(x_{k})$ converge superlinearmente para $x^*$;\n",
        "3. Se $\\nabla^2f$ é Lipschitz, então a convergência é quadrática;"
      ]
    },
    {
      "cell_type": "markdown",
      "metadata": {
        "id": "mIlRUKR4Uhbh"
      },
      "source": [
        "Porem podemos tambem variar o passo $t_{k}$ e com isso temos o próximo teorema.\n",
        "\n",
        "\\\n",
        "\n",
        "Teorema \n",
        "\n",
        "Suponha $\\nabla^2 f(x)>0$, $\\forall x\\in \\mathbb{R}^{n}$. Então o algoritmo do Método de Newton, com $t_{k}$ calculado pela busca exata ou pela busca de Armijo, é globalmente convergente."
      ]
    },
    {
      "cell_type": "code",
      "metadata": {
        "id": "SicXE9Z6GUP8",
        "outputId": "aad0cfc9-7b1f-4ecd-bd80-c9118694fa51",
        "colab": {
          "base_uri": "https://localhost:8080/",
          "height": 35
        }
      },
      "source": [
        "function newton_search(f::Function,x::Vector,linear_method::Function;ϵ=1e-9)\n",
        "    while(norm(∇(f,x))> ϵ)\n",
        "        d = -inv(Hessian(f,x))*∇(f,x)\n",
        "        x = linear_search(f,x,d,linear_method)[2]\n",
        "    end\n",
        "    return (f(x),x)\n",
        "end"
      ],
      "execution_count": null,
      "outputs": [
        {
          "output_type": "execute_result",
          "data": {
            "text/plain": [
              "newton_search (generic function with 1 method)"
            ]
          },
          "metadata": {
            "tags": []
          },
          "execution_count": 89
        }
      ]
    },
    {
      "cell_type": "code",
      "metadata": {
        "id": "UUiljejxgztK",
        "outputId": "42d08407-34e4-4319-b651-86df9f2ba994",
        "colab": {
          "base_uri": "https://localhost:8080/",
          "height": 35
        }
      },
      "source": [
        "newton_search(x->0.5*(x[1]-2)^2 + (x[2] - 1)^2 ,[0,1],armijo)"
      ],
      "execution_count": null,
      "outputs": [
        {
          "output_type": "execute_result",
          "data": {
            "text/plain": [
              "(0.0, [2.0, 1.0])"
            ]
          },
          "metadata": {
            "tags": []
          },
          "execution_count": 90
        }
      ]
    },
    {
      "cell_type": "markdown",
      "metadata": {
        "id": "6bdk-etLMFz_"
      },
      "source": [
        "#Metodo de quase-newton BFGS"
      ]
    },
    {
      "cell_type": "markdown",
      "metadata": {
        "id": "lOi2j3Za20a3"
      },
      "source": [
        "O método de quase-Newton BFGS tem como principal ponto determinar a inversa da matriz Hessiana de maneira aproximada. Portanto, o que teriamos como direção $d_{k}=-(\\nabla^2f(x_{k}))^{-1}\\nabla f(x_{k})$ no método de Newton, vamos ter $d_{k}=-H_{k}\\nabla f(x_{k})$ no método de quase-Newton, onde $H_{k}\\in\\mathbb{R}^{n\\times n}$ é a matriz inversa da Hessiana aproximada, que é definida positiva e simétrica para todo $k$.\n",
        "\n",
        "Podemos fazer as aproximações colocando uma condição.\n",
        "\n",
        "\\\n",
        "\n",
        "\\begin{equation}\n",
        "H_{k+1}q_{k}=p_{k}\n",
        "\\end{equation}\n",
        "\n",
        "\\\n",
        "\n",
        "Onde $q_{k}=\\nabla f(x_{k+1})-\\nabla f(x_{k})$ e $p_{k}=x_{k+1}-x_{k}$.\n",
        "\n",
        "\\\n",
        "\n",
        "O método BFGS obtem a matriz aproximada $H_{k+1}$, onde para todo $k$, $H_{k+1}$ vai ser definida como\n",
        "\n",
        "\\\n",
        "\n",
        "\\begin{equation}\n",
        "  H_{k+1}=H_{k}+(1+\\frac{(q_{k})^{\\top}H_{k}q_{k}}{(p_{k})^{\\top}q_{k}})\\frac{p_{k}(p_{k})^{\\top}}{(p_{k})^{\\top}q_{k}}-\\frac{p_{k}(q_{k})^{\\top}H_{k}+H_{k}q_{k}(p_{k})^{\\top}}{(p_{k})^{\\top}q_{k}}\n",
        "\\end{equation}\n",
        "\n",
        "sendo $H_{k}=B_{k}^{-1}$"
      ]
    },
    {
      "cell_type": "code",
      "metadata": {
        "id": "69BxyOziMVFf",
        "outputId": "726c2b75-a47b-4df9-8da2-4df596e15a6f",
        "colab": {
          "base_uri": "https://localhost:8080/",
          "height": 35
        }
      },
      "source": [
        "function quasi_newton_BFGS(f::Function,x::Vector,linear_method::Function;ϵ=1e-9)\n",
        "    H = I\n",
        "     flag = true\n",
        "    g_new=∇(f,x)\n",
        "    while(norm(g_new)> ϵ)\n",
        "       d = -H*g_new\n",
        "       x_old=x\n",
        "       g_old = g_new\n",
        "      x=linear_search(f,x,d,linear_method)[2]\n",
        "      p = x - x_old\n",
        "      g_new = ∇(f,x)\n",
        "      q = g_new - g_old\n",
        "      qT = transpose(q)\n",
        "      pT = transpose(p)\n",
        "       if(flag)\n",
        "          H = ((qT*p)/(qT*q))*I #scaling of I\n",
        "          flag =false\n",
        "      end\n",
        "      H = H+ (1+ ((qT*H*q)/(pT*q)))*((p*pT)/(pT*q)) - ((p*qT*H + H*q*pT)/(pT*q))\n",
        "    end\n",
        "    return (f(x),x)\n",
        "end"
      ],
      "execution_count": null,
      "outputs": [
        {
          "output_type": "execute_result",
          "data": {
            "text/plain": [
              "quasi_newton_BFGS (generic function with 1 method)"
            ]
          },
          "metadata": {
            "tags": []
          },
          "execution_count": 34
        }
      ]
    },
    {
      "cell_type": "code",
      "metadata": {
        "id": "9k4X9IAeiFP-",
        "outputId": "bf04a820-3343-482b-e854-6d6b49ad24c7",
        "colab": {
          "base_uri": "https://localhost:8080/",
          "height": 35
        }
      },
      "source": [
        "quasi_newton_BFGS(x->0.5*(x[1]-2)^2 + (x[2] - 1)^2 ,[0,1],armijo)"
      ],
      "execution_count": null,
      "outputs": [
        {
          "output_type": "execute_result",
          "data": {
            "text/plain": [
              "(0.0, [2.0, 1.0])"
            ]
          },
          "metadata": {
            "tags": []
          },
          "execution_count": 35
        }
      ]
    },
    {
      "cell_type": "markdown",
      "metadata": {
        "id": "gRt60qWA4aPR"
      },
      "source": [
        "# Metodo Gradiente Conjugada PR"
      ]
    },
    {
      "cell_type": "markdown",
      "metadata": {
        "id": "ICOVNZN3-THu"
      },
      "source": [
        "O método do gradiente conjugado visa alcançar uma convergência mais rápida que o método do gradiente, e ter um custo computacional menor que o método de Newton.\n",
        "\n",
        "Considere a função  $f:\\mathbb{R}^n\\rightarrow\\mathbb{R}$ dada por.\n",
        "\n",
        "\\\n",
        "\n",
        "\\begin{equation}\n",
        "f(\\textbf{x})=\\frac{1}{2}\\textbf{x}^{\\top}A\\textbf{x}+\\textbf{b}^{\\top}\\textbf{x}+c\n",
        "\\end{equation}\n",
        "\n",
        "\\\n",
        "\n",
        "Com $A\\in M_{n\\times n}(\\mathbb{R})$ e positiva, $\\textbf{b}\\in \\mathbb{R}^n$ e $c\\in \\mathbb{R}$.\n",
        "\n",
        "Onde a função terá apenas um minimizador $x^*$ global e que satisfaz.\n",
        "\n",
        "\\\n",
        "\n",
        "\\begin{equation}\n",
        "A\\textbf{x}^{*}+\\textbf{b}=\\nabla f(x^*)=0\n",
        "\\end{equation}\n",
        "\n",
        "\\\n",
        "\n",
        "Vamos tomar como direções os vetores $A$-conjugados para o método de descida.\n",
        "\n",
        "\\\n",
        "\n",
        "Definição\n",
        "\n",
        "Seja $A\\in M_{n\\times n}(\\mathbb{R})$ definida positiva. Dizemos que os vetores $\\textbf{d}_{0},...,\\textbf{d}_{k}\\in \\mathbb{R^{n}}$ são $A$-conjugados se\n",
        "\\begin{equation}\n",
        "(\\textbf{d}_{i})^{\\top}A\\textbf{d}_{j}=0\n",
        "\\end{equation}\n",
        "para todos $i,j=1,..,k$, com $i\\neq j$\n",
        "\n",
        "\\\n",
        "\n",
        "Lema\n",
        "\n",
        "Seja $A\\in M_{n\\times n}(\\mathbb{R})$ definida positiva. Um conjunto qualquer de vetore $A$-conjugados é $\\textbf{L.I}$.\n",
        "\n",
        "\\\n",
        "\n",
        "Portanto pelo lema poderemos ter $n$ direções a serem tomadas $\\textbf{d}_{0},...,\\textbf{d}_{n-1}$.\n",
        "\n",
        "\\\n",
        "\n",
        "\\begin{equation}\n",
        "\\textbf{x}_{k+1}=\\textbf{x}_{k}+t_{k}\\textbf{d}_{k}\n",
        "\\end{equation}\n",
        "\n",
        "\\\n",
        "\n",
        "sendo $t_{k}$ o minimizador de $f(\\textbf{x}_{k}+t\\textbf{d}_{k})$. Portanto a derivada na direção $\\textbf{d}_{k}$ no próximo ponto $\\textbf{x}_{k+1}$ é nula.\n",
        "\\begin{equation}\n",
        "\\nabla f(\\textbf{x}_{k+1})^{\\top}\\textbf{d}=0\n",
        "\\end{equation}\n",
        "como \n",
        "\\begin{equation}\n",
        "\\nabla f(\\textbf{x}_{k+1})=A(\\textbf{x}_{k}+t_{k}\\textbf{d}_{k})+\\textbf{b}=\\nabla f(\\text{x}_{k})+t_{k}A\\textbf{d}_{k}\n",
        "\\end{equation}\n",
        "Substituindo vamos obter $t_{k}$\n",
        " \\begin{equation}\n",
        " t_{k}=-\\frac{\\nabla f(\\textbf{x}_{k})^{\\top}\\textbf{d}_{k}}{(\\textbf{d}_{k})^{\\top}A\\textbf{d}_{k}}\n",
        " \\end{equation}\n",
        "\n",
        "\\\n",
        "\n",
        "Vamos agora obter os $n$ vetores $A$-conjugados a partir de um $x_{0}$ dado. Defina $\\textbf{d}_{0}=-\\nabla f(\\text{x}_{0})$, e para $k=0,...,n-2$ \n",
        "\\begin{equation}\n",
        "\\textbf{d}_{k+1}=-\\nabla f(\\textbf{x}_{k+1})+\\beta_{k}\\textbf{d}_{k}\n",
        "\\end{equation}\n",
        "Pela definição temos que\n",
        "\\begin{equation}\n",
        "(\\textbf{d})^{\\top}_{k}A(-\\nabla f(\\textbf{x}_{k+1})+\\beta_{k}\\textbf{d}_{k})=0\n",
        "\\end{equation}\n",
        "assim $\\beta_{k}$ é dado por\n",
        "\\begin{equation}\n",
        "\\beta_{k}=\\frac{(\\textbf{d})^{\\top}_{k}A\\nabla f(\\textbf{x}_{k+1})}{(\\textbf{d})^{\\top}_{k}A\\textbf{d}_{k}}\n",
        "\\end{equation}\n",
        "O próximo teorema nos garante que o método chegará ao mínimo de $f$.\n",
        "\n",
        "\\\n",
        "\n",
        "Teorema\n",
        "\n",
        "Considere a função anterior e seu minimizador $x^{*}$, definido $A\\textbf{x}^{*}+\\textbf{b}=\\nabla f(\\textbf{x}^{*})=0$. Dado $x_{0}\\in \\mathbb{R}^{n}$, a sequência finita definida por $\\textbf{x}_{k+1}=\\textbf{x}_{k}+t_{k}\\textbf{d}_{k}$ cumpre $\\textbf{x}_{n}=\\textbf{x}^{*}$\n",
        "\n",
        "\\\n",
        "\n",
        "Podemos fazer uma modificação para que o método economize no custo computacional no cálculo da hessiana, usando somente informações de primeira ordem. Essa variação do método funcionaria para qualquer função diferenciável, e tal modificação é dada por Polak e Ribiére como:\n",
        "\\begin{equation}\n",
        "  \\beta_{k-1}=\\frac{<\\nabla f(\\textbf{x}_{k+1}), (\\nabla f(\\textbf{x}_{k+1})-\\nabla f(\\textbf{x}_{k}))>}{<\\nabla f(\\textbf{x}_{k}),\\nabla f(\\textbf{x}_{k})>}\n",
        "\\end{equation}"
      ]
    },
    {
      "cell_type": "code",
      "metadata": {
        "id": "EpqB4rJ74aj2",
        "outputId": "de29012f-48af-422d-8c77-0b85ac0582d5",
        "colab": {
          "base_uri": "https://localhost:8080/",
          "height": 35
        }
      },
      "source": [
        "function gradient_conjugate_PR(f::Function,x::Vector,linear_method::Function;ϵ=1e-9,n_iter=100)\n",
        "    k = 0\n",
        "    n = length(x)\n",
        "    g_new=∇(f,x)\n",
        "    d = -g_new\n",
        "    while(norm(g_new)> ϵ&&k<n_iter)\n",
        "        x_old = x\n",
        "        g_old = g_new\n",
        "        x=linear_search(f,x,d,linear_method)[2]\n",
        "        g_new  = ∇(f,x)\n",
        "        β = max((transpose(g_new)*(g_new - g_old))/(transpose(g_old)*g_old),0)\n",
        "        d = -g_new + β*d\n",
        "        k = k + 1\n",
        "    end\n",
        "    return (f(x),x)\n",
        "end"
      ],
      "execution_count": null,
      "outputs": [
        {
          "output_type": "execute_result",
          "data": {
            "text/plain": [
              "gradient_conjugate_PR (generic function with 1 method)"
            ]
          },
          "metadata": {
            "tags": []
          },
          "execution_count": 36
        }
      ]
    },
    {
      "cell_type": "code",
      "metadata": {
        "id": "VolKSiCFn5Kr",
        "outputId": "d592c318-e926-4d0b-c494-71c172854688",
        "colab": {
          "base_uri": "https://localhost:8080/",
          "height": 35
        }
      },
      "source": [
        "gradient_conjugate_PR(x->0.5*(x[1]-2)^2 + (x[2] - 1)^2 ,[0,1],newton)"
      ],
      "execution_count": null,
      "outputs": [
        {
          "output_type": "execute_result",
          "data": {
            "text/plain": [
              "(0.0, [2.0, 1.0])"
            ]
          },
          "metadata": {
            "tags": []
          },
          "execution_count": 37
        }
      ]
    },
    {
      "cell_type": "markdown",
      "metadata": {
        "id": "U9QR0CZPGo4O"
      },
      "source": [
        "# Modo de Usar\n",
        "\n",
        "   Sejam os dados de entrada $x \\in \\mathcal{R}^n e f: \\mathcal{R}^n \\to \\mathcal{R}$. Onde $x$ representa as variáveis de decisão e $f$ a função objetivo. Vamos mostrar como chamar os métodos de otimização irrestrita(no caso temos as funções: *gradient_descent, newton_search, gradient_conjugate_PR e quasi_newton_BFGS*) para resolver o problema de encontrar um ponto ótimo e  valor da função neste ponto.\n",
        "\n",
        "   Considere o seguinte exemplo, seja $f(x_1,x_2)= \\frac{1}{2}(x_1 - 2)^2 + (x_2 - 1)^2$, $x = \\begin{pmatrix}1 \\\\0\\end{pmatrix}$ e $d  = \\begin{pmatrix}3 \\\\1\\end{pmatrix}$. Esses podem ser passados para um método da seguinte forma:\n",
        " \n",
        "\n",
        "\n"
      ]
    },
    {
      "cell_type": "code",
      "metadata": {
        "id": "oaPobGoBGrnm",
        "outputId": "bf510671-e105-4994-fe4e-588841eeab99",
        "colab": {
          "base_uri": "https://localhost:8080/",
          "height": 35
        }
      },
      "source": [
        "gradient_descent(x->0.5*(x[1]-2)^2 + (x[2] - 1)^2 ,[1,0],secao_aurea)"
      ],
      "execution_count": null,
      "outputs": [
        {
          "output_type": "execute_result",
          "data": {
            "text/plain": [
              "(9.129599700888681e-20, [1.9999999995972084, 1.0000000001008735])"
            ]
          },
          "metadata": {
            "tags": []
          },
          "execution_count": 136
        }
      ]
    },
    {
      "cell_type": "markdown",
      "metadata": {
        "id": "haLElc1BHRR-"
      },
      "source": [
        "\n",
        "\n",
        "   Onde o primeiro campo da função implementa uma função anônima para representar $f(x)$, com formato <i>(vetores)$\\to$ (função expressa)</i>. Devemos utilizar de operações aritméticas padrões sobre um vetor[$i$], que refere-se a coordenada $i$ do vetor(em julia começa de 1 até n), para expressar $f(x)$. O campo seguinte dp método faz referência à $x$ implementado como um Array'([$x_1$,$x_2$]. \n",
        "\n",
        "  No último campo temos uma função referenciando o método de busca linear(no caso seção aurea) usado, temos três referências implementadas secao_aurea, armijo e newton. Elas podem ser chamadas da mesma forma do exemplo anterior, que utiliza parâmetros definidos pelo livro-texto da disciplina, ou podemos utilizar funções anonimas para chamar um método customizado da forma que foi definida no [Projeto 1](https://colab.research.google.com/drive/1Nt6ffNGr-3ej0gCgIW2sG5DYSnJ7Pywh?usp=sharing). Veja que agora nesse projeto além dos parâmetros adicionais para os métodos de busca linear, o mesmo ocorre para os métodos de otimização irrestrita."
      ]
    },
    {
      "cell_type": "code",
      "metadata": {
        "id": "VyOJTPwVHipa",
        "outputId": "513b636f-46a5-4958-8a8b-8139cee2c8d5",
        "colab": {
          "base_uri": "https://localhost:8080/",
          "height": 35
        }
      },
      "source": [
        "gradient_descent(x->0.5*(x[1]-2)^2 + (x[2] - 1)^2 ,[1,0],(f,x,d)->armijo(f,x,d,t=0.7,η = 0.5),ϵ=1e-4)"
      ],
      "execution_count": null,
      "outputs": [
        {
          "output_type": "execute_result",
          "data": {
            "text/plain": [
              "(1.8288426094768024e-9, [1.999946882144, 0.999979552768])"
            ]
          },
          "metadata": {
            "tags": []
          },
          "execution_count": 138
        }
      ]
    },
    {
      "cell_type": "markdown",
      "metadata": {
        "id": "5Ogm8fHEIAAJ"
      },
      "source": [
        " Na proxima seção discutimos os parâmetros para cada método. A saída do método  retorna uma tupla da forma ($f(x^*),x^*$), ou seja, o valor da função objetivo no melhor ponto encontrado e o ponto."
      ]
    },
    {
      "cell_type": "markdown",
      "metadata": {
        "id": "LClOJmzQIP4b"
      },
      "source": [
        "# Parâmetros dos Métodos\n",
        "\n",
        "   Aqui colocaremos as funções dos métodos implementados e a descrição sobre seus parâmetros. Parametros depois do caracter \";\" são chamados de argumentos palavra-chave. Esses devem vir depois dos argumentos posicionais e da forma (palavra-chave) = valor. Algumas palavras-chave estão em unicode para acessar estas no julia basta escrever da mesma forma que em latex(ex. \\epsilon) e pressionar a tecla 'tab', ou seja , $\\epsilon$ = \\epsilona + tab. No ambiente Colab para inserir os caracteres basta copiar das funções, pois o mesmo não possui suporte para inserir caracteres unicode."
      ]
    },
    {
      "cell_type": "markdown",
      "metadata": {
        "id": "kQSMLQYkN5vQ"
      },
      "source": [
        "\n",
        "gradient_descent(f::Function,x::Vector,linear_method::Function;ϵ=1e-9)\n",
        ">  Algoritmo de Gradiente Descendente clássico.\n",
        "\n",
        "*  ϵ(\\epsilon) -  tolerância utilizada para verificar convergencia. Com menor precisão mais rápido converge. \n",
        "\n",
        "\n",
        "---\n",
        "\n",
        "newton_search(f::Function,x::Vector,linear_method::Function;ϵ=1e-9)\n",
        "> Método de Newton clássico tal que não utiliza aproximação da inversa da hessiana. No caso, tentamos utilizar as bibliotecas aqui expostas para calcular com precisão.\n",
        "\n",
        "*  ϵ(\\epsilon) -  tolerância utilizada para verificar convergencia. Com menor precisão mais rápido converge. \n",
        "\n",
        "---\n",
        "quasi_newton_BFGS(f::Function,x::Vector,linear_method::Function;ϵ=1e-9)\n",
        "\n",
        ">  Algoritmo de Quase Newton usando método de Broyden, Fletcher, Goldfarb e Shanno(BFGS) para calcular uma aproximação da inversa da hessiana. Utiliza tecnica de escalonamento da matriz hessiana inicial como um fator multiplicativo da identidade.\n",
        "\n",
        "*  ϵ(\\epsilon) -  tolerância utilizada para verificar convergencia. Com menor precisão mais rápido converge.\n",
        "\n",
        "---\n",
        "gradient_conjugate_PR(f::Function,x::Vector,linear_method::Function;ϵ=1e-9,n_iter=100)\n",
        ">  Algoritmo de Gradiente Conjugado usando método de Polak e Ribiére para calcular direções conjugadas. Utiliza tecnica de reinicialização com o método da gradiente caso $\\beta_k$ sejá negativo. Como a função de entrada não é necessariamente quadratica limitamos o número de iterações.\n",
        "\n",
        "\n",
        "*  ϵ(\\epsilon) -  tolerância utilizada para verificar convergencia. Com menor precisão mais rápido converge.\n",
        "* n_iter - número máximo de iterações que o método pode executar.\n",
        "\n",
        "---\n",
        "\n",
        "\n",
        "\n",
        "\n"
      ]
    },
    {
      "cell_type": "markdown",
      "metadata": {
        "id": "BftQ8HyFXRkJ"
      },
      "source": [
        "Todos os métodos retornam a função objetivo e o melhor ponto encontrado. Vale ressaltar que podemos passar em linear_method uma função de passo constante ou funções com passos customizados aos métodos."
      ]
    },
    {
      "cell_type": "markdown",
      "metadata": {
        "id": "iU2IfTTKIiHm"
      },
      "source": [
        "#Testes\n",
        "\n",
        "Nesta seção definimos as instâncias de testes que usamos e quais os resultados os métodos encontraram."
      ]
    },
    {
      "cell_type": "markdown",
      "metadata": {
        "id": "oKuKrqWzIkGo"
      },
      "source": [
        "<h2>Instâncias</h2>\n",
        "   As instâncias dadas são definidas em termo de função objetivo, valor inicial de $x$ e direção de descida $d$.  Abaixo apresentamos uma lista com os 5 valores entrada usados.\n",
        "    \n",
        "\n",
        "\n",
        "\n",
        "1.   <i>instância 1</i>\n",
        "   *   $f_1(x)=(x_1 -2)^4 + (x_1 - 2x_2)^2$\n",
        "   *   $x_0 = \\begin{pmatrix}0 \\\\ 3\\end{pmatrix}$\n",
        "   *   $d_0 = \\begin{pmatrix}-\\nabla f_1(x_0)\\end{pmatrix}$\n",
        "2.   <i>instância 2</i>\n",
        "   *   $f_2(x)=100(x_2 -x_1^2)^2 + (1 - x_1)^2$\n",
        "   *   $x_0 = \\begin{pmatrix}-1,9\\\\2\\end{pmatrix}$\n",
        "   *   $d_0 = \\begin{pmatrix}-\\nabla f_2(x_0)\\end{pmatrix}$\n",
        "3.   <i>instância 3</i>\n",
        "   *   $f_3(x)=1,5 - x_1(1-x_2)^2 + (2,25 - x_1(1-x_2^2)^2+(2,625-x_1(1-x_2^3))^2$\n",
        "   *   $x_0 = \\begin{pmatrix}0\\\\0\\end{pmatrix}$\n",
        "   *   $d_0 = \\begin{pmatrix}-\\nabla f_3(x_0)\\end{pmatrix}$\n",
        "4.   <i>instância 4</i>\n",
        "   *   $f_4(x)=(x_1 - 2x_2+5x_2^2 - x_2^3 -13)^2 + (x_1 - 14x_2 + x_2^2 + x_2^3 -29)^2$\n",
        "   *   $x_0 = \\begin{pmatrix}15\\\\-2\\end{pmatrix}$\n",
        "   *   $d_0 = \\begin{pmatrix}-\\nabla f_4(x_0)\\end{pmatrix}$\n",
        "5.   <i>instância 5</i>\n",
        "   *   $f_5(x)=100(x_3 - {(\\frac{x_1+x_2}{2})}^2)^2 + (1-x_1)^2 + (1-x_2)^2$\n",
        "   *   $x_0 = \\begin{pmatrix}-1,2\\\\2\\\\0\\end{pmatrix}$\n",
        "   *   $d_0 = \\begin{pmatrix}-\\nabla f_5(x_0)\\end{pmatrix}$\n",
        "\n",
        "\n",
        "\n",
        "\n",
        "\n",
        "\n"
      ]
    },
    {
      "cell_type": "code",
      "metadata": {
        "id": "r7OMNKRKHlAi",
        "outputId": "d126f990-5c02-4922-f68c-5dda155e1070",
        "colab": {
          "base_uri": "https://localhost:8080/",
          "height": 127
        }
      },
      "source": [
        "#funções objetivo\n",
        "f1 = x-> (x[1]-2)^4 + (x[1] - 2*x[2])^2\n",
        "f2 = x-> 100*(x[2]-(x[1])^2)^2 + (1 - x[1])^2\n",
        "f3 = x-> 1.5 - x[1]*(1-x[2])^2 + (2.25 - x[1]*(1-(x[2])^2))^2 +(2.625 - x[1]*(1-x[2]^3))^2\n",
        "f4 = x-> (x[1] - 2*x[2]+5*x[2]^2 - x[2]^3 -13)^2 + (x[1] - 14*x[2] + x[2]^2 + x[2]^3 -29)^2\n",
        "f5 = x-> 100*(x[3] - ((x[1]+x[2])/2)^2)^2 + (1-x[1])^2 + (1-x[2])^2\n",
        "\n",
        "#valores de x indexado por função\n",
        "x0 = [[0,3],[-1.9,2],[0,0],[15,-2],[-1.2,2,0]]\n"
      ],
      "execution_count": null,
      "outputs": [
        {
          "output_type": "execute_result",
          "data": {
            "text/plain": [
              "5-element Array{Array{Float64,1},1}:\n",
              " [0.0, 3.0]\n",
              " [-1.9, 2.0]\n",
              " [0.0, 0.0]\n",
              " [15.0, -2.0]\n",
              " [-1.2, 2.0, 0.0]"
            ]
          },
          "metadata": {
            "tags": []
          },
          "execution_count": 40
        }
      ]
    },
    {
      "cell_type": "markdown",
      "metadata": {
        "id": "uotrop1MY5-Y"
      },
      "source": [
        "##Resultados\n",
        "\n",
        "Abaixo mostramos o resultados usando os algoritmos do livro-texto com os valores indicados.\n"
      ]
    },
    {
      "cell_type": "code",
      "metadata": {
        "id": "BZR1TWVSZDZK",
        "outputId": "5a27a43a-0211-4065-90fe-ba356c3cc7e3",
        "colab": {
          "base_uri": "https://localhost:8080/",
          "height": 1000
        }
      },
      "source": [
        "functions = [f1,f2,f3,f4,f5]\n",
        "linear_methods = [secao_aurea,newton,armijo]\n",
        "methods = [gradient_descent,newton_search,gradient_conjugate_PR,quasi_newton_BFGS]\n",
        "linear_methods_names = [\"Seção Aurea\",\"Método de Newton\",\"Condição de Armijo\"]\n",
        "methods_names = [\"Método da Gradiente\",\"Método de Newton\",\"Método do Gradiente Conjugado\",\"Método de Quase Newton\"]\n",
        "println(\"----------------------------------------------------------------\")\n",
        "for i = 1:5\n",
        "    println(\"instancia \",i,\":\")\n",
        "    println(\"----------------------------------------------------------------\")\n",
        "    for j = 1:3\n",
        "    print(\"Método de Busca Linear Usado: \")\n",
        "       println(linear_methods_names[j])\n",
        "       println(\"----------------------------------------------------------------\")\n",
        "       for k = 1:4\n",
        "         println(methods_names[k])\n",
        "         (best_obj,best_point) = methods[k](functions[i],x0[i],linear_methods[j],ϵ=1e-4) \n",
        "         print(\"Melhor solução : \")\n",
        "         println(best_point)\n",
        "         print(\"Valor de f na solução : \")\n",
        "         println(best_obj)\n",
        "         println(\"----------------------------------------------------------------\")\n",
        "       end\n",
        "    end\n",
        "end"
      ],
      "execution_count": null,
      "outputs": [
        {
          "output_type": "stream",
          "text": [
            "----------------------------------------------------------------\n",
            "instancia 1:\n",
            "----------------------------------------------------------------\n",
            "Método de Busca Linear Usado: Seção Aurea\n",
            "----------------------------------------------------------------\n",
            "Método da Gradiente\n",
            "Melhor solução : [2.0283997404430587, 1.0142108251982414]\n",
            "Valor de f na solução : 6.50995298024256e-7\n",
            "----------------------------------------------------------------\n",
            "Método de Newton\n",
            "Melhor solução : [1.9945816244848118, 0.9973003366637665]\n",
            "Valor de f na solução : 1.2247971485622868e-9\n",
            "----------------------------------------------------------------\n",
            "Método do Gradiente Conjugado\n",
            "Melhor solução : [2.0081473404962593, 1.004066056213807]\n",
            "Valor de f na solução : 4.6380865801980474e-9\n",
            "----------------------------------------------------------------\n",
            "Método de Quase Newton\n",
            "Melhor solução : [2.0081473470237348, 1.0040660594522226]\n",
            "Valor de f na solução : 4.63810224323956e-9\n",
            "----------------------------------------------------------------\n",
            "Método de Busca Linear Usado: Método de Newton\n",
            "----------------------------------------------------------------\n",
            "Método da Gradiente\n",
            "Melhor solução : [2.028693224146293, 1.014357243140677]\n",
            "Valor de f na solução : 6.782767992586427e-7\n",
            "----------------------------------------------------------------\n",
            "Método de Newton\n",
            "Melhor solução : [1.9944914094830326, 0.9972544784053405]\n",
            "Valor de f na solução : 1.228701604749209e-9\n",
            "----------------------------------------------------------------\n",
            "Método do Gradiente Conjugado\n",
            "Melhor solução : [2.008189390796104, 1.0040870114891156]\n",
            "Valor de f na solução : 4.734034494159106e-9\n",
            "----------------------------------------------------------------\n",
            "Método de Quase Newton\n",
            "Melhor solução : [2.0081546651794593, 1.004069709948672]\n",
            "Valor de f na solução : 4.6544776659875954e-9\n",
            "----------------------------------------------------------------\n",
            "Método de Busca Linear Usado: Condição de Armijo\n",
            "----------------------------------------------------------------\n",
            "Método da Gradiente\n",
            "Melhor solução : [2.02665188360004, 1.0133378796026655]\n",
            "Valor de f na solução : 5.051286659827713e-7\n",
            "----------------------------------------------------------------\n",
            "Método de Newton\n",
            "Melhor solução : [1.9768779601122228, 0.9884389800561114]\n",
            "Valor de f na solução : 2.8582787741446877e-7\n",
            "----------------------------------------------------------------\n",
            "Método do Gradiente Conjugado\n",
            "Melhor solução : [1.9763847026589918, 0.9881978812130919]\n",
            "Valor de f na solução : 3.1113183105436573e-7\n",
            "----------------------------------------------------------------\n",
            "Método de Quase Newton\n",
            "Melhor solução : [2.0137136323648757, 1.0068603014888817]\n",
            "Valor de f na solução : 3.541654945558272e-8\n",
            "----------------------------------------------------------------\n",
            "instancia 2:\n",
            "----------------------------------------------------------------\n",
            "Método de Busca Linear Usado: Seção Aurea\n",
            "----------------------------------------------------------------\n",
            "Método da Gradiente\n",
            "Melhor solução : [1.0000841336750939, 1.0001687580792034]\n",
            "Valor de f na solução : 7.101867069310204e-9\n",
            "----------------------------------------------------------------\n",
            "Método de Newton\n",
            "Melhor solução : [0.999999965523016, 0.9999998709159951]\n",
            "Valor de f na solução : 3.62750810136467e-13\n",
            "----------------------------------------------------------------\n",
            "Método do Gradiente Conjugado\n",
            "Melhor solução : [1.0000000111671055, 1.000000022389576]\n",
            "Valor de f na solução : 1.2501077078382175e-16\n",
            "----------------------------------------------------------------\n",
            "Método de Quase Newton\n",
            "Melhor solução : [0.9999998415809243, 0.9999996882947783]\n",
            "Valor de f na solução : 2.7731274582003034e-14\n",
            "----------------------------------------------------------------\n",
            "Método de Busca Linear Usado: Método de Newton\n",
            "----------------------------------------------------------------\n",
            "Método da Gradiente\n",
            "Melhor solução : [1.0000982230209643, 1.0001969545557612]\n",
            "Valor de f na solução : 9.672648582999265e-9\n",
            "----------------------------------------------------------------\n",
            "Método de Newton\n",
            "Melhor solução : [1.0000000635709596, 1.0000000664518338]\n",
            "Valor de f na solução : 3.723699620247635e-13\n",
            "----------------------------------------------------------------\n",
            "Método do Gradiente Conjugado\n",
            "Melhor solução : [0.9999999466633526, 0.9999998930625945]\n",
            "Valor de f na solução : 2.8517735538419663e-15\n",
            "----------------------------------------------------------------\n",
            "Método de Quase Newton\n",
            "Melhor solução : [0.9999999016722615, 0.999999825896025]\n",
            "Valor de f na solução : 6.052532483692413e-14\n",
            "----------------------------------------------------------------\n",
            "Método de Busca Linear Usado: Condição de Armijo\n",
            "----------------------------------------------------------------\n",
            "Método da Gradiente\n",
            "Melhor solução : [1.0000707864488372, 1.0001416895995703]\n",
            "Valor de f na solução : 5.011968830825379e-9\n",
            "----------------------------------------------------------------\n",
            "Método de Newton\n",
            "Melhor solução : [0.9999863288413037, 0.9999725899968034]\n",
            "Valor de f na solução : 1.8736125050268438e-10\n",
            "----------------------------------------------------------------\n",
            "Método do Gradiente Conjugado\n",
            "Melhor solução : [0.9999613928597925, 0.9999228312671108]\n",
            "Valor de f na solução : 1.4907053770578261e-9\n",
            "----------------------------------------------------------------\n",
            "Método de Quase Newton\n",
            "Melhor solução : [0.9999998770742431, 0.9999997442198411]\n",
            "Valor de f na solução : 2.4968571102062078e-14\n",
            "----------------------------------------------------------------\n",
            "instancia 3:\n",
            "----------------------------------------------------------------\n",
            "Método de Busca Linear Usado: Seção Aurea\n",
            "----------------------------------------------------------------\n",
            "Método da Gradiente\n",
            "Melhor solução : [3.128735223443592, -0.6024183462061982]\n",
            "Valor de f na solução : -5.057151960624211\n",
            "----------------------------------------------------------------\n",
            "Método de Newton\n",
            "Melhor solução : [1.8698891206445696e-23, 1.0000000257427923]\n",
            "Valor de f na solução : 13.453125\n",
            "----------------------------------------------------------------\n",
            "Método do Gradiente Conjugado\n",
            "Melhor solução : [3.128742628614038, -0.6024180239525193]\n",
            "Valor de f na solução : -5.057151960582296\n",
            "----------------------------------------------------------------\n",
            "Método de Quase Newton\n",
            "Melhor solução : [3.1287373670153893, -0.6024182475460674]\n",
            "Valor de f na solução : -5.057151960632495\n",
            "----------------------------------------------------------------\n",
            "Método de Busca Linear Usado: Método de Newton\n",
            "----------------------------------------------------------------\n",
            "Método da Gradiente\n",
            "Melhor solução : [3.1287352028209146, -0.6024184254870121]\n",
            "Valor de f na solução : -5.0571519606238295\n",
            "----------------------------------------------------------------\n",
            "Método de Newton\n",
            "Melhor solução : [0.0, 1.0000000257427324]\n",
            "Valor de f na solução : 13.453125\n",
            "----------------------------------------------------------------\n",
            "Método do Gradiente Conjugado\n",
            "Melhor solução : [6.773108601416899e-8, -338.18991582501934]\n",
            "Valor de f na solução : 6.5896537349574755\n",
            "----------------------------------------------------------------\n",
            "Método de Quase Newton\n",
            "Melhor solução : [3.1287373657964417, -0.6024182480536967]\n",
            "Valor de f na solução : -5.057151960632494\n",
            "----------------------------------------------------------------\n",
            "Método de Busca Linear Usado: Condição de Armijo\n",
            "----------------------------------------------------------------\n",
            "Método da Gradiente\n",
            "Melhor solução : [3.128752764345317, -0.6024166153841736]\n",
            "Valor de f na solução : -5.05715196017133\n",
            "----------------------------------------------------------------\n",
            "Método de Newton\n",
            "Melhor solução : [0.0, 1.0000000257427324]\n",
            "Valor de f na solução : 13.453125\n",
            "----------------------------------------------------------------\n",
            "Método do Gradiente Conjugado\n",
            "Melhor solução : [3.1287299140256137, -0.6024191478137798]\n",
            "Valor de f na solução : -5.057151960520517\n",
            "----------------------------------------------------------------\n",
            "Método de Quase Newton\n",
            "Melhor solução : [3.128737505427481, -0.6024177945713456]\n",
            "Valor de f na solução : -5.057151960624901\n",
            "----------------------------------------------------------------\n",
            "instancia 4:\n",
            "----------------------------------------------------------------\n",
            "Método de Busca Linear Usado: Seção Aurea\n",
            "----------------------------------------------------------------\n",
            "Método da Gradiente\n",
            "Melhor solução : [11.412859591473364, -0.896800464571201]\n",
            "Valor de f na solução : 48.98425368191556\n",
            "----------------------------------------------------------------\n",
            "Método de Newton\n",
            "Melhor solução : [11.412778924598863, -0.8968052543634565]\n",
            "Valor de f na solução : 48.98425367924002\n",
            "----------------------------------------------------------------\n",
            "Método do Gradiente Conjugado\n",
            "Melhor solução : [11.412783875317597, -0.8968050657933547]\n",
            "Valor de f na solução : 48.984253679254536\n",
            "----------------------------------------------------------------\n",
            "Método de Quase Newton\n",
            "Melhor solução : [11.412783515134125, -0.8968050838773837]\n",
            "Valor de f na solução : 48.984253679252916\n",
            "----------------------------------------------------------------\n",
            "Método de Busca Linear Usado: Método de Newton\n",
            "----------------------------------------------------------------\n",
            "Método da Gradiente\n",
            "Melhor solução : [5.000028031565052, 3.9999995195985636]\n",
            "Valor de f na solução : 1.1398716032486536e-9\n",
            "----------------------------------------------------------------\n",
            "Método de Newton\n",
            "Melhor solução : [11.412778897198613, -0.8968052611327226]\n",
            "Valor de f na solução : 48.98425367924001\n",
            "----------------------------------------------------------------\n",
            "Método do Gradiente Conjugado\n",
            "Melhor solução : [4.999999999755535, 3.999999999997393]\n",
            "Valor de f na solução : 1.7298188579764838e-19\n",
            "----------------------------------------------------------------\n",
            "Método de Quase Newton\n",
            "Melhor solução : [4.999999678405315, 4.000000006064546]\n",
            "Valor de f na solução : 1.5058096376544588e-13\n",
            "----------------------------------------------------------------\n",
            "Método de Busca Linear Usado: Condição de Armijo\n",
            "----------------------------------------------------------------\n",
            "Método da Gradiente\n",
            "Melhor solução : [11.412859482990637, -0.8968003901403515]\n",
            "Valor de f na solução : 48.98425368191176\n",
            "----------------------------------------------------------------\n",
            "Método de Newton\n",
            "Melhor solução : [11.412778905444904, -0.8968052617125944]\n",
            "Valor de f na solução : 48.984253679240055\n",
            "----------------------------------------------------------------\n",
            "Método do Gradiente Conjugado\n",
            "Melhor solução : [4.999991882872304, 4.000000120167337]\n",
            "Valor de f na solução : 9.626556535492628e-11\n",
            "----------------------------------------------------------------\n",
            "Método de Quase Newton\n",
            "Melhor solução : [11.412779309973189, -0.8968052250663022]\n",
            "Valor de f na solução : 48.984253679240126\n",
            "----------------------------------------------------------------\n",
            "instancia 5:\n",
            "----------------------------------------------------------------\n",
            "Método de Busca Linear Usado: Seção Aurea\n",
            "----------------------------------------------------------------\n",
            "Método da Gradiente\n",
            "Melhor solução : [1.0000559720951359, 1.0000559720950326, 1.0001122085832441]\n",
            "Valor de f na solução : 6.2725765454663074e-9\n",
            "----------------------------------------------------------------\n",
            "Método de Newton\n",
            "Melhor solução : [1.0000000931720026, 1.0000001697254244, 1.0000002629387559]\n",
            "Valor de f na solução : 3.74879124070978e-14\n",
            "----------------------------------------------------------------\n",
            "Método do Gradiente Conjugado\n",
            "Melhor solução : [1.0000007027232793, 0.9999991712098528, 0.999999876134996]\n",
            "Valor de f na solução : 1.1811979340525262e-12\n",
            "----------------------------------------------------------------\n",
            "Método de Quase Newton\n",
            "Melhor solução : [1.0000056324685829, 0.9999796501854512, 0.999985255443021]\n",
            "Valor de f na solução : 4.459139934193211e-10\n",
            "----------------------------------------------------------------\n",
            "Método de Busca Linear Usado: Método de Newton\n",
            "----------------------------------------------------------------\n",
            "Método da Gradiente\n",
            "Melhor solução : [0.999949279391135, 0.9999492793902233, 0.9998980627129006]\n",
            "Valor de f na solução : 5.170024708230077e-9\n",
            "----------------------------------------------------------------\n",
            "Método de Newton\n",
            "Melhor solução : [1.000000142656286, 1.000000142656286, 1.0000002813352955]\n",
            "Valor de f na solução : 4.228352072614272e-14\n",
            "----------------------------------------------------------------\n",
            "Método do Gradiente Conjugado\n",
            "Melhor solução : [0.9999353675877346, 0.9999614096421303, 0.9998961480613571]\n",
            "Valor de f na solução : 5.706485634094193e-9\n",
            "----------------------------------------------------------------\n",
            "Método de Quase Newton\n",
            "Melhor solução : [1.000005632216855, 0.9999796890372052, 0.99998529527967]\n",
            "Valor de f na solução : 4.4432482336449995e-10\n",
            "----------------------------------------------------------------\n",
            "Método de Busca Linear Usado: Condição de Armijo\n",
            "----------------------------------------------------------------\n",
            "Método da Gradiente\n",
            "Melhor solução : [0.9999606198096178, 0.9999606198149855, 0.9999211908486427]\n",
            "Valor de f na solução : 3.101851644586935e-9\n",
            "----------------------------------------------------------------\n",
            "Método de Newton\n",
            "Melhor solução : [0.9999999612690533, 0.9999999612690533, 0.9999999221892637]\n",
            "Valor de f na solução : 3.01234170936249e-15\n",
            "----------------------------------------------------------------\n",
            "Método do Gradiente Conjugado\n",
            "Melhor solução : [1.000218907418259, 1.0000617897656818, 1.000284307708624]\n",
            "Valor de f na solução : 5.302783673464355e-8\n",
            "----------------------------------------------------------------\n",
            "Método de Quase Newton\n",
            "Melhor solução : [1.0000011920211644, 1.0000012234280915, 1.0000025647959099]\n",
            "Valor de f na solução : 5.148089494750321e-12\n",
            "----------------------------------------------------------------\n"
          ],
          "name": "stdout"
        }
      ]
    },
    {
      "cell_type": "markdown",
      "metadata": {
        "id": "hs3ALT6jtkxM"
      },
      "source": [
        "Podemos ver que conseguimos convergir para ótimos globais na maioria das instâncias. Porém veja que em instâncias onde temos fatores não quadráticos, o algoritmo de newton e gradiente conjugado podem não convergir para um minimo global. Outro fator que pode interferir são os métodos de busca linear, como pode ser visto, na instância 4 o método da seção áurea gerou um mínimo local que é pior para todos os algoritmos. Fato dado que o método da seção áurea possui dependência por intervalos unimodais.\n",
        "\n",
        "Para melhorar a convergência podemos utilizar condições para busca linear mais fortes como a de Wolfe. E utilizar métodos modificados para lidar com carateristicas específicas de funções."
      ]
    },
    {
      "cell_type": "markdown",
      "metadata": {
        "id": "b0dbN--pEjql"
      },
      "source": [
        "#Referências\n",
        " $[1]$ **Ademir A.R.** e **Elizabeth W.K.** (2011). *Um Curso De Otimização. Curitiba.*"
      ]
    }
  ]
}